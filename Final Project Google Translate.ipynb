{
 "cells": [
  {
   "cell_type": "markdown",
   "id": "6aede72a",
   "metadata": {},
   "source": [
    "# Google Notebook\n",
    "## Importing Libraries and Data"
   ]
  },
  {
   "cell_type": "code",
   "execution_count": 1,
   "id": "3e92fb17-f49f-4a60-b8b5-1fdf19adeb6d",
   "metadata": {},
   "outputs": [],
   "source": [
    "import pandas as pd\n",
    "import s3fs\n",
    "import boto3\n",
    "from nltk.translate.bleu_score import sentence_bleu"
   ]
  },
  {
   "cell_type": "code",
   "execution_count": 3,
   "id": "d1cb1b4b-7010-4d15-979a-c555ae1eeb8a",
   "metadata": {},
   "outputs": [],
   "source": [
    "translate=boto3.client(\"translate\")"
   ]
  },
  {
   "cell_type": "code",
   "execution_count": 75,
   "id": "20c58cbd",
   "metadata": {},
   "outputs": [],
   "source": [
    "fs = s3fs.S3FileSystem()"
   ]
  },
  {
   "cell_type": "code",
   "execution_count": 76,
   "id": "8f8ffe95",
   "metadata": {},
   "outputs": [],
   "source": [
    "file = fs.open('s3://example-mallik/tableConvert_5.csv')"
   ]
  },
  {
   "cell_type": "code",
   "execution_count": 77,
   "id": "0b2b2ce1",
   "metadata": {},
   "outputs": [],
   "source": [
    "data = pd.read_csv(file)"
   ]
  },
  {
   "cell_type": "code",
   "execution_count": 78,
   "id": "a5d420a1",
   "metadata": {
    "scrolled": true
   },
   "outputs": [
    {
     "data": {
      "text/html": [
       "<div>\n",
       "<style scoped>\n",
       "    .dataframe tbody tr th:only-of-type {\n",
       "        vertical-align: middle;\n",
       "    }\n",
       "\n",
       "    .dataframe tbody tr th {\n",
       "        vertical-align: top;\n",
       "    }\n",
       "\n",
       "    .dataframe thead th {\n",
       "        text-align: right;\n",
       "    }\n",
       "</style>\n",
       "<table border=\"1\" class=\"dataframe\">\n",
       "  <thead>\n",
       "    <tr style=\"text-align: right;\">\n",
       "      <th></th>\n",
       "      <th>Language</th>\n",
       "      <th>Informal_Text_1</th>\n",
       "      <th>Informal_Text_2</th>\n",
       "      <th>Formal_Text_1</th>\n",
       "      <th>Formal_Text_2</th>\n",
       "    </tr>\n",
       "  </thead>\n",
       "  <tbody>\n",
       "    <tr>\n",
       "      <th>0</th>\n",
       "      <td>English</td>\n",
       "      <td>In my younger and more vulnerable years my fat...</td>\n",
       "      <td>I had a dog — at least I had him for a few day...</td>\n",
       "      <td>In consequence, I’m inclined to reserve all ju...</td>\n",
       "      <td>Almost any exhibition of complete self suffici...</td>\n",
       "    </tr>\n",
       "    <tr>\n",
       "      <th>1</th>\n",
       "      <td>Chinese</td>\n",
       "      <td>我年纪还轻，阅历不深的时候，我父亲教导过我一句话，我至今还念念不忘。“每逢你想要批评任何人的...</td>\n",
       "      <td>我有一条狗——至少在它跑掉以前我养了它几天——一辆旧道吉汽车和一个芬兰女佣人，她替我收拾床铺...</td>\n",
       "      <td>久而久之，我就惯于对所有的人都保留判断，这个习惯既使得许多有怪僻的人肯跟我讲心里话，也使我成...</td>\n",
       "      <td>这种几乎是完全我行我素的神情总是使我感到目瞪口呆，满心赞佩。</td>\n",
       "    </tr>\n",
       "    <tr>\n",
       "      <th>2</th>\n",
       "      <td>Spanish</td>\n",
       "      <td>En mis años mozos y más vulnerables mi padre m...</td>\n",
       "      <td>Tenía un perro -o al menos lo tuve durante var...</td>\n",
       "      <td>En consecuencia, soy una persona dada a reserv...</td>\n",
       "      <td>Casi cualquier exhibición de total autosuficie...</td>\n",
       "    </tr>\n",
       "    <tr>\n",
       "      <th>3</th>\n",
       "      <td>French</td>\n",
       "      <td>Quand j’étais plus jeune, ce qui veut dire plu...</td>\n",
       "      <td>J’avais un chien – du moins je l’eus pendant q...</td>\n",
       "      <td>En conséquence, je suis porté à réserver mes j...</td>\n",
       "      <td>N’importe quelle exhibition d’assurance m’exto...</td>\n",
       "    </tr>\n",
       "  </tbody>\n",
       "</table>\n",
       "</div>"
      ],
      "text/plain": [
       "  Language                                    Informal_Text_1  \\\n",
       "0  English  In my younger and more vulnerable years my fat...   \n",
       "1  Chinese  我年纪还轻，阅历不深的时候，我父亲教导过我一句话，我至今还念念不忘。“每逢你想要批评任何人的...   \n",
       "2  Spanish  En mis años mozos y más vulnerables mi padre m...   \n",
       "3   French  Quand j’étais plus jeune, ce qui veut dire plu...   \n",
       "\n",
       "                                     Informal_Text_2  \\\n",
       "0  I had a dog — at least I had him for a few day...   \n",
       "1  我有一条狗——至少在它跑掉以前我养了它几天——一辆旧道吉汽车和一个芬兰女佣人，她替我收拾床铺...   \n",
       "2  Tenía un perro -o al menos lo tuve durante var...   \n",
       "3  J’avais un chien – du moins je l’eus pendant q...   \n",
       "\n",
       "                                       Formal_Text_1  \\\n",
       "0  In consequence, I’m inclined to reserve all ju...   \n",
       "1  久而久之，我就惯于对所有的人都保留判断，这个习惯既使得许多有怪僻的人肯跟我讲心里话，也使我成...   \n",
       "2  En consecuencia, soy una persona dada a reserv...   \n",
       "3  En conséquence, je suis porté à réserver mes j...   \n",
       "\n",
       "                                       Formal_Text_2  \n",
       "0  Almost any exhibition of complete self suffici...  \n",
       "1                     这种几乎是完全我行我素的神情总是使我感到目瞪口呆，满心赞佩。  \n",
       "2  Casi cualquier exhibición de total autosuficie...  \n",
       "3  N’importe quelle exhibition d’assurance m’exto...  "
      ]
     },
     "execution_count": 78,
     "metadata": {},
     "output_type": "execute_result"
    }
   ],
   "source": [
    "data"
   ]
  },
  {
   "cell_type": "markdown",
   "id": "06a35b77-7d92-4ad8-881b-71612b4c570a",
   "metadata": {},
   "source": [
    "We will take the Chinese, Spanish, and French translation of the same sentence and translate this sentence into English. We will do this in both Google Translate and AWS Translate."
   ]
  },
  {
   "cell_type": "code",
   "execution_count": 22,
   "id": "1746e75b",
   "metadata": {},
   "outputs": [],
   "source": [
    "translate=boto3.client(\"translate\")"
   ]
  },
  {
   "cell_type": "markdown",
   "id": "d629104c",
   "metadata": {},
   "source": [
    "# Informal"
   ]
  },
  {
   "cell_type": "markdown",
   "id": "1255b5b7-2d3a-460f-ae68-3cf529a76b05",
   "metadata": {},
   "source": [
    "# Informal Text 1"
   ]
  },
  {
   "cell_type": "markdown",
   "id": "db722a4c-fb80-487b-bdb8-630d377f948b",
   "metadata": {},
   "source": [
    "**The original text in English is:**\n",
    "In my younger and more vulnerable years my father gave me some advice that I’ve been turning over in my mind ever since. “Whenever you feel like criticizing any one,” he told me, “just remember that all the people in this world haven’t had the advantages that you’ve had.”"
   ]
  },
  {
   "cell_type": "markdown",
   "id": "10c0920e",
   "metadata": {},
   "source": [
    "## Chinese to English\n"
   ]
  },
  {
   "cell_type": "markdown",
   "id": "7f2641b1",
   "metadata": {},
   "source": [
    "Retrieving and translating the text data "
   ]
  },
  {
   "cell_type": "markdown",
   "id": "2a97add4-4aeb-49bc-8f5b-91d54627a59a",
   "metadata": {
    "tags": []
   },
   "source": [
    "**The text in Chinese is:**\n",
    "\"我年纪还轻，阅历不深的时候，我父亲教导过我一句话，我至今还念念不忘。“每逢你想要批评任何人的时候，”他对我说，“你就记住，这个世界上所有的人，并不是个个都有过你拥有的那些优越条件。”"
   ]
  },
  {
   "cell_type": "markdown",
   "id": "a9f0e0f5",
   "metadata": {},
   "source": [
    "**The Google translation is:** When I was young and inexperienced, my father taught me a word, which I still cannot forget. \"Whenever you feel like criticizing anyone,\" he said to me, \"just remember that not everyone in this world has had the advantages you have."
   ]
  },
  {
   "cell_type": "markdown",
   "id": "b94ee968-8613-4fde-834f-57716370b6a2",
   "metadata": {},
   "source": [
    "#### Qualitative Analysis:"
   ]
  },
  {
   "cell_type": "markdown",
   "id": "69288068-0bfc-43fc-8dc6-1bfde6df0744",
   "metadata": {},
   "source": [
    "Based on our judgement as English speakers, we feel this translation was pretty accurate and conveyed the meaning well enough. We would score it a \n",
    "**8.5/10.**"
   ]
  },
  {
   "cell_type": "markdown",
   "id": "c02ed05a-4fcc-4d27-a80d-4ded1eff18fb",
   "metadata": {},
   "source": [
    "#### Quantitative Analysis"
   ]
  },
  {
   "cell_type": "markdown",
   "id": "fd57ebfc",
   "metadata": {},
   "source": [
    "**1) Percentage of words matching with original text**"
   ]
  },
  {
   "cell_type": "markdown",
   "id": "1b26796e",
   "metadata": {},
   "source": [
    "First, we converted the original text to lowercase and removed special characters. This is to ensure a more fair and accurate comparison."
   ]
  },
  {
   "cell_type": "code",
   "execution_count": 11,
   "id": "65836799-848f-4d2e-bf51-f85a3c1ba185",
   "metadata": {},
   "outputs": [],
   "source": [
    "eng_text = data['Informal_Text_1'].iloc[0]"
   ]
  },
  {
   "cell_type": "code",
   "execution_count": 12,
   "id": "dcc56219-6c50-4e6c-881c-1a7041f09b41",
   "metadata": {
    "scrolled": true
   },
   "outputs": [
    {
     "name": "stdout",
     "output_type": "stream",
     "text": [
      "in my younger and more vulnerable years my father gave me some advice that i’ve been turning over in my mind ever since whenever you feel like criticizing any one he told me just remember that all the people in this world haven’t had the advantages that you’ve had\n"
     ]
    }
   ],
   "source": [
    "special_characters=[',','.',':','?','!', \"”\", \"“\"]\n",
    "for i in special_characters:\n",
    "    eng_text=eng_text.replace(i,\"\")\n",
    "    \n",
    "eng_text = eng_text.lower()\n",
    "print(eng_text)"
   ]
  },
  {
   "cell_type": "markdown",
   "id": "cd45ea1f",
   "metadata": {},
   "source": [
    "Then, converted to a list"
   ]
  },
  {
   "cell_type": "code",
   "execution_count": 13,
   "id": "c644ceae-0b89-46e8-a7ef-c307a6c6780c",
   "metadata": {},
   "outputs": [
    {
     "name": "stdout",
     "output_type": "stream",
     "text": [
      "['in', 'my', 'younger', 'and', 'more', 'vulnerable', 'years', 'my', 'father', 'gave', 'me', 'some', 'advice', 'that', 'i’ve', 'been', 'turning', 'over', 'in', 'my', 'mind', 'ever', 'since', 'whenever', 'you', 'feel', 'like', 'criticizing', 'any', 'one', 'he', 'told', 'me', 'just', 'remember', 'that', 'all', 'the', 'people', 'in', 'this', 'world', 'haven’t', 'had', 'the', 'advantages', 'that', 'you’ve', 'had']\n"
     ]
    }
   ],
   "source": [
    "eng_text_words = eng_text.split(\" \")\n",
    "print(eng_text_words)"
   ]
  },
  {
   "cell_type": "markdown",
   "id": "8889e72a",
   "metadata": {},
   "source": [
    "Next, converted the translated text to lowercase and removed special characters"
   ]
  },
  {
   "cell_type": "code",
   "execution_count": 5,
   "id": "75f18c9a-1190-4558-850b-ddac47b40f79",
   "metadata": {},
   "outputs": [],
   "source": [
    "trans_text = \"When I was young and inexperienced, my father taught me a word, which I still cannot forget. 'Whenever you feel like criticizing anyone,' he said to me, 'just remember that not everyone in this world has had the advantages you have.'\""
   ]
  },
  {
   "cell_type": "code",
   "execution_count": 6,
   "id": "f28e842e-8ea8-4979-951d-6bccfb32f866",
   "metadata": {
    "scrolled": true
   },
   "outputs": [
    {
     "name": "stdout",
     "output_type": "stream",
     "text": [
      "when i was young and inexperienced my father taught me a word which i still cannot forget 'whenever you feel like criticizing anyone' he said to me 'just remember that not everyone in this world has had the advantages you have'\n"
     ]
    }
   ],
   "source": [
    "special_characters=[',','.',':','?','!', \"”\", \"“\"]\n",
    "for i in special_characters:\n",
    "    trans_text=trans_text.replace(i,\"\")\n",
    "    \n",
    "trans_text = trans_text.lower()\n",
    "print(trans_text)"
   ]
  },
  {
   "cell_type": "markdown",
   "id": "8c70e350",
   "metadata": {},
   "source": [
    "Then, converted this to a list too."
   ]
  },
  {
   "cell_type": "code",
   "execution_count": 7,
   "id": "ca8f3c07-80b6-4829-8361-b6eef3b75261",
   "metadata": {
    "scrolled": true
   },
   "outputs": [
    {
     "name": "stdout",
     "output_type": "stream",
     "text": [
      "['when', 'i', 'was', 'young', 'and', 'inexperienced', 'my', 'father', 'taught', 'me', 'a', 'word', 'which', 'i', 'still', 'cannot', 'forget', \"'whenever\", 'you', 'feel', 'like', 'criticizing', \"anyone'\", 'he', 'said', 'to', 'me', \"'just\", 'remember', 'that', 'not', 'everyone', 'in', 'this', 'world', 'has', 'had', 'the', 'advantages', 'you', \"have'\"]\n"
     ]
    }
   ],
   "source": [
    "trans_text_words = trans_text.split(\" \")\n",
    "print(trans_text_words)"
   ]
  },
  {
   "cell_type": "markdown",
   "id": "67fb15f2",
   "metadata": {},
   "source": [
    "Finally, we checked the percentage of words from translated text that matched the original text."
   ]
  },
  {
   "cell_type": "code",
   "execution_count": 8,
   "id": "3a121e15-64c2-4a0c-aa0e-65d9d399bb20",
   "metadata": {
    "scrolled": true
   },
   "outputs": [
    {
     "name": "stdout",
     "output_type": "stream",
     "text": [
      "0.4634146341463415\n"
     ]
    }
   ],
   "source": [
    "acc = 0\n",
    "tot = 0\n",
    "for word in trans_text_words:\n",
    "    if word in eng_text_words:\n",
    "        acc += 1\n",
    "    tot += 1\n",
    "    \n",
    "score = acc / tot\n",
    "print(score)\n",
    "    "
   ]
  },
  {
   "cell_type": "markdown",
   "id": "2b43765c",
   "metadata": {},
   "source": [
    "We also checked the BLEU Score."
   ]
  },
  {
   "cell_type": "markdown",
   "id": "a59d234b",
   "metadata": {},
   "source": [
    "**2) BLEU Score**"
   ]
  },
  {
   "cell_type": "code",
   "execution_count": 13,
   "id": "123cc81d",
   "metadata": {},
   "outputs": [
    {
     "name": "stdout",
     "output_type": "stream",
     "text": [
      "BLEU score -> 0.10624793541906809\n"
     ]
    }
   ],
   "source": [
    "reference = [\n",
    "    trans_text.split()\n",
    "]\n",
    "\n",
    "candidate = eng_text.split()\n",
    "print('BLEU score -> {}'.format(sentence_bleu(reference, candidate)))"
   ]
  },
  {
   "cell_type": "markdown",
   "id": "cfff7556",
   "metadata": {},
   "source": [
    "This indicates that the Chinese to English translation using the Google API did not perform too well."
   ]
  },
  {
   "cell_type": "markdown",
   "id": "21991457",
   "metadata": {},
   "source": [
    "## Spanish to English\n"
   ]
  },
  {
   "cell_type": "markdown",
   "id": "bbe95d85",
   "metadata": {},
   "source": [
    "Retrieving and translating the text data"
   ]
  },
  {
   "cell_type": "markdown",
   "id": "7b4259de-7925-4c22-82ce-11d0d3f65fd2",
   "metadata": {
    "tags": []
   },
   "source": [
    "**The text in Spanish is:**\n",
    "\"En mis años mozos y más vulnerables mi padre me dio un consejo que desde aquella época no ha dejado de darme vueltas en la cabeza. 'Cuando sientas deseos de criticar a alguien' -fueron sus palabras- 'recuerda que no todo el mundo ha tenido las mismas oportunidades que tú tuviste.'\""
   ]
  },
  {
   "cell_type": "markdown",
   "id": "2eecfa21",
   "metadata": {},
   "source": [
    "**The Google translation is:** In my younger and more vulnerable years my father gave me a piece of advice that has been on my mind ever since. \"When you feel like criticizing someone\" -were his words- \"remember that not everyone has had the same opportunities that you had.\""
   ]
  },
  {
   "cell_type": "markdown",
   "id": "f19bd8e6",
   "metadata": {},
   "source": [
    "#### Qualitative Analysis:"
   ]
  },
  {
   "cell_type": "markdown",
   "id": "da76204f",
   "metadata": {},
   "source": [
    "Based on our judgement as English speakers, we feel this translation was pretty accurate and conveyed the meaning well enough. We would score it a \n",
    "**9/10.**"
   ]
  },
  {
   "cell_type": "markdown",
   "id": "361231fb",
   "metadata": {},
   "source": [
    "#### Quantitative Analysis"
   ]
  },
  {
   "cell_type": "markdown",
   "id": "083d8479",
   "metadata": {},
   "source": [
    "**1) Percentage of words matching with original text**"
   ]
  },
  {
   "cell_type": "markdown",
   "id": "78a75801",
   "metadata": {},
   "source": [
    "First, we converted the original text to lowercase and removed special characters. This is to ensure a more fair and accurate comparison."
   ]
  },
  {
   "cell_type": "code",
   "execution_count": 1,
   "id": "13c3a34b",
   "metadata": {},
   "outputs": [],
   "source": [
    "eng_text = data['Informal_Text_1'].iloc[0]First, we converted the original text to lowercase and removed special characters. This is to ensure a more fair and accurate comparison."
   ]
  },
  {
   "cell_type": "code",
   "execution_count": 2,
   "id": "7b26ce3a",
   "metadata": {},
   "outputs": [
    {
     "name": "stdout",
     "output_type": "stream",
     "text": [
      "in my younger and more vulnerable years my father gave me some advice that i’ve been turning over in my mind ever since whenever you feel like criticizing any one he told me just remember that all the people in this world haven’t had the advantages that you’ve had\n"
     ]
    }
   ],
   "source": [
    "special_characters=[',','.',':','?','!', \"”\", \"“\"]\n",
    "for i in special_characters:\n",
    "    eng_text=eng_text.replace(i,\"\")\n",
    "    \n",
    "eng_text = eng_text.lower()\n",
    "print(eng_text)"
   ]
  },
  {
   "cell_type": "markdown",
   "id": "200a6df6",
   "metadata": {},
   "source": [
    "Then, converted to a list"
   ]
  },
  {
   "cell_type": "code",
   "execution_count": 3,
   "id": "65805020",
   "metadata": {
    "scrolled": true
   },
   "outputs": [
    {
     "name": "stdout",
     "output_type": "stream",
     "text": [
      "['in', 'my', 'younger', 'and', 'more', 'vulnerable', 'years', 'my', 'father', 'gave', 'me', 'some', 'advice', 'that', 'i’ve', 'been', 'turning', 'over', 'in', 'my', 'mind', 'ever', 'since', 'whenever', 'you', 'feel', 'like', 'criticizing', 'any', 'one', 'he', 'told', 'me', 'just', 'remember', 'that', 'all', 'the', 'people', 'in', 'this', 'world', 'haven’t', 'had', 'the', 'advantages', 'that', 'you’ve', 'had']\n"
     ]
    }
   ],
   "source": [
    "eng_text_words = eng_text.split(\" \")\n",
    "print(eng_text_words)"
   ]
  },
  {
   "cell_type": "markdown",
   "id": "ab143bf5",
   "metadata": {},
   "source": [
    "Next, converted the translated text to lowercase and removed special characters"
   ]
  },
  {
   "cell_type": "code",
   "execution_count": 14,
   "id": "c48274cc",
   "metadata": {},
   "outputs": [],
   "source": [
    "trans_text = \"In my younger and more vulnerable years my father gave me a piece of advice that has been on my mind ever since. 'When you feel like criticizing someone' -were his words- 'remember that not everyone has had the same opportunities that you had.'\"\n",
    "\n"
   ]
  },
  {
   "cell_type": "code",
   "execution_count": 15,
   "id": "79144f76",
   "metadata": {},
   "outputs": [
    {
     "name": "stdout",
     "output_type": "stream",
     "text": [
      "in my younger and more vulnerable years my father gave me a piece of advice that has been on my mind ever since 'when you feel like criticizing someone' -were his words- 'remember that not everyone has had the same opportunities that you had'\n"
     ]
    }
   ],
   "source": [
    "special_characters=[',','.',':','?','!', \"”\", \"“\"]\n",
    "for i in special_characters:\n",
    "    trans_text=trans_text.replace(i,\"\")\n",
    "    \n",
    "trans_text = trans_text.lower()\n",
    "print(trans_text)"
   ]
  },
  {
   "cell_type": "markdown",
   "id": "b548a5ff",
   "metadata": {},
   "source": [
    "Then, converted this to a list too."
   ]
  },
  {
   "cell_type": "code",
   "execution_count": 16,
   "id": "c9b9080e",
   "metadata": {},
   "outputs": [
    {
     "name": "stdout",
     "output_type": "stream",
     "text": [
      "['in', 'my', 'younger', 'and', 'more', 'vulnerable', 'years', 'my', 'father', 'gave', 'me', 'a', 'piece', 'of', 'advice', 'that', 'has', 'been', 'on', 'my', 'mind', 'ever', 'since', \"'when\", 'you', 'feel', 'like', 'criticizing', \"someone'\", '-were', 'his', 'words-', \"'remember\", 'that', 'not', 'everyone', 'has', 'had', 'the', 'same', 'opportunities', 'that', 'you', \"had'\"]\n"
     ]
    }
   ],
   "source": [
    "trans_text_words = trans_text.split(\" \")\n",
    "print(trans_text_words)"
   ]
  },
  {
   "cell_type": "markdown",
   "id": "1a4210eb",
   "metadata": {},
   "source": [
    "Finally, we checked the percentage of words from translated text that matched the original text."
   ]
  },
  {
   "cell_type": "code",
   "execution_count": 17,
   "id": "a570b51b",
   "metadata": {},
   "outputs": [
    {
     "name": "stdout",
     "output_type": "stream",
     "text": [
      "0.6136363636363636\n"
     ]
    }
   ],
   "source": [
    "Finally, we checked the percentage of words from translated text that matched the original text.acc = 0\n",
    "tot = 0\n",
    "for word in trans_text_words:\n",
    "    if word in eng_text_words:\n",
    "        acc += 1\n",
    "    tot += 1\n",
    "    \n",
    "score = acc / tot\n",
    "print(score)\n",
    "    "
   ]
  },
  {
   "cell_type": "markdown",
   "id": "b58dcbe6",
   "metadata": {},
   "source": [
    "We also checked the BLEU Score."
   ]
  },
  {
   "cell_type": "markdown",
   "id": "e400ce02",
   "metadata": {},
   "source": [
    "**2) BLEU Score**"
   ]
  },
  {
   "cell_type": "code",
   "execution_count": 18,
   "id": "0c06135c",
   "metadata": {},
   "outputs": [
    {
     "name": "stdout",
     "output_type": "stream",
     "text": [
      "BLEU score -> 0.3307303493291697\n"
     ]
    }
   ],
   "source": [
    "reference = [\n",
    "    trans_text.split()\n",
    "]\n",
    "\n",
    "candidate = eng_text.split()\n",
    "print('BLEU score -> {}'.format(sentence_bleu(reference, candidate)))"
   ]
  },
  {
   "cell_type": "markdown",
   "id": "cf87dedc",
   "metadata": {},
   "source": [
    "This indicates that the Spanish to English translation using the Google API didn't perform too well, but better than other translations."
   ]
  },
  {
   "cell_type": "markdown",
   "id": "cff63933",
   "metadata": {},
   "source": [
    "## French to English\n"
   ]
  },
  {
   "cell_type": "markdown",
   "id": "b6ad3d33",
   "metadata": {},
   "source": [
    "Retrieving and translating the text data"
   ]
  },
  {
   "cell_type": "markdown",
   "id": "8811a1b4-11a1-4e2a-9045-121a3daa9ae1",
   "metadata": {
    "tags": []
   },
   "source": [
    "**The text in French is:**\n",
    "Quand j’étais plus jeune, ce qui veut dire plus vulnérable, mon père me donna un conseil que je ne cesse de retourner dans mon esprit : – Quand tu auras envie de critiquer quelqu’un, songe que tout le monde n’a pas joui des mêmes avantages que toi.\n"
   ]
  },
  {
   "cell_type": "markdown",
   "id": "aa86f403",
   "metadata": {},
   "source": [
    "**The Google translation is:** When I was younger, which means more vulnerable, my father gave me advice that I keep returning to my mind: - When you want to criticize someone, remember that not everyone has enjoy the same benefits as you."
   ]
  },
  {
   "cell_type": "markdown",
   "id": "4c1007e0",
   "metadata": {},
   "source": [
    "#### Qualitative Analysis:"
   ]
  },
  {
   "cell_type": "markdown",
   "id": "64515e2a",
   "metadata": {},
   "source": [
    "Based on our judgement as English speakers, we feel this translation was pretty accurate and conveyed the meaning well enough. We would score it a \n",
    "**8/10.**"
   ]
  },
  {
   "cell_type": "markdown",
   "id": "3b60618a",
   "metadata": {},
   "source": [
    "#### Quantitative Analysis"
   ]
  },
  {
   "cell_type": "markdown",
   "id": "ca11133b",
   "metadata": {},
   "source": [
    "**1) Percentage of words matching with original text**"
   ]
  },
  {
   "cell_type": "markdown",
   "id": "4613a4c2",
   "metadata": {},
   "source": [
    "First, we converted the original text to lowercase and removed special characters. This is to ensure a more fair and accurate comparison."
   ]
  },
  {
   "cell_type": "code",
   "execution_count": 1,
   "id": "a7392339",
   "metadata": {},
   "outputs": [],
   "source": [
    "eng_text = data['Informal_Text_1'].iloc[0]"
   ]
  },
  {
   "cell_type": "code",
   "execution_count": 2,
   "id": "22df40f4",
   "metadata": {},
   "outputs": [
    {
     "name": "stdout",
     "output_type": "stream",
     "text": [
      "in my younger and more vulnerable years my father gave me some advice that i’ve been turning over in my mind ever since whenever you feel like criticizing any one he told me just remember that all the people in this world haven’t had the advantages that you’ve had\n"
     ]
    }
   ],
   "source": [
    "special_characters=[',','.',':','?','!', \"”\", \"“\"]\n",
    "for i in special_characters:\n",
    "    eng_text=eng_text.replace(i,\"\")\n",
    "    \n",
    "eng_text = eng_text.lower()\n",
    "print(eng_text)"
   ]
  },
  {
   "cell_type": "markdown",
   "id": "0636f261",
   "metadata": {},
   "source": [
    "Then, converted to a list"
   ]
  },
  {
   "cell_type": "code",
   "execution_count": 3,
   "id": "9ded7dbb",
   "metadata": {},
   "outputs": [
    {
     "name": "stdout",
     "output_type": "stream",
     "text": [
      "['in', 'my', 'younger', 'and', 'more', 'vulnerable', 'years', 'my', 'father', 'gave', 'me', 'some', 'advice', 'that', 'i’ve', 'been', 'turning', 'over', 'in', 'my', 'mind', 'ever', 'since', 'whenever', 'you', 'feel', 'like', 'criticizing', 'any', 'one', 'he', 'told', 'me', 'just', 'remember', 'that', 'all', 'the', 'people', 'in', 'this', 'world', 'haven’t', 'had', 'the', 'advantages', 'that', 'you’ve', 'had']\n"
     ]
    }
   ],
   "source": [
    "eng_text_words = eng_text.split(\" \")\n",
    "print(eng_text_words)"
   ]
  },
  {
   "cell_type": "markdown",
   "id": "2bae25a5",
   "metadata": {},
   "source": [
    "Next, converted the translated text to lowercase and removed special characters"
   ]
  },
  {
   "cell_type": "code",
   "execution_count": 19,
   "id": "25946f9e",
   "metadata": {},
   "outputs": [],
   "source": [
    "trans_text = \"When I was younger, which means more vulnerable, my father gave me advice that I keep returning to my mind: - When you want to criticize someone, remember that not everyone has enjoy the same benefits as you.\"\n",
    "\n"
   ]
  },
  {
   "cell_type": "code",
   "execution_count": 20,
   "id": "b306d67e",
   "metadata": {},
   "outputs": [
    {
     "name": "stdout",
     "output_type": "stream",
     "text": [
      "when i was younger which means more vulnerable my father gave me advice that i keep returning to my mind - when you want to criticize someone remember that not everyone has enjoy the same benefits as you\n"
     ]
    }
   ],
   "source": [
    "special_characters=[',','.',':','?','!', \"”\", \"“\"]\n",
    "for i in special_characters:\n",
    "    trans_text=trans_text.replace(i,\"\")\n",
    "    \n",
    "trans_text = trans_text.lower()\n",
    "print(trans_text)"
   ]
  },
  {
   "cell_type": "markdown",
   "id": "906eb03e",
   "metadata": {},
   "source": [
    "Then, converted this to a list too."
   ]
  },
  {
   "cell_type": "code",
   "execution_count": 21,
   "id": "0709feee",
   "metadata": {},
   "outputs": [
    {
     "name": "stdout",
     "output_type": "stream",
     "text": [
      "['when', 'i', 'was', 'younger', 'which', 'means', 'more', 'vulnerable', 'my', 'father', 'gave', 'me', 'advice', 'that', 'i', 'keep', 'returning', 'to', 'my', 'mind', '-', 'when', 'you', 'want', 'to', 'criticize', 'someone', 'remember', 'that', 'not', 'everyone', 'has', 'enjoy', 'the', 'same', 'benefits', 'as', 'you']\n"
     ]
    }
   ],
   "source": [
    "trans_text_words = trans_text.split(\" \")\n",
    "print(trans_text_words)"
   ]
  },
  {
   "cell_type": "markdown",
   "id": "0824ec36",
   "metadata": {},
   "source": [
    "Finally, we checked the percentage of words from translated text that matched the original text."
   ]
  },
  {
   "cell_type": "code",
   "execution_count": 22,
   "id": "2797b06c",
   "metadata": {
    "scrolled": true
   },
   "outputs": [
    {
     "name": "stdout",
     "output_type": "stream",
     "text": [
      "0.42105263157894735\n"
     ]
    }
   ],
   "source": [
    "acc = 0\n",
    "tot = 0\n",
    "for word in trans_text_words:\n",
    "    if word in eng_text_words:\n",
    "        acc += 1\n",
    "    tot += 1\n",
    "    \n",
    "score = acc / tot\n",
    "print(score)\n",
    "    "
   ]
  },
  {
   "cell_type": "markdown",
   "id": "3a6a00fb",
   "metadata": {},
   "source": [
    "We also checked the BLEU Score."
   ]
  },
  {
   "cell_type": "markdown",
   "id": "7ce23d7c",
   "metadata": {},
   "source": [
    "**2) BLEU Score**"
   ]
  },
  {
   "cell_type": "code",
   "execution_count": 23,
   "id": "03962424",
   "metadata": {},
   "outputs": [
    {
     "name": "stdout",
     "output_type": "stream",
     "text": [
      "BLEU score -> 0.08016440471425877\n"
     ]
    }
   ],
   "source": [
    "reference = [\n",
    "    trans_text.split()\n",
    "]\n",
    "\n",
    "candidate = eng_text.split()\n",
    "print('BLEU score -> {}'.format(sentence_bleu(reference, candidate)))"
   ]
  },
  {
   "cell_type": "markdown",
   "id": "1bcbb794",
   "metadata": {},
   "source": [
    "This indicates that the French to English translation using the Google API did not perform well."
   ]
  },
  {
   "cell_type": "markdown",
   "id": "329f9983-056a-4599-9e5f-444668634f5a",
   "metadata": {},
   "source": [
    "# Informal Text 2"
   ]
  },
  {
   "cell_type": "markdown",
   "id": "d848f6a6-9067-47fb-97ec-caa346a7328c",
   "metadata": {},
   "source": [
    "**The original text in English is:**\n",
    "I had a dog — at least I had him for a few days until he ran away — and an old Dodge and a Finnish woman, who made my bed and cooked breakfast and muttered Finnish wisdom to herself over the electric stove."
   ]
  },
  {
   "cell_type": "markdown",
   "id": "eb08f50f",
   "metadata": {},
   "source": [
    "Retrieving and translating the text data"
   ]
  },
  {
   "cell_type": "markdown",
   "id": "4514d5c7",
   "metadata": {},
   "source": [
    "## Chinese to English\n"
   ]
  },
  {
   "cell_type": "markdown",
   "id": "e9bf1c9b",
   "metadata": {},
   "source": [
    "Retrieving and translating the text data"
   ]
  },
  {
   "cell_type": "markdown",
   "id": "c0263993-6187-429d-af0d-7cf7b7e18863",
   "metadata": {
    "tags": []
   },
   "source": [
    "**The text in Chinese is:**\n",
    "我有一条狗——至少在它跑掉以前我养了它几天——一辆旧道吉汽车和一个芬兰女佣人，她替我收拾床铺，烧早饭，在电炉上一面做饭，一面嘴里咕哝着芬兰的格言。"
   ]
  },
  {
   "cell_type": "markdown",
   "id": "b4c59548",
   "metadata": {},
   "source": [
    "**The Google translation is:** I have a dog - at least I had him for a few days before he ran away - an old Dodge and a Finnish maid who makes my bed and cooks breakfast for me on the hot plate while she mutters Muttering Finnish proverbs."
   ]
  },
  {
   "cell_type": "markdown",
   "id": "f3a44a4e-406f-40ae-9d3b-bd9fe72b0e72",
   "metadata": {},
   "source": [
    "#### Qualitative Analysis:"
   ]
  },
  {
   "cell_type": "markdown",
   "id": "1ae813ce-6838-47f9-bd5b-900983b374df",
   "metadata": {},
   "source": [
    "Based on our judgement as English speakers, we feel this translation was pretty accurate and conveyed the meaning well enough. We would score it a \n",
    "**8.5/10.**"
   ]
  },
  {
   "cell_type": "markdown",
   "id": "358e5e8e-c6f0-4622-9e94-1b083e671ede",
   "metadata": {},
   "source": [
    "#### Quantitative Analysis"
   ]
  },
  {
   "cell_type": "markdown",
   "id": "2b71d8cc-03cc-4029-8b44-d21cdb02ca9d",
   "metadata": {},
   "source": [
    "**1) Percentage of words matching with original text**"
   ]
  },
  {
   "cell_type": "markdown",
   "id": "d2eeae85-42d0-4c56-9ec5-a82666a4b803",
   "metadata": {},
   "source": [
    "First, we converted the original text to lowercase and removed special characters. This is to ensure a more fair and accurate comparison."
   ]
  },
  {
   "cell_type": "code",
   "execution_count": 14,
   "id": "8b20eeaf-da7d-49d2-bf60-e2f5c570b5cc",
   "metadata": {},
   "outputs": [
    {
     "name": "stdout",
     "output_type": "stream",
     "text": [
      "i had a dog at least i had him for a few days until he ran away and an old dodge and a finnish woman who made my bed and cooked breakfast and muttered finnish wisdom to herself over the electric stove\n"
     ]
    }
   ],
   "source": [
    "eng_text = data['Informal_Text_2'].iloc[0]\n",
    "\n",
    "special_characters=[',','.',':','?','!', \"”\", \"“\", \"— \"]\n",
    "for i in special_characters:\n",
    "    eng_text=eng_text.replace(i,\"\")\n",
    "    \n",
    "eng_text = eng_text.lower()\n",
    "print(eng_text)"
   ]
  },
  {
   "cell_type": "markdown",
   "id": "dca2263c-24eb-4db2-ba19-733f59b28b0c",
   "metadata": {},
   "source": [
    "Then, converted to a list"
   ]
  },
  {
   "cell_type": "code",
   "execution_count": 15,
   "id": "e749edb1-b762-4902-914c-43373a505968",
   "metadata": {},
   "outputs": [
    {
     "name": "stdout",
     "output_type": "stream",
     "text": [
      "['i', 'had', 'a', 'dog', 'at', 'least', 'i', 'had', 'him', 'for', 'a', 'few', 'days', 'until', 'he', 'ran', 'away', 'and', 'an', 'old', 'dodge', 'and', 'a', 'finnish', 'woman', 'who', 'made', 'my', 'bed', 'and', 'cooked', 'breakfast', 'and', 'muttered', 'finnish', 'wisdom', 'to', 'herself', 'over', 'the', 'electric', 'stove']\n"
     ]
    }
   ],
   "source": [
    "eng_text_words = eng_text.split(\" \")\n",
    "print(eng_text_words)"
   ]
  },
  {
   "cell_type": "markdown",
   "id": "c7902666-34c6-4d6b-ae70-6871cc10b375",
   "metadata": {},
   "source": [
    "Next, converted the translated text to lowercase and removed special characters."
   ]
  },
  {
   "cell_type": "code",
   "execution_count": 3,
   "id": "14d3f930-2a33-440d-a195-5ab5bbd3fc68",
   "metadata": {},
   "outputs": [
    {
     "name": "stdout",
     "output_type": "stream",
     "text": [
      "i have a dog - at least i had him for a few days before he ran away - an old dodge and a finnish maid who makes my bed and cooks breakfast for me on the hot plate while she mutters muttering finnish proverbs\n"
     ]
    }
   ],
   "source": [
    "trans_text = \"I have a dog - at least I had him for a few days before he ran away - an old Dodge and a Finnish maid who makes my bed and cooks breakfast for me on the hot plate while she mutters Muttering Finnish proverbs.\"\n",
    "special_characters=[',','.',':','?','!', \"”\", \"“\", \"— \"]\n",
    "for i in special_characters:\n",
    "    trans_text=trans_text.replace(i,\"\")\n",
    "    \n",
    "trans_text = trans_text.lower()\n",
    "print(trans_text)"
   ]
  },
  {
   "cell_type": "markdown",
   "id": "e7dba45b-b25c-4fd0-aadf-7b73167f3849",
   "metadata": {},
   "source": [
    "Then, converted this to a list too."
   ]
  },
  {
   "cell_type": "code",
   "execution_count": 4,
   "id": "101e3c8f-4ca5-4fbd-bce4-c7e5968e82ef",
   "metadata": {},
   "outputs": [
    {
     "name": "stdout",
     "output_type": "stream",
     "text": [
      "['i', 'have', 'a', 'dog', '-', 'at', 'least', 'i', 'had', 'him', 'for', 'a', 'few', 'days', 'before', 'he', 'ran', 'away', '-', 'an', 'old', 'dodge', 'and', 'a', 'finnish', 'maid', 'who', 'makes', 'my', 'bed', 'and', 'cooks', 'breakfast', 'for', 'me', 'on', 'the', 'hot', 'plate', 'while', 'she', 'mutters', 'muttering', 'finnish', 'proverbs']\n"
     ]
    }
   ],
   "source": [
    "trans_text_words = trans_text.split(\" \")\n",
    "print(trans_text_words)"
   ]
  },
  {
   "cell_type": "markdown",
   "id": "e83ead96-644a-4065-8cc9-118159d3e92e",
   "metadata": {},
   "source": [
    "Finally, we checked the percentage of words from translated text that matched the original text."
   ]
  },
  {
   "cell_type": "code",
   "execution_count": 5,
   "id": "505e46a4-e3a8-4acf-999d-20d7b4870de2",
   "metadata": {},
   "outputs": [
    {
     "name": "stdout",
     "output_type": "stream",
     "text": [
      "0.6444444444444445\n"
     ]
    }
   ],
   "source": [
    "acc = 0\n",
    "tot = 0\n",
    "for word in trans_text_words:\n",
    "    if word in eng_text_words:\n",
    "        acc += 1\n",
    "    tot += 1\n",
    "    \n",
    "score = acc / tot\n",
    "print(score)\n",
    "    "
   ]
  },
  {
   "cell_type": "markdown",
   "id": "0533c7a0",
   "metadata": {},
   "source": [
    "We also checked the BLEU Score."
   ]
  },
  {
   "cell_type": "markdown",
   "id": "fdede82b",
   "metadata": {},
   "source": [
    "**2) BLEU Score**"
   ]
  },
  {
   "cell_type": "code",
   "execution_count": 10,
   "id": "3abae479",
   "metadata": {},
   "outputs": [
    {
     "name": "stdout",
     "output_type": "stream",
     "text": [
      "BLEU score -> 0.3583798874653872\n"
     ]
    }
   ],
   "source": [
    "reference = [\n",
    "    trans_text.split()\n",
    "]\n",
    "\n",
    "candidate = eng_text.split()\n",
    "print('BLEU score -> {}'.format(sentence_bleu(reference, candidate)))"
   ]
  },
  {
   "cell_type": "markdown",
   "id": "9bf6b7e2",
   "metadata": {},
   "source": [
    "This indicates that the Chinese to English translation using the Google API performed decently well."
   ]
  },
  {
   "cell_type": "markdown",
   "id": "da1528ef",
   "metadata": {},
   "source": [
    "## Spanish to English\n"
   ]
  },
  {
   "cell_type": "markdown",
   "id": "6ff385fc",
   "metadata": {},
   "source": [
    "Retrieving and translating the text data"
   ]
  },
  {
   "cell_type": "markdown",
   "id": "fdbdd154-3e2b-4f3d-b6e1-b0fcd05cd282",
   "metadata": {
    "tags": []
   },
   "source": [
    "**The text in Spanish is:**\n",
    "Tenía un perro -o al menos lo tuve durante varios días, antes de que escapara-, un viejo Dodge y una criada oriunda de Finlandia que me tendía la cama, hacía el desayuno y mascullaba máximas finlandesas junto a la estufa eléctrica."
   ]
  },
  {
   "cell_type": "markdown",
   "id": "350b8468",
   "metadata": {},
   "source": [
    "**The Google translation is:** \n",
    "I had a dog-or at least I had for several days before he ran away-an old Dodge and a maid from Finland who made my bed, cooked breakfast and muttered Finnish maxims by the electric stove."
   ]
  },
  {
   "cell_type": "markdown",
   "id": "809f680c-4863-453c-bfe3-bfe7761b21e0",
   "metadata": {},
   "source": [
    "#### Qualitative Analysis:"
   ]
  },
  {
   "cell_type": "markdown",
   "id": "8bfb8d93-08bb-478c-988c-c6a89bb835a1",
   "metadata": {},
   "source": [
    "Based on our judgement as English speakers, we feel this translation was pretty accurate and conveyed the meaning well enough. We would score it a \n",
    "**8.5/10.**"
   ]
  },
  {
   "cell_type": "markdown",
   "id": "6f070f22-457d-46c2-ae7c-5239b1599336",
   "metadata": {},
   "source": [
    "#### Quantitative Analysis"
   ]
  },
  {
   "cell_type": "markdown",
   "id": "9f43551d-a93b-4a66-98bf-4480aa6ebbbc",
   "metadata": {},
   "source": [
    "**1) Percentage of words matching with original text**"
   ]
  },
  {
   "cell_type": "markdown",
   "id": "504ee7f0-3329-4ffd-b0f8-aed42ffd6fa8",
   "metadata": {},
   "source": [
    "First, we converted the original text to lowercase and removed special characters. This is to ensure a more fair and accurate comparison."
   ]
  },
  {
   "cell_type": "code",
   "execution_count": 11,
   "id": "1d157e57-031c-4976-b072-4dd57ebf635f",
   "metadata": {},
   "outputs": [
    {
     "name": "stdout",
     "output_type": "stream",
     "text": [
      "i had a dog at least i had him for a few days until he ran away and an old dodge and a finnish woman who made my bed and cooked breakfast and muttered finnish wisdom to herself over the electric stove\n"
     ]
    }
   ],
   "source": [
    "eng_text = data['Informal_Text_2'].iloc[0]\n",
    "special_characters=[',','.',':','?','!', \"”\", \"“\", \"— \"]\n",
    "for i in special_characters:\n",
    "    eng_text=eng_text.replace(i,\"\")\n",
    "    \n",
    "eng_text = eng_text.lower()\n",
    "print(eng_text)"
   ]
  },
  {
   "cell_type": "markdown",
   "id": "5894ff6b-f71b-44df-83b5-db569a31170b",
   "metadata": {},
   "source": [
    "Then, converted to a list"
   ]
  },
  {
   "cell_type": "code",
   "execution_count": 12,
   "id": "a5593cae-03cf-46ef-a072-7f4d068f0be9",
   "metadata": {},
   "outputs": [
    {
     "name": "stdout",
     "output_type": "stream",
     "text": [
      "['i', 'had', 'a', 'dog', 'at', 'least', 'i', 'had', 'him', 'for', 'a', 'few', 'days', 'until', 'he', 'ran', 'away', 'and', 'an', 'old', 'dodge', 'and', 'a', 'finnish', 'woman', 'who', 'made', 'my', 'bed', 'and', 'cooked', 'breakfast', 'and', 'muttered', 'finnish', 'wisdom', 'to', 'herself', 'over', 'the', 'electric', 'stove']\n"
     ]
    }
   ],
   "source": [
    "eng_text_words = eng_text.split(\" \")\n",
    "print(eng_text_words)"
   ]
  },
  {
   "cell_type": "markdown",
   "id": "ecd3dec4-d856-4c48-985c-bbd8351187f7",
   "metadata": {},
   "source": [
    "Next, converted the translated text to lowercase and removed special characters."
   ]
  },
  {
   "cell_type": "code",
   "execution_count": 20,
   "id": "33134b5b-7860-43ed-bb02-afc35ce06fe1",
   "metadata": {},
   "outputs": [
    {
     "name": "stdout",
     "output_type": "stream",
     "text": [
      "i had a dog-or at least i had for several days before he ran away-an old dodge and a maid from finland who made my bed cooked breakfast and muttered finnish maxims by the electric stove\n"
     ]
    }
   ],
   "source": [
    "trans_text = \"I had a dog-or at least I had for several days before he ran away-an old Dodge and a maid from Finland who made my bed, cooked breakfast and muttered Finnish maxims by the electric stove.\"\n",
    "\n",
    "special_characters=[',','.',':','?','!', \"”\", \"“\", \"— \"]\n",
    "for i in special_characters:\n",
    "    trans_text=trans_text.replace(i,\"\")\n",
    "    \n",
    "trans_text = trans_text.lower()\n",
    "print(trans_text)"
   ]
  },
  {
   "cell_type": "markdown",
   "id": "072841fd-fe3f-403d-8156-a8211c61e0f8",
   "metadata": {},
   "source": [
    "Then, converted this to a list too."
   ]
  },
  {
   "cell_type": "code",
   "execution_count": 21,
   "id": "dbeb1af1-c626-4d1b-b443-276e976a1d86",
   "metadata": {},
   "outputs": [
    {
     "name": "stdout",
     "output_type": "stream",
     "text": [
      "['i', 'had', 'a', 'dog-or', 'at', 'least', 'i', 'had', 'for', 'several', 'days', 'before', 'he', 'ran', 'away-an', 'old', 'dodge', 'and', 'a', 'maid', 'from', 'finland', 'who', 'made', 'my', 'bed', 'cooked', 'breakfast', 'and', 'muttered', 'finnish', 'maxims', 'by', 'the', 'electric', 'stove']\n"
     ]
    }
   ],
   "source": [
    "trans_text_words = trans_text.split(\" \")\n",
    "print(trans_text_words)"
   ]
  },
  {
   "cell_type": "markdown",
   "id": "9061d204-c8c7-4c59-8b16-2986c2285504",
   "metadata": {},
   "source": [
    "Finally, we checked the percentage of words from translated text that matched the original text."
   ]
  },
  {
   "cell_type": "code",
   "execution_count": 22,
   "id": "4a5fb6e2-e439-479d-a64e-4ecf352d9542",
   "metadata": {},
   "outputs": [
    {
     "name": "stdout",
     "output_type": "stream",
     "text": [
      "0.75\n"
     ]
    }
   ],
   "source": [
    "acc = 0\n",
    "tot = 0\n",
    "for word in trans_text_words:\n",
    "    if word in eng_text_words:\n",
    "        acc += 1\n",
    "    tot += 1\n",
    "    \n",
    "score = acc / tot\n",
    "print(score)\n",
    "    "
   ]
  },
  {
   "cell_type": "markdown",
   "id": "28a37f1f",
   "metadata": {},
   "source": [
    "We also checked the BLEU Score."
   ]
  },
  {
   "cell_type": "markdown",
   "id": "5a71b54a",
   "metadata": {},
   "source": [
    "**2) BLEU Score**"
   ]
  },
  {
   "cell_type": "code",
   "execution_count": 23,
   "id": "f6d4ff90",
   "metadata": {},
   "outputs": [
    {
     "name": "stdout",
     "output_type": "stream",
     "text": [
      "BLEU score -> 0.3158350346275703\n"
     ]
    }
   ],
   "source": [
    "reference = [\n",
    "    trans_text.split()\n",
    "]\n",
    "\n",
    "candidate = eng_text.split()\n",
    "print('BLEU score -> {}'.format(sentence_bleu(reference, candidate)))"
   ]
  },
  {
   "cell_type": "markdown",
   "id": "320f5c8a",
   "metadata": {},
   "source": [
    "This indicates that the Chinese to English translation using the Google API performed decently well."
   ]
  },
  {
   "cell_type": "markdown",
   "id": "0ff55309",
   "metadata": {},
   "source": [
    "## French to English"
   ]
  },
  {
   "cell_type": "markdown",
   "id": "b3d99e37",
   "metadata": {},
   "source": [
    "Retrieving and translating the text data"
   ]
  },
  {
   "cell_type": "markdown",
   "id": "fffeb7ff-041f-404c-9e12-7264d69add11",
   "metadata": {
    "tags": []
   },
   "source": [
    "**The text in French is:**\n",
    "J’avais un chien – du moins je l’eus pendant quelques jours jusqu’à ce qu’il prît la clef des champs – une vieille auto Dodge et une Finlandaise qui faisait mon lit, préparait mon petit déjeuner et marmottait des proverbes finnois, en s’affairant devant le fourneau électrique."
   ]
  },
  {
   "cell_type": "markdown",
   "id": "88f30251",
   "metadata": {},
   "source": [
    "**The Google translation is:** I had a dog – at least I had him for a few days until he left the countryside – an old Dodge car and a Finnish woman who made my bed, cooked my breakfast and muttered Finnish proverbs, fussing in front of the electric stove."
   ]
  },
  {
   "cell_type": "markdown",
   "id": "4c9cc6b9-d388-4038-958f-9e0e746bdcf1",
   "metadata": {},
   "source": [
    "#### Qualitative Analysis:"
   ]
  },
  {
   "cell_type": "markdown",
   "id": "e0e20e7a-b68d-4cc7-a858-e4029dff7990",
   "metadata": {},
   "source": [
    "Based on our judgement as English speakers, we feel this translation was pretty accurate and conveyed the meaning well enough. We would score it a \n",
    "**8/10.**"
   ]
  },
  {
   "cell_type": "markdown",
   "id": "27fe17e1-88d4-4f8a-8253-b892f218c0ec",
   "metadata": {},
   "source": [
    "#### Quantitative Analysis"
   ]
  },
  {
   "cell_type": "markdown",
   "id": "9b416807-9f84-4212-8f61-1d00d0b46ee6",
   "metadata": {},
   "source": [
    "**1) Percentage of words matching with original text**"
   ]
  },
  {
   "cell_type": "markdown",
   "id": "c09a943b-ef49-4594-8699-4897f64fa0db",
   "metadata": {},
   "source": [
    "First, we converted the original text to lowercase and removed special characters. This is to ensure a more fair and accurate comparison."
   ]
  },
  {
   "cell_type": "code",
   "execution_count": 24,
   "id": "8163be46-aa2b-4142-b4d7-04cb44821917",
   "metadata": {},
   "outputs": [
    {
     "name": "stdout",
     "output_type": "stream",
     "text": [
      "i had a dog at least i had him for a few days until he ran away and an old dodge and a finnish woman who made my bed and cooked breakfast and muttered finnish wisdom to herself over the electric stove\n"
     ]
    }
   ],
   "source": [
    "eng_text = data['Informal_Text_2'].iloc[0]\n",
    "\n",
    "special_characters=[',','.',':','?','!', \"”\", \"“\", \"— \"]\n",
    "for i in special_characters:\n",
    "    eng_text=eng_text.replace(i,\"\")\n",
    "    \n",
    "eng_text = eng_text.lower()\n",
    "print(eng_text)"
   ]
  },
  {
   "cell_type": "markdown",
   "id": "c67936a8-ed80-460d-ba99-97797df5b843",
   "metadata": {},
   "source": [
    "Then, converted to a list"
   ]
  },
  {
   "cell_type": "code",
   "execution_count": 25,
   "id": "4c52ad10-53e7-4861-a5d8-3d104263b938",
   "metadata": {},
   "outputs": [
    {
     "name": "stdout",
     "output_type": "stream",
     "text": [
      "['i', 'had', 'a', 'dog', 'at', 'least', 'i', 'had', 'him', 'for', 'a', 'few', 'days', 'until', 'he', 'ran', 'away', 'and', 'an', 'old', 'dodge', 'and', 'a', 'finnish', 'woman', 'who', 'made', 'my', 'bed', 'and', 'cooked', 'breakfast', 'and', 'muttered', 'finnish', 'wisdom', 'to', 'herself', 'over', 'the', 'electric', 'stove']\n"
     ]
    }
   ],
   "source": [
    "eng_text_words = eng_text.split(\" \")\n",
    "print(eng_text_words)"
   ]
  },
  {
   "cell_type": "markdown",
   "id": "95f326e6-3ef5-4245-92e2-f7ebec7bd24c",
   "metadata": {},
   "source": [
    "Next, converted the translated text to lowercase and removed special characters."
   ]
  },
  {
   "cell_type": "code",
   "execution_count": 26,
   "id": "aebc90b2-c953-4012-99e9-b9868f04fa5d",
   "metadata": {},
   "outputs": [
    {
     "name": "stdout",
     "output_type": "stream",
     "text": [
      " i had a dog – at least i had him for a few days until he left the countryside – an old dodge car and a finnish woman who made my bed cooked my breakfast and muttered finnish proverbs fussing in front of the electric stove\n"
     ]
    }
   ],
   "source": [
    "trans_text = \" I had a dog – at least I had him for a few days until he left the countryside – an old Dodge car and a Finnish woman who made my bed, cooked my breakfast and muttered Finnish proverbs, fussing in front of the electric stove.\"\n",
    "special_characters=[',','.',':','?','!', \"”\", \"“\", \"— \"]\n",
    "for i in special_characters:\n",
    "    trans_text=trans_text.replace(i,\"\")\n",
    "    \n",
    "trans_text = trans_text.lower()\n",
    "print(trans_text)"
   ]
  },
  {
   "cell_type": "markdown",
   "id": "4599220b-c51d-444a-a706-872214ca739a",
   "metadata": {},
   "source": [
    "Then, converted this to a list too."
   ]
  },
  {
   "cell_type": "code",
   "execution_count": 27,
   "id": "d3283215-5bbe-4a9b-9d5d-8b8953148d18",
   "metadata": {},
   "outputs": [
    {
     "name": "stdout",
     "output_type": "stream",
     "text": [
      "['', 'i', 'had', 'a', 'dog', '–', 'at', 'least', 'i', 'had', 'him', 'for', 'a', 'few', 'days', 'until', 'he', 'left', 'the', 'countryside', '–', 'an', 'old', 'dodge', 'car', 'and', 'a', 'finnish', 'woman', 'who', 'made', 'my', 'bed', 'cooked', 'my', 'breakfast', 'and', 'muttered', 'finnish', 'proverbs', 'fussing', 'in', 'front', 'of', 'the', 'electric', 'stove']\n"
     ]
    }
   ],
   "source": [
    "trans_text_words = trans_text.split(\" \")\n",
    "print(trans_text_words)"
   ]
  },
  {
   "cell_type": "markdown",
   "id": "83e728e2-e2fb-4260-b6df-14e93e0f81c6",
   "metadata": {},
   "source": [
    "Finally, we checked the percentage of words from translated text that matched the original text."
   ]
  },
  {
   "cell_type": "code",
   "execution_count": 28,
   "id": "f4d4a005-f701-43ca-a379-12d5c0e273b2",
   "metadata": {},
   "outputs": [
    {
     "name": "stdout",
     "output_type": "stream",
     "text": [
      "0.7659574468085106\n"
     ]
    }
   ],
   "source": [
    "acc = 0\n",
    "tot = 0\n",
    "for word in trans_text_words:\n",
    "    if word in eng_text_words:\n",
    "        acc += 1\n",
    "    tot += 1\n",
    "    \n",
    "score = acc / tot\n",
    "print(score)\n",
    "    "
   ]
  },
  {
   "cell_type": "markdown",
   "id": "0439ee68",
   "metadata": {},
   "source": [
    "We also checked the BLEU Score."
   ]
  },
  {
   "cell_type": "markdown",
   "id": "1535fa22",
   "metadata": {},
   "source": [
    "**2) BLEU Score**"
   ]
  },
  {
   "cell_type": "code",
   "execution_count": 29,
   "id": "e6f281b2",
   "metadata": {},
   "outputs": [
    {
     "name": "stdout",
     "output_type": "stream",
     "text": [
      "BLEU score -> 0.5207598499006179\n"
     ]
    }
   ],
   "source": [
    "reference = [\n",
    "    trans_text.split()\n",
    "]\n",
    "\n",
    "candidate = eng_text.split()\n",
    "print('BLEU score -> {}'.format(sentence_bleu(reference, candidate)))"
   ]
  },
  {
   "cell_type": "markdown",
   "id": "2060a53a",
   "metadata": {},
   "source": [
    "This indicates that the Spanish to English translation using the Google API performed well."
   ]
  },
  {
   "cell_type": "markdown",
   "id": "0d8fb6b4-2de5-4959-bc75-db666ae8d792",
   "metadata": {},
   "source": [
    "# Formal"
   ]
  },
  {
   "cell_type": "markdown",
   "id": "947fc5f0-bdb3-4d49-b652-9343787e005b",
   "metadata": {},
   "source": [
    "# Formal Text 1"
   ]
  },
  {
   "cell_type": "markdown",
   "id": "90434797-5fc5-4b25-93df-8fe6262b9bd1",
   "metadata": {},
   "source": [
    "**The original text in English is:**  In consequence, I’m inclined to reserve all judgments, a habit that has opened up many curious natures to me and also made me the victim of not a few veteran bores. \n"
   ]
  },
  {
   "cell_type": "markdown",
   "id": "810226e4-3b36-4d33-8d6e-e67ff36c2932",
   "metadata": {},
   "source": [
    "## Chinese to English"
   ]
  },
  {
   "cell_type": "markdown",
   "id": "f1e31925",
   "metadata": {},
   "source": [
    "Retrieving and translating the text data"
   ]
  },
  {
   "cell_type": "markdown",
   "id": "6f46e21b",
   "metadata": {},
   "source": [
    "**The text in Chinese is:** 这种几乎是完全我行我素的神情总是使我感到目瞪口呆，满心赞佩。"
   ]
  },
  {
   "cell_type": "markdown",
   "id": "17eabaa0",
   "metadata": {},
   "source": [
    "**The Google translation is:** Over time I have been in the habit of withholding judgment from all men, and this habit has made many eccentrics open to me, and has made me the victim of not a few nagging bores."
   ]
  },
  {
   "cell_type": "markdown",
   "id": "ffaea453",
   "metadata": {},
   "source": [
    "#### Qualitative Analysis:"
   ]
  },
  {
   "cell_type": "markdown",
   "id": "d71cd83d",
   "metadata": {},
   "source": [
    "Based on our judgement as English speakers, we feel this translation was decently accurate and conveyed the meaning well enough. We would score it a \n",
    "**6.5/10.**"
   ]
  },
  {
   "cell_type": "markdown",
   "id": "d2d9b828",
   "metadata": {},
   "source": [
    "#### Quantitative Analysis"
   ]
  },
  {
   "cell_type": "markdown",
   "id": "20711201",
   "metadata": {},
   "source": [
    "**1) Percentage of words matching with original text**"
   ]
  },
  {
   "cell_type": "markdown",
   "id": "24ad1137",
   "metadata": {},
   "source": [
    "First, we converted the original text to lowercase and removed special characters. This is to ensure a more fair and accurate comparison."
   ]
  },
  {
   "cell_type": "code",
   "execution_count": 17,
   "id": "541f68d1",
   "metadata": {},
   "outputs": [],
   "source": [
    "eng_text = data['Formal_Text_1'].iloc[0]"
   ]
  },
  {
   "cell_type": "code",
   "execution_count": 18,
   "id": "9c43c075",
   "metadata": {},
   "outputs": [
    {
     "name": "stdout",
     "output_type": "stream",
     "text": [
      "in consequence i’m inclined to reserve all judgments a habit that has opened up many curious natures to me and also made me the victim of not a few veteran bores\n"
     ]
    }
   ],
   "source": [
    "special_characters=[',','.',':','?','!', \"”\", \"“\"]\n",
    "for i in special_characters:\n",
    "    eng_text=eng_text.replace(i,\"\")\n",
    "    \n",
    "eng_text = eng_text.lower()\n",
    "print(eng_text)"
   ]
  },
  {
   "cell_type": "markdown",
   "id": "2b6a7cb4",
   "metadata": {},
   "source": [
    "Then, converted to a list"
   ]
  },
  {
   "cell_type": "code",
   "execution_count": 19,
   "id": "e101ccbe",
   "metadata": {},
   "outputs": [
    {
     "name": "stdout",
     "output_type": "stream",
     "text": [
      "['in', 'consequence', 'i’m', 'inclined', 'to', 'reserve', 'all', 'judgments', 'a', 'habit', 'that', 'has', 'opened', 'up', 'many', 'curious', 'natures', 'to', 'me', 'and', 'also', 'made', 'me', 'the', 'victim', 'of', 'not', 'a', 'few', 'veteran', 'bores']\n"
     ]
    }
   ],
   "source": [
    "eng_text_words = eng_text.split(\" \")\n",
    "print(eng_text_words)"
   ]
  },
  {
   "cell_type": "markdown",
   "id": "d27a3484",
   "metadata": {},
   "source": [
    "Next, converted the translated text to lowercase and removed special characters."
   ]
  },
  {
   "cell_type": "code",
   "execution_count": 28,
   "id": "0776482a",
   "metadata": {},
   "outputs": [],
   "source": [
    "trans_text = \"Over time I have been in the habit of withholding judgment from all men, and this habit has made many eccentrics open to me, and has made me the victim of not a few nagging bores.\""
   ]
  },
  {
   "cell_type": "code",
   "execution_count": 29,
   "id": "fcad6139",
   "metadata": {},
   "outputs": [
    {
     "name": "stdout",
     "output_type": "stream",
     "text": [
      "over time i have been in the habit of withholding judgment from all men and this habit has made many eccentrics open to me and has made me the victim of not a few nagging bores\n"
     ]
    }
   ],
   "source": [
    "special_characters=[',','.',':','?','!', \"”\", \"“\"]\n",
    "for i in special_characters:\n",
    "    trans_text=trans_text.replace(i,\"\")\n",
    "    \n",
    "trans_text = trans_text.lower()\n",
    "print(trans_text)"
   ]
  },
  {
   "cell_type": "markdown",
   "id": "90a09278",
   "metadata": {},
   "source": [
    "Then, converted this to a list too."
   ]
  },
  {
   "cell_type": "code",
   "execution_count": 30,
   "id": "2b317388",
   "metadata": {},
   "outputs": [
    {
     "name": "stdout",
     "output_type": "stream",
     "text": [
      "['over', 'time', 'i', 'have', 'been', 'in', 'the', 'habit', 'of', 'withholding', 'judgment', 'from', 'all', 'men', 'and', 'this', 'habit', 'has', 'made', 'many', 'eccentrics', 'open', 'to', 'me', 'and', 'has', 'made', 'me', 'the', 'victim', 'of', 'not', 'a', 'few', 'nagging', 'bores']\n"
     ]
    }
   ],
   "source": [
    "Then, converted this to a list too.trans_text_words = trans_text.split(\" \")\n",
    "print(trans_text_words)"
   ]
  },
  {
   "cell_type": "markdown",
   "id": "44bd49e1",
   "metadata": {},
   "source": [
    "Finally, we checked the percentage of words from translated text that matched the original text."
   ]
  },
  {
   "cell_type": "code",
   "execution_count": 31,
   "id": "58a4cb35",
   "metadata": {},
   "outputs": [
    {
     "name": "stdout",
     "output_type": "stream",
     "text": [
      "0.6388888888888888\n"
     ]
    }
   ],
   "source": [
    "Finally, we checked the percentage of words from translated text that matched the original text.acc = 0\n",
    "tot = 0\n",
    "for word in trans_text_words:\n",
    "    if word in eng_text_words:\n",
    "        acc += 1\n",
    "    tot += 1\n",
    "    \n",
    "score = acc / tot\n",
    "print(score)\n",
    "    "
   ]
  },
  {
   "cell_type": "markdown",
   "id": "de0017d8",
   "metadata": {},
   "source": [
    "We also checked the BLEU Score."
   ]
  },
  {
   "cell_type": "markdown",
   "id": "b5d77cfc",
   "metadata": {},
   "source": [
    "**2) BLEU Score**"
   ]
  },
  {
   "cell_type": "code",
   "execution_count": 32,
   "id": "2649ac96",
   "metadata": {},
   "outputs": [
    {
     "name": "stdout",
     "output_type": "stream",
     "text": [
      "BLEU score -> 0.24696341803668823\n"
     ]
    }
   ],
   "source": [
    "reference = [\n",
    "    trans_text.split()\n",
    "]\n",
    "\n",
    "candidate = eng_text.split()\n",
    "print('BLEU score -> {}'.format(sentence_bleu(reference, candidate)))"
   ]
  },
  {
   "cell_type": "markdown",
   "id": "aa6f8c1a",
   "metadata": {},
   "source": [
    "This indicates that the Chinese to English translation using the Google API did not perform too well, but decently better than other translations."
   ]
  },
  {
   "cell_type": "markdown",
   "id": "4d2d1bd8",
   "metadata": {},
   "source": [
    "## Spanish to English"
   ]
  },
  {
   "cell_type": "markdown",
   "id": "6b512430",
   "metadata": {},
   "source": [
    "Retrieving and translating the text data"
   ]
  },
  {
   "cell_type": "markdown",
   "id": "0ef4d6a7",
   "metadata": {},
   "source": [
    "**The text in Spanish is:** En consecuencia, soy una persona dada a reservarme todo juicio, hábito que me ha facilitado el conocimiento de gran número de personas singulares, pero que también me ha hecho víctima de más de un latoso inveterado."
   ]
  },
  {
   "cell_type": "markdown",
   "id": "2f19b449",
   "metadata": {},
   "source": [
    "**The Google translation is:** Consequently, I am a person given to reserving all judgment, a habit that has made it easier for me to meet a large number of unique people, but which has also made me the victim of more than one inveterate nuisance."
   ]
  },
  {
   "cell_type": "markdown",
   "id": "f240e2e6",
   "metadata": {},
   "source": [
    "### Qualitative Analysis:\n",
    "Based on our judgement as English speakers, we feel this translation was relatively accurate and did convey the meaning well enough. We would score it a 7/10."
   ]
  },
  {
   "cell_type": "markdown",
   "id": "4d3e3a5e",
   "metadata": {},
   "source": [
    "### Quantitative Analysis:"
   ]
  },
  {
   "cell_type": "markdown",
   "id": "91e3f390",
   "metadata": {},
   "source": [
    "**1) Percentage of words matching with original text**"
   ]
  },
  {
   "cell_type": "markdown",
   "id": "19986747",
   "metadata": {},
   "source": [
    "First, we converted the original text to lowercase and removed special characters. This is to ensure a more fair and accurate comparison."
   ]
  },
  {
   "cell_type": "code",
   "execution_count": 20,
   "id": "c4530789",
   "metadata": {},
   "outputs": [
    {
     "name": "stdout",
     "output_type": "stream",
     "text": [
      "in consequence i’m inclined to reserve all judgments a habit that has opened up many curious natures to me and also made me the victim of not a few veteran bores\n"
     ]
    }
   ],
   "source": [
    "eng_text = data['Formal_Text_1'].iloc[0]\n",
    "\n",
    "special_characters=[',','.',':','?','!', \"”\", \"“\"]\n",
    "for i in special_characters:\n",
    "    eng_text=eng_text.replace(i,\"\")\n",
    "    \n",
    "eng_text = eng_text.lower()\n",
    "print(eng_text)"
   ]
  },
  {
   "cell_type": "markdown",
   "id": "55714996",
   "metadata": {},
   "source": [
    "Then, converted to a list"
   ]
  },
  {
   "cell_type": "code",
   "execution_count": 70,
   "id": "9df7fd98",
   "metadata": {},
   "outputs": [
    {
     "name": "stdout",
     "output_type": "stream",
     "text": [
      "['in', 'consequence', 'i’m', 'inclined', 'to', 'reserve', 'all', 'judgments', 'a', 'habit', 'that', 'has', 'opened', 'up', 'many', 'curious', 'natures', 'to', 'me', 'and', 'also', 'made', 'me', 'the', 'victim', 'of', 'not', 'a', 'few', 'veteran', 'bores']\n"
     ]
    }
   ],
   "source": [
    "eng_text_words = eng_text.split(\" \")\n",
    "print(eng_text_words)"
   ]
  },
  {
   "cell_type": "markdown",
   "id": "a27bba0e",
   "metadata": {},
   "source": [
    "Next, converted the translated text to lowercase and removed special characters."
   ]
  },
  {
   "cell_type": "code",
   "execution_count": 33,
   "id": "5359a29a",
   "metadata": {},
   "outputs": [
    {
     "name": "stdout",
     "output_type": "stream",
     "text": [
      "consequently i am a person given to reserving all judgment a habit that has made it easier for me to meet a large number of unique people but which has also made me the victim of more than one inveterate nuisance\n"
     ]
    }
   ],
   "source": [
    "trans_text = \"Consequently, I am a person given to reserving all judgment, a habit that has made it easier for me to meet a large number of unique people, but which has also made me the victim of more than one inveterate nuisance.\"\n",
    "special_characters=[',','.',':','?','!', \"”\", \"“\"]\n",
    "for i in special_characters:\n",
    "    trans_text=trans_text.replace(i,\"\")\n",
    "    \n",
    "trans_text = trans_text.lower()\n",
    "print(trans_text)"
   ]
  },
  {
   "cell_type": "markdown",
   "id": "062884a8",
   "metadata": {},
   "source": [
    "Then, converted this to a list too"
   ]
  },
  {
   "cell_type": "code",
   "execution_count": 34,
   "id": "bbf2afc0",
   "metadata": {},
   "outputs": [
    {
     "name": "stdout",
     "output_type": "stream",
     "text": [
      "['consequently', 'i', 'am', 'a', 'person', 'given', 'to', 'reserving', 'all', 'judgment', 'a', 'habit', 'that', 'has', 'made', 'it', 'easier', 'for', 'me', 'to', 'meet', 'a', 'large', 'number', 'of', 'unique', 'people', 'but', 'which', 'has', 'also', 'made', 'me', 'the', 'victim', 'of', 'more', 'than', 'one', 'inveterate', 'nuisance']\n"
     ]
    }
   ],
   "source": [
    "trans_text_words = trans_text.split(\" \")\n",
    "print(trans_text_words)"
   ]
  },
  {
   "cell_type": "markdown",
   "id": "2611cd0e",
   "metadata": {},
   "source": [
    "Finally, we checked the percentage of words from translated text that matched the original text."
   ]
  },
  {
   "cell_type": "code",
   "execution_count": 35,
   "id": "716e2442",
   "metadata": {},
   "outputs": [
    {
     "name": "stdout",
     "output_type": "stream",
     "text": [
      "0.4634146341463415\n"
     ]
    }
   ],
   "source": [
    "acc = 0\n",
    "tot = 0\n",
    "for word in trans_text_words:\n",
    "    if word in eng_text_words:\n",
    "        acc += 1\n",
    "    tot += 1\n",
    "    \n",
    "score = acc / tot\n",
    "print(score)"
   ]
  },
  {
   "cell_type": "markdown",
   "id": "9ae100e1",
   "metadata": {},
   "source": [
    "We also checked the BLEU Score."
   ]
  },
  {
   "cell_type": "markdown",
   "id": "54856055",
   "metadata": {},
   "source": [
    "**2) BLEU Score**"
   ]
  },
  {
   "cell_type": "code",
   "execution_count": 36,
   "id": "65ec9c4b",
   "metadata": {},
   "outputs": [
    {
     "name": "stdout",
     "output_type": "stream",
     "text": [
      "BLEU score -> 0.179987930439129\n"
     ]
    }
   ],
   "source": [
    "reference = [\n",
    "    trans_text.split()\n",
    "]\n",
    "\n",
    "candidate = eng_text.split()\n",
    "print('BLEU score -> {}'.format(sentence_bleu(reference, candidate)))"
   ]
  },
  {
   "cell_type": "markdown",
   "id": "e6a2300b",
   "metadata": {},
   "source": [
    "This indicates that the Spanish to English translation using the Google API did not perform too well."
   ]
  },
  {
   "cell_type": "markdown",
   "id": "eef8d177",
   "metadata": {},
   "source": [
    "## French to English "
   ]
  },
  {
   "cell_type": "markdown",
   "id": "179ce2ac",
   "metadata": {},
   "source": [
    "Retrieving and translating the text data"
   ]
  },
  {
   "cell_type": "markdown",
   "id": "84609e44",
   "metadata": {},
   "source": [
    "**The text in French is:** En conséquence, je suis porté à réserver mes jugements, habitude qui m’a ouvert bien des natures curieuses, non sans me rendre victime de pas mal de raseurs invétérés."
   ]
  },
  {
   "cell_type": "markdown",
   "id": "cb3911bc",
   "metadata": {},
   "source": [
    "**The Google translation is:** Consequently, I am inclined to reserve my judgments, a habit that has opened up many curious natures to me, not without making me the victim of a lot of inveterate borers."
   ]
  },
  {
   "cell_type": "markdown",
   "id": "e37df253",
   "metadata": {},
   "source": [
    "### Qualitative Analysis:\n",
    "Based on our judgement as English speakers, we feel this translation was relatively accurate and did convey the meaning well enough. We would score it a 7/10."
   ]
  },
  {
   "cell_type": "markdown",
   "id": "e2651dc2",
   "metadata": {},
   "source": [
    "### Quantitative Analysis:"
   ]
  },
  {
   "cell_type": "markdown",
   "id": "76a10eb2",
   "metadata": {},
   "source": [
    "**1) Percentage of words matching with original text**"
   ]
  },
  {
   "cell_type": "markdown",
   "id": "1837ca8c",
   "metadata": {},
   "source": [
    "First, we converted the original text to lowercase and removed special characters. This is to ensure a more fair and accurate comparison."
   ]
  },
  {
   "cell_type": "code",
   "execution_count": 37,
   "id": "c8ca1c15",
   "metadata": {},
   "outputs": [
    {
     "name": "stdout",
     "output_type": "stream",
     "text": [
      "in consequence i’m inclined to reserve all judgments a habit that has opened up many curious natures to me and also made me the victim of not a few veteran bores\n"
     ]
    }
   ],
   "source": [
    "eng_text = data['Formal_Text_1'].iloc[0]\n",
    "\n",
    "special_characters=[',','.',':','?','!', \"”\", \"“\"]\n",
    "for i in special_characters:\n",
    "    eng_text=eng_text.replace(i,\"\")\n",
    "    \n",
    "eng_text = eng_text.lower()\n",
    "print(eng_text)"
   ]
  },
  {
   "cell_type": "markdown",
   "id": "699e7dfe",
   "metadata": {},
   "source": [
    "Then, converted to a list"
   ]
  },
  {
   "cell_type": "code",
   "execution_count": 38,
   "id": "69baea16",
   "metadata": {},
   "outputs": [
    {
     "name": "stdout",
     "output_type": "stream",
     "text": [
      "['in', 'consequence', 'i’m', 'inclined', 'to', 'reserve', 'all', 'judgments', 'a', 'habit', 'that', 'has', 'opened', 'up', 'many', 'curious', 'natures', 'to', 'me', 'and', 'also', 'made', 'me', 'the', 'victim', 'of', 'not', 'a', 'few', 'veteran', 'bores']\n"
     ]
    }
   ],
   "source": [
    "eng_text_words = eng_text.split(\" \")\n",
    "print(eng_text_words)"
   ]
  },
  {
   "cell_type": "markdown",
   "id": "0d462774",
   "metadata": {},
   "source": [
    "Next, converted the translated text to lowercase and removed special characters."
   ]
  },
  {
   "cell_type": "code",
   "execution_count": 39,
   "id": "a45b1a9f",
   "metadata": {},
   "outputs": [
    {
     "name": "stdout",
     "output_type": "stream",
     "text": [
      "consequently i am inclined to reserve my judgments a habit that has opened up many curious natures to me not without making me the victim of a lot of inveterate borers\n"
     ]
    }
   ],
   "source": [
    "trans_text = \"Consequently, I am inclined to reserve my judgments, a habit that has opened up many curious natures to me, not without making me the victim of a lot of inveterate borers.\"\n",
    "special_characters=[',','.',':','?','!', \"”\", \"“\"]\n",
    "for i in special_characters:\n",
    "    trans_text=trans_text.replace(i,\"\")\n",
    "    \n",
    "trans_text = trans_text.lower()\n",
    "print(trans_text)"
   ]
  },
  {
   "cell_type": "markdown",
   "id": "83db8cec",
   "metadata": {},
   "source": [
    "Then, converted this to a list too"
   ]
  },
  {
   "cell_type": "code",
   "execution_count": 40,
   "id": "08e97e29",
   "metadata": {},
   "outputs": [
    {
     "name": "stdout",
     "output_type": "stream",
     "text": [
      "['consequently', 'i', 'am', 'inclined', 'to', 'reserve', 'my', 'judgments', 'a', 'habit', 'that', 'has', 'opened', 'up', 'many', 'curious', 'natures', 'to', 'me', 'not', 'without', 'making', 'me', 'the', 'victim', 'of', 'a', 'lot', 'of', 'inveterate', 'borers']\n"
     ]
    }
   ],
   "source": [
    "trans_text_words = trans_text.split(\" \")\n",
    "print(trans_text_words)"
   ]
  },
  {
   "cell_type": "markdown",
   "id": "7c5f7820",
   "metadata": {},
   "source": [
    "Finally, we checked the percentage of words from translated text that matched the original text."
   ]
  },
  {
   "cell_type": "code",
   "execution_count": 41,
   "id": "51e76583",
   "metadata": {},
   "outputs": [
    {
     "name": "stdout",
     "output_type": "stream",
     "text": [
      "0.7096774193548387\n"
     ]
    }
   ],
   "source": [
    "acc = 0\n",
    "tot = 0\n",
    "for word in trans_text_words:\n",
    "    if word in eng_text_words:\n",
    "        acc += 1\n",
    "    tot += 1\n",
    "    \n",
    "score = acc / tot\n",
    "print(score)"
   ]
  },
  {
   "cell_type": "markdown",
   "id": "1375ad31",
   "metadata": {},
   "source": [
    "We also checked the BLEU Score."
   ]
  },
  {
   "cell_type": "markdown",
   "id": "32f24cdc",
   "metadata": {},
   "source": [
    "**2) BLEU Score**"
   ]
  },
  {
   "cell_type": "code",
   "execution_count": 42,
   "id": "fbd2e56e",
   "metadata": {},
   "outputs": [
    {
     "name": "stdout",
     "output_type": "stream",
     "text": [
      "BLEU score -> 0.49041180180807975\n"
     ]
    }
   ],
   "source": [
    "reference = [\n",
    "    trans_text.split()\n",
    "]\n",
    "\n",
    "candidate = eng_text.split()\n",
    "print('BLEU score -> {}'.format(sentence_bleu(reference, candidate)))"
   ]
  },
  {
   "cell_type": "markdown",
   "id": "98cc5a69",
   "metadata": {},
   "source": [
    "This indicates that the French to English translation using the Google API perform pretty well."
   ]
  },
  {
   "cell_type": "markdown",
   "id": "19237c5e",
   "metadata": {},
   "source": [
    "# Formal Text 2"
   ]
  },
  {
   "cell_type": "markdown",
   "id": "c2898b68",
   "metadata": {},
   "source": [
    "**The original text in English is:** Almost any exhibition of complete self sufficiency draws a stunned tribute from me.\n"
   ]
  },
  {
   "cell_type": "markdown",
   "id": "422e0c3d",
   "metadata": {},
   "source": [
    "## Chinese to English"
   ]
  },
  {
   "cell_type": "markdown",
   "id": "6a7676ee",
   "metadata": {},
   "source": [
    "Retrieving and translating the text data"
   ]
  },
  {
   "cell_type": "markdown",
   "id": "5a119ad6",
   "metadata": {},
   "source": [
    "**The text in Chinese is:** 这种几乎是完全我行我素的神情总是使我感到目瞪口呆，满心赞佩。"
   ]
  },
  {
   "cell_type": "markdown",
   "id": "ee223a7f",
   "metadata": {},
   "source": [
    "**The Google translation is:** This almost complete self-indulgence always left me dumbfounded and filled with admiration."
   ]
  },
  {
   "cell_type": "markdown",
   "id": "9e889638",
   "metadata": {},
   "source": [
    "### Qualitative Analysis:\n",
    "Based on our judgement as English speakers, we feel this translation was somewhat accurate and partially conveyed the meaning. We would score it a 6/10."
   ]
  },
  {
   "cell_type": "markdown",
   "id": "a7cb7c26",
   "metadata": {},
   "source": [
    "### Quantitative Analysis:"
   ]
  },
  {
   "cell_type": "markdown",
   "id": "3c21587c",
   "metadata": {},
   "source": [
    "**1) Percentage of words matching with original text**"
   ]
  },
  {
   "cell_type": "markdown",
   "id": "6f574a9c",
   "metadata": {},
   "source": [
    "First, we converted the original text to lowercase and removed special characters. This is to ensure a more fair and accurate comparison."
   ]
  },
  {
   "cell_type": "code",
   "execution_count": 21,
   "id": "bc6c5ae5",
   "metadata": {},
   "outputs": [
    {
     "name": "stdout",
     "output_type": "stream",
     "text": [
      "almost any exhibition of complete self sufficiency draws a stunned tribute from me\n"
     ]
    }
   ],
   "source": [
    "eng_text = data['Formal_Text_2'].iloc[0]\n",
    "\n",
    "special_characters=[',','.',':','?','!', \"”\", \"“\"]\n",
    "for i in special_characters:\n",
    "    eng_text=eng_text.replace(i,\"\")\n",
    "    \n",
    "eng_text = eng_text.lower()\n",
    "print(eng_text)"
   ]
  },
  {
   "cell_type": "markdown",
   "id": "7c09d1b8",
   "metadata": {},
   "source": [
    "Then, converted to a list"
   ]
  },
  {
   "cell_type": "code",
   "execution_count": 63,
   "id": "85f98422",
   "metadata": {},
   "outputs": [
    {
     "name": "stdout",
     "output_type": "stream",
     "text": [
      "['almost', 'any', 'exhibition', 'of', 'complete', 'self', 'sufficiency', 'draws', 'a', 'stunned', 'tribute', 'from', 'me']\n"
     ]
    }
   ],
   "source": [
    "eng_text_words = eng_text.split(\" \")\n",
    "print(eng_text_words)"
   ]
  },
  {
   "cell_type": "markdown",
   "id": "845c99ef",
   "metadata": {},
   "source": [
    "Next, converted the translated text to lowercase and removed special characters."
   ]
  },
  {
   "cell_type": "code",
   "execution_count": 64,
   "id": "9ec10950",
   "metadata": {},
   "outputs": [
    {
     "name": "stdout",
     "output_type": "stream",
     "text": [
      "this almost complete self-indulgence always left me dumbfounded and filled with admiration\n"
     ]
    }
   ],
   "source": [
    "trans_text = \"This almost complete self-indulgence always left me dumbfounded and filled with admiration.\"\n",
    "special_characters=[',','.',':','?','!', \"”\", \"“\"]\n",
    "for i in special_characters:\n",
    "    trans_text=trans_text.replace(i,\"\")\n",
    "    \n",
    "trans_text = trans_text.lower()\n",
    "print(trans_text)"
   ]
  },
  {
   "cell_type": "markdown",
   "id": "d4ff3caf",
   "metadata": {},
   "source": [
    "Then, converted this to a list too"
   ]
  },
  {
   "cell_type": "code",
   "execution_count": 65,
   "id": "ae0c8b05",
   "metadata": {},
   "outputs": [
    {
     "name": "stdout",
     "output_type": "stream",
     "text": [
      "['this', 'almost', 'complete', 'self-indulgence', 'always', 'left', 'me', 'dumbfounded', 'and', 'filled', 'with', 'admiration']\n"
     ]
    }
   ],
   "source": [
    "trans_text_words = trans_text.split(\" \")\n",
    "print(trans_text_words)"
   ]
  },
  {
   "cell_type": "markdown",
   "id": "baa6a189",
   "metadata": {},
   "source": [
    "Finally, we checked the percentage of words from translated text that matched the original text."
   ]
  },
  {
   "cell_type": "code",
   "execution_count": 66,
   "id": "485c9063",
   "metadata": {},
   "outputs": [
    {
     "name": "stdout",
     "output_type": "stream",
     "text": [
      "0.25\n"
     ]
    }
   ],
   "source": [
    "acc = 0\n",
    "tot = 0\n",
    "for word in trans_text_words:\n",
    "    if word in eng_text_words:\n",
    "        acc += 1\n",
    "    tot += 1\n",
    "    \n",
    "score = acc / tot\n",
    "print(score)"
   ]
  },
  {
   "cell_type": "markdown",
   "id": "9f53b4c1",
   "metadata": {},
   "source": [
    "We also checked the BLEU Score."
   ]
  },
  {
   "cell_type": "markdown",
   "id": "e1c32eff",
   "metadata": {},
   "source": [
    "**2) BLEU Score**"
   ]
  },
  {
   "cell_type": "code",
   "execution_count": 67,
   "id": "8ba97f72",
   "metadata": {},
   "outputs": [
    {
     "name": "stdout",
     "output_type": "stream",
     "text": [
      "BLEU score -> 1.2627076138080564e-231\n"
     ]
    }
   ],
   "source": [
    "reference = [\n",
    "    trans_text.split()\n",
    "]\n",
    "\n",
    "candidate = eng_text.split()\n",
    "print('BLEU score -> {}'.format(sentence_bleu(reference, candidate)))"
   ]
  },
  {
   "cell_type": "markdown",
   "id": "1bc849bc",
   "metadata": {},
   "source": [
    "This indicates that the Spanish to English translation using the Google API did not perform well."
   ]
  },
  {
   "cell_type": "markdown",
   "id": "db2fdea4",
   "metadata": {},
   "source": [
    "## Spanish to English "
   ]
  },
  {
   "cell_type": "markdown",
   "id": "661d9e34",
   "metadata": {},
   "source": [
    "Retrieving and translating the text data"
   ]
  },
  {
   "cell_type": "markdown",
   "id": "a62a4d9c",
   "metadata": {},
   "source": [
    "**The text in Spanish is:** Casi cualquier exhibición de total autosuficiencia arranca de mí un atónito tributo."
   ]
  },
  {
   "cell_type": "markdown",
   "id": "d73678aa",
   "metadata": {},
   "source": [
    "**The Google translation is:** Almost any display of total self-sufficiency draws a stunned tribute from me."
   ]
  },
  {
   "cell_type": "markdown",
   "id": "aeb79b1a",
   "metadata": {},
   "source": [
    "### Qualitative Analysis:\n",
    "Based on our judgement as English speakers, we feel this translation was accurate and conveyed the meaning well. We would score it a 9/10."
   ]
  },
  {
   "cell_type": "markdown",
   "id": "1b4398c2",
   "metadata": {},
   "source": [
    "### Quantitative Analysis:"
   ]
  },
  {
   "cell_type": "markdown",
   "id": "f6d25b99",
   "metadata": {},
   "source": [
    "**1) Percentage of words matching with original text**"
   ]
  },
  {
   "cell_type": "markdown",
   "id": "0fb69c2d",
   "metadata": {},
   "source": [
    "First, we converted the original text to lowercase and removed special characters. This is to ensure a more fair and accurate comparison."
   ]
  },
  {
   "cell_type": "code",
   "execution_count": 68,
   "id": "895ce90a",
   "metadata": {},
   "outputs": [
    {
     "name": "stdout",
     "output_type": "stream",
     "text": [
      "almost any exhibition of complete self sufficiency draws a stunned tribute from me\n"
     ]
    }
   ],
   "source": [
    "eng_text = data['Formal_Text_2'].iloc[0]\n",
    "\n",
    "special_characters=[',','.',':','?','!', \"”\", \"“\"]\n",
    "for i in special_characters:\n",
    "    eng_text=eng_text.replace(i,\"\")\n",
    "    \n",
    "eng_text = eng_text.lower()\n",
    "print(eng_text)"
   ]
  },
  {
   "cell_type": "markdown",
   "id": "632bcc91",
   "metadata": {},
   "source": [
    "Then, converted to a list"
   ]
  },
  {
   "cell_type": "code",
   "execution_count": 69,
   "id": "48c20afa",
   "metadata": {},
   "outputs": [
    {
     "name": "stdout",
     "output_type": "stream",
     "text": [
      "['almost', 'any', 'exhibition', 'of', 'complete', 'self', 'sufficiency', 'draws', 'a', 'stunned', 'tribute', 'from', 'me']\n"
     ]
    }
   ],
   "source": [
    "eng_text_words = eng_text.split(\" \")\n",
    "print(eng_text_words)"
   ]
  },
  {
   "cell_type": "markdown",
   "id": "81928c4b",
   "metadata": {},
   "source": [
    "Next, converted the translated text to lowercase and removed special characters."
   ]
  },
  {
   "cell_type": "code",
   "execution_count": 70,
   "id": "77ba8117",
   "metadata": {},
   "outputs": [
    {
     "name": "stdout",
     "output_type": "stream",
     "text": [
      "almost any display of total self-sufficiency draws a stunned tribute from me\n"
     ]
    }
   ],
   "source": [
    "trans_text = \"Almost any display of total self-sufficiency draws a stunned tribute from me.\"\n",
    "special_characters=[',','.',':','?','!', \"”\", \"“\"]\n",
    "for i in special_characters:\n",
    "    trans_text=trans_text.replace(i,\"\")\n",
    "    \n",
    "trans_text = trans_text.lower()\n",
    "print(trans_text)"
   ]
  },
  {
   "cell_type": "markdown",
   "id": "fe905631",
   "metadata": {},
   "source": [
    "Then, converted this to a list too"
   ]
  },
  {
   "cell_type": "code",
   "execution_count": 71,
   "id": "2db5d24c",
   "metadata": {},
   "outputs": [
    {
     "name": "stdout",
     "output_type": "stream",
     "text": [
      "['almost', 'any', 'display', 'of', 'total', 'self-sufficiency', 'draws', 'a', 'stunned', 'tribute', 'from', 'me']\n"
     ]
    }
   ],
   "source": [
    "trans_text_words = trans_text.split(\" \")\n",
    "print(trans_text_words)"
   ]
  },
  {
   "cell_type": "markdown",
   "id": "5805c312",
   "metadata": {},
   "source": [
    "Finally, we checked the percentage of words from translated text that matched the original text."
   ]
  },
  {
   "cell_type": "code",
   "execution_count": 72,
   "id": "518247de",
   "metadata": {},
   "outputs": [
    {
     "name": "stdout",
     "output_type": "stream",
     "text": [
      "0.75\n"
     ]
    }
   ],
   "source": [
    "acc = 0\n",
    "tot = 0\n",
    "for word in trans_text_words:\n",
    "    if word in eng_text_words:\n",
    "        acc += 1\n",
    "    tot += 1\n",
    "    \n",
    "score = acc / tot\n",
    "print(score)"
   ]
  },
  {
   "cell_type": "markdown",
   "id": "d02ffb30",
   "metadata": {},
   "source": [
    "We also checked the BLEU Score."
   ]
  },
  {
   "cell_type": "markdown",
   "id": "93b9fefc",
   "metadata": {},
   "source": [
    "**2) BLEU Score**"
   ]
  },
  {
   "cell_type": "code",
   "execution_count": 73,
   "id": "5f8966f0",
   "metadata": {},
   "outputs": [
    {
     "name": "stdout",
     "output_type": "stream",
     "text": [
      "BLEU score -> 0.44082318755867267\n"
     ]
    }
   ],
   "source": [
    "reference = [\n",
    "    trans_text.split()\n",
    "]\n",
    "\n",
    "candidate = eng_text.split()\n",
    "print('BLEU score -> {}'.format(sentence_bleu(reference, candidate)))"
   ]
  },
  {
   "cell_type": "markdown",
   "id": "67ec7a42",
   "metadata": {},
   "source": [
    "This indicates that the Spanish to English translation using the AWS API performed decently well."
   ]
  },
  {
   "cell_type": "markdown",
   "id": "0f392ffd",
   "metadata": {},
   "source": [
    "## French to English "
   ]
  },
  {
   "cell_type": "markdown",
   "id": "cc2e338a",
   "metadata": {},
   "source": [
    "Retrieving and translating the text data"
   ]
  },
  {
   "cell_type": "markdown",
   "id": "1b57cfb6",
   "metadata": {},
   "source": [
    "**The text in French is:** N’importe quelle exhibition d’assurance m’extorque un tribut étonné."
   ]
  },
  {
   "cell_type": "markdown",
   "id": "6667b063",
   "metadata": {},
   "source": [
    "**The Google translation is:** Any exhibition of assurance extorts an astonished tribute from me."
   ]
  },
  {
   "cell_type": "markdown",
   "id": "c5c1197c",
   "metadata": {},
   "source": [
    "### Qualitative Analysis:\n",
    "Based on our judgement as English speakers, we feel this translation was not entirely accurate. We would score it a 5/10."
   ]
  },
  {
   "cell_type": "markdown",
   "id": "baff3099",
   "metadata": {},
   "source": [
    "### Quantitative Analysis:"
   ]
  },
  {
   "cell_type": "markdown",
   "id": "91e05328",
   "metadata": {},
   "source": [
    "**1) Percentage of words matching with original text**"
   ]
  },
  {
   "cell_type": "markdown",
   "id": "35e535b7",
   "metadata": {},
   "source": [
    "First, we converted the original text to lowercase and removed special characters. This is to ensure a more fair and accurate comparison."
   ]
  },
  {
   "cell_type": "code",
   "execution_count": 74,
   "id": "360edfd7",
   "metadata": {},
   "outputs": [
    {
     "name": "stdout",
     "output_type": "stream",
     "text": [
      "almost any exhibition of complete self sufficiency draws a stunned tribute from me\n"
     ]
    }
   ],
   "source": [
    "eng_text = data['Formal_Text_2'].iloc[0]\n",
    "\n",
    "special_characters=[',','.',':','?','!', \"”\", \"“\"]\n",
    "for i in special_characters:\n",
    "    eng_text=eng_text.replace(i,\"\")\n",
    "    \n",
    "eng_text = eng_text.lower()\n",
    "print(eng_text)"
   ]
  },
  {
   "cell_type": "markdown",
   "id": "efb0db5a",
   "metadata": {},
   "source": [
    "Then, converted to a list"
   ]
  },
  {
   "cell_type": "code",
   "execution_count": 75,
   "id": "1af0edf5",
   "metadata": {},
   "outputs": [
    {
     "name": "stdout",
     "output_type": "stream",
     "text": [
      "['almost', 'any', 'exhibition', 'of', 'complete', 'self', 'sufficiency', 'draws', 'a', 'stunned', 'tribute', 'from', 'me']\n"
     ]
    }
   ],
   "source": [
    "eng_text_words = eng_text.split(\" \")\n",
    "print(eng_text_words)"
   ]
  },
  {
   "cell_type": "markdown",
   "id": "d8fa30e0",
   "metadata": {},
   "source": [
    "Next, converted the translated text to lowercase and removed special characters."
   ]
  },
  {
   "cell_type": "code",
   "execution_count": 76,
   "id": "b4834ab0",
   "metadata": {},
   "outputs": [
    {
     "name": "stdout",
     "output_type": "stream",
     "text": [
      "any exhibition of assurance extorts an astonished tribute from me\n"
     ]
    }
   ],
   "source": [
    "trans_text = \"Any exhibition of assurance extorts an astonished tribute from me.\"\n",
    "special_characters=[',','.',':','?','!', \"”\", \"“\"]\n",
    "for i in special_characters:\n",
    "    trans_text=trans_text.replace(i,\"\")\n",
    "    \n",
    "trans_text = trans_text.lower()\n",
    "print(trans_text)"
   ]
  },
  {
   "cell_type": "markdown",
   "id": "d52dc431",
   "metadata": {},
   "source": [
    "Then, converted this to a list too"
   ]
  },
  {
   "cell_type": "code",
   "execution_count": 77,
   "id": "e6a7d0ab",
   "metadata": {},
   "outputs": [
    {
     "name": "stdout",
     "output_type": "stream",
     "text": [
      "['any', 'exhibition', 'of', 'assurance', 'extorts', 'an', 'astonished', 'tribute', 'from', 'me']\n"
     ]
    }
   ],
   "source": [
    "trans_text_words = trans_text.split(\" \")\n",
    "print(trans_text_words)"
   ]
  },
  {
   "cell_type": "markdown",
   "id": "0d347396",
   "metadata": {},
   "source": [
    "Finally, we checked the percentage of words from translated text that matched the original text."
   ]
  },
  {
   "cell_type": "code",
   "execution_count": 78,
   "id": "d25ff9fd",
   "metadata": {},
   "outputs": [
    {
     "name": "stdout",
     "output_type": "stream",
     "text": [
      "0.6\n"
     ]
    }
   ],
   "source": [
    "acc = 0\n",
    "tot = 0\n",
    "for word in trans_text_words:\n",
    "    if word in eng_text_words:\n",
    "        acc += 1\n",
    "    tot += 1\n",
    "    \n",
    "score = acc / tot\n",
    "print(score)"
   ]
  },
  {
   "cell_type": "markdown",
   "id": "3c75ff50",
   "metadata": {},
   "source": [
    "We also checked the BLEU Score."
   ]
  },
  {
   "cell_type": "markdown",
   "id": "cbe04a4f",
   "metadata": {},
   "source": [
    "**2) BLEU Score**"
   ]
  },
  {
   "cell_type": "code",
   "execution_count": 79,
   "id": "a7162f49",
   "metadata": {},
   "outputs": [
    {
     "name": "stdout",
     "output_type": "stream",
     "text": [
      "BLEU score -> 4.994788421695789e-78\n"
     ]
    }
   ],
   "source": [
    "reference = [\n",
    "    trans_text.split()\n",
    "]\n",
    "\n",
    "candidate = eng_text.split()\n",
    "print('BLEU score -> {}'.format(sentence_bleu(reference, candidate)))"
   ]
  },
  {
   "cell_type": "markdown",
   "id": "5dfce669",
   "metadata": {},
   "source": [
    "This indicates that the Spanish to English translation using the AWS API did not perform well."
   ]
  }
 ],
 "metadata": {
  "kernelspec": {
   "display_name": "conda_python3",
   "language": "python",
   "name": "conda_python3"
  },
  "language_info": {
   "codemirror_mode": {
    "name": "ipython",
    "version": 3
   },
   "file_extension": ".py",
   "mimetype": "text/x-python",
   "name": "python",
   "nbconvert_exporter": "python",
   "pygments_lexer": "ipython3",
   "version": "3.8.12"
  }
 },
 "nbformat": 4,
 "nbformat_minor": 5
}
