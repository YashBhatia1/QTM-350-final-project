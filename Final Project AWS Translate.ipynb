{
 "cells": [
  {
   "cell_type": "markdown",
   "id": "e67b0c1c",
   "metadata": {},
   "source": [
    "# AWS Notebook\n",
    "## Importing Libraries and Data"
   ]
  },
  {
   "cell_type": "code",
   "execution_count": 80,
   "id": "7141f41d",
   "metadata": {},
   "outputs": [],
   "source": [
    "import pandas as pd\n",
    "import s3fs\n",
    "import boto3\n",
    "from nltk.translate.bleu_score import sentence_bleu"
   ]
  },
  {
   "cell_type": "code",
   "execution_count": 74,
   "id": "3821d9f9",
   "metadata": {},
   "outputs": [
    {
     "name": "stdout",
     "output_type": "stream",
     "text": [
      "2022-10-30 20:24:16     327126 AWS-ML-API.html\r\n",
      "2022-11-19 19:00:14        378 Trial.rtf\r\n",
      "2022-10-17 14:54:24     576453 my-notebook.html\r\n",
      "2022-11-19 19:28:52        908 tableConvert.csv\r\n",
      "2022-11-20 16:40:48       3167 tableConvert_2.csv\r\n",
      "2022-11-20 16:43:08       3183 tableConvert_4.csv\r\n",
      "2022-11-25 19:32:37       3283 tableConvert_5.csv\r\n"
     ]
    }
   ],
   "source": [
    "!aws s3 ls example-mallik"
   ]
  },
  {
   "cell_type": "code",
   "execution_count": 75,
   "id": "20c58cbd",
   "metadata": {},
   "outputs": [],
   "source": [
    "fs = s3fs.S3FileSystem()"
   ]
  },
  {
   "cell_type": "code",
   "execution_count": 76,
   "id": "8f8ffe95",
   "metadata": {},
   "outputs": [],
   "source": [
    "file = fs.open('s3://example-mallik/tableConvert_5.csv')"
   ]
  },
  {
   "cell_type": "code",
   "execution_count": 77,
   "id": "0b2b2ce1",
   "metadata": {},
   "outputs": [],
   "source": [
    "data = pd.read_csv(file)"
   ]
  },
  {
   "cell_type": "code",
   "execution_count": 78,
   "id": "a5d420a1",
   "metadata": {},
   "outputs": [
    {
     "data": {
      "text/html": [
       "<div>\n",
       "<style scoped>\n",
       "    .dataframe tbody tr th:only-of-type {\n",
       "        vertical-align: middle;\n",
       "    }\n",
       "\n",
       "    .dataframe tbody tr th {\n",
       "        vertical-align: top;\n",
       "    }\n",
       "\n",
       "    .dataframe thead th {\n",
       "        text-align: right;\n",
       "    }\n",
       "</style>\n",
       "<table border=\"1\" class=\"dataframe\">\n",
       "  <thead>\n",
       "    <tr style=\"text-align: right;\">\n",
       "      <th></th>\n",
       "      <th>Language</th>\n",
       "      <th>Informal_Text_1</th>\n",
       "      <th>Informal_Text_2</th>\n",
       "      <th>Formal_Text_1</th>\n",
       "      <th>Formal_Text_2</th>\n",
       "    </tr>\n",
       "  </thead>\n",
       "  <tbody>\n",
       "    <tr>\n",
       "      <th>0</th>\n",
       "      <td>English</td>\n",
       "      <td>In my younger and more vulnerable years my fat...</td>\n",
       "      <td>I had a dog — at least I had him for a few day...</td>\n",
       "      <td>In consequence, I’m inclined to reserve all ju...</td>\n",
       "      <td>Almost any exhibition of complete self suffici...</td>\n",
       "    </tr>\n",
       "    <tr>\n",
       "      <th>1</th>\n",
       "      <td>Chinese</td>\n",
       "      <td>我年纪还轻，阅历不深的时候，我父亲教导过我一句话，我至今还念念不忘。“每逢你想要批评任何人的...</td>\n",
       "      <td>我有一条狗——至少在它跑掉以前我养了它几天——一辆旧道吉汽车和一个芬兰女佣人，她替我收拾床铺...</td>\n",
       "      <td>久而久之，我就惯于对所有的人都保留判断，这个习惯既使得许多有怪僻的人肯跟我讲心里话，也使我成...</td>\n",
       "      <td>这种几乎是完全我行我素的神情总是使我感到目瞪口呆，满心赞佩。</td>\n",
       "    </tr>\n",
       "    <tr>\n",
       "      <th>2</th>\n",
       "      <td>Spanish</td>\n",
       "      <td>En mis años mozos y más vulnerables mi padre m...</td>\n",
       "      <td>Tenía un perro -o al menos lo tuve durante var...</td>\n",
       "      <td>En consecuencia, soy una persona dada a reserv...</td>\n",
       "      <td>Casi cualquier exhibición de total autosuficie...</td>\n",
       "    </tr>\n",
       "    <tr>\n",
       "      <th>3</th>\n",
       "      <td>French</td>\n",
       "      <td>Quand j’étais plus jeune, ce qui veut dire plu...</td>\n",
       "      <td>J’avais un chien – du moins je l’eus pendant q...</td>\n",
       "      <td>En conséquence, je suis porté à réserver mes j...</td>\n",
       "      <td>N’importe quelle exhibition d’assurance m’exto...</td>\n",
       "    </tr>\n",
       "  </tbody>\n",
       "</table>\n",
       "</div>"
      ],
      "text/plain": [
       "  Language                                    Informal_Text_1  \\\n",
       "0  English  In my younger and more vulnerable years my fat...   \n",
       "1  Chinese  我年纪还轻，阅历不深的时候，我父亲教导过我一句话，我至今还念念不忘。“每逢你想要批评任何人的...   \n",
       "2  Spanish  En mis años mozos y más vulnerables mi padre m...   \n",
       "3   French  Quand j’étais plus jeune, ce qui veut dire plu...   \n",
       "\n",
       "                                     Informal_Text_2  \\\n",
       "0  I had a dog — at least I had him for a few day...   \n",
       "1  我有一条狗——至少在它跑掉以前我养了它几天——一辆旧道吉汽车和一个芬兰女佣人，她替我收拾床铺...   \n",
       "2  Tenía un perro -o al menos lo tuve durante var...   \n",
       "3  J’avais un chien – du moins je l’eus pendant q...   \n",
       "\n",
       "                                       Formal_Text_1  \\\n",
       "0  In consequence, I’m inclined to reserve all ju...   \n",
       "1  久而久之，我就惯于对所有的人都保留判断，这个习惯既使得许多有怪僻的人肯跟我讲心里话，也使我成...   \n",
       "2  En consecuencia, soy una persona dada a reserv...   \n",
       "3  En conséquence, je suis porté à réserver mes j...   \n",
       "\n",
       "                                       Formal_Text_2  \n",
       "0  Almost any exhibition of complete self suffici...  \n",
       "1                     这种几乎是完全我行我素的神情总是使我感到目瞪口呆，满心赞佩。  \n",
       "2  Casi cualquier exhibición de total autosuficie...  \n",
       "3  N’importe quelle exhibition d’assurance m’exto...  "
      ]
     },
     "execution_count": 78,
     "metadata": {},
     "output_type": "execute_result"
    }
   ],
   "source": [
    "data"
   ]
  },
  {
   "cell_type": "markdown",
   "id": "fa3aab80",
   "metadata": {},
   "source": [
    "We will take the Chinese, Spanish, and French translation of the same sentence and translate this sentence into English. We will do this in both Google Translate and AWS Translate."
   ]
  },
  {
   "cell_type": "code",
   "execution_count": null,
   "id": "8980982a",
   "metadata": {},
   "outputs": [],
   "source": [
    "translate=boto3.client(\"translate\")"
   ]
  },
  {
   "cell_type": "markdown",
   "id": "1255b5b7-2d3a-460f-ae68-3cf529a76b05",
   "metadata": {},
   "source": [
    "# Informal Text 1"
   ]
  },
  {
   "cell_type": "markdown",
   "id": "db722a4c-fb80-487b-bdb8-630d377f948b",
   "metadata": {},
   "source": [
    "**The original text in English is:**\n",
    "In my younger and more vulnerable years my father gave me some advice that I’ve been turning over in my mind ever since. “Whenever you feel like criticizing any one,” he told me, “just remember that all the people in this world haven’t had the advantages that you’ve had.”"
   ]
  },
  {
   "cell_type": "markdown",
   "id": "2a97add4-4aeb-49bc-8f5b-91d54627a59a",
   "metadata": {
    "tags": []
   },
   "source": [
    "### Chinese to English\n",
    "**The text in Chinese is:**\n",
    "我年纪还轻，阅历不深的时候，我父亲教导过我一句话，我至今还念念不忘。“每逢你想要批评任何人的时候，”他对我说，“你就记住，这个世界上所有的人，并不是个个都有过你拥有的那些优越条件。”"
   ]
  },
  {
   "cell_type": "markdown",
   "id": "7fbc2392",
   "metadata": {},
   "source": [
    "Retrieving and translating the text data "
   ]
  },
  {
   "cell_type": "code",
   "execution_count": 16,
   "id": "5c6914cf-e4b8-4349-871f-c954b6bb1aba",
   "metadata": {},
   "outputs": [
    {
     "data": {
      "text/plain": [
       "{'TranslatedText': 'When I was still young and not experienced, my father taught me a phrase I still remember. “Every time you want to criticize anyone,” he said to me, “just remember, not everyone in this world has the advantages you have',\n",
       " 'SourceLanguageCode': 'zh',\n",
       " 'TargetLanguageCode': 'en',\n",
       " 'ResponseMetadata': {'RequestId': '8dee054f-4182-4b6b-82ab-4f99bad39618',\n",
       "  'HTTPStatusCode': 200,\n",
       "  'HTTPHeaders': {'x-amzn-requestid': '8dee054f-4182-4b6b-82ab-4f99bad39618',\n",
       "   'cache-control': 'no-cache',\n",
       "   'content-type': 'application/x-amz-json-1.1',\n",
       "   'content-length': '298',\n",
       "   'date': 'Fri, 25 Nov 2022 18:48:53 GMT'},\n",
       "  'RetryAttempts': 0}}"
      ]
     },
     "execution_count": 16,
     "metadata": {},
     "output_type": "execute_result"
    }
   ],
   "source": [
    "text = data['Informal_Text_1'].iloc[1]\n",
    "translate.translate_text(Text= text, SourceLanguageCode = \"auto\", TargetLanguageCode = \"en\")"
   ]
  },
  {
   "cell_type": "markdown",
   "id": "d2051725-600a-4d3e-89c5-dcaf95feec42",
   "metadata": {},
   "source": [
    "**From above, the AWS translation is:**\n",
    "When I was still young and not experienced, my father taught me a phrase I still remember. “Every time you want to criticize anyone,” he said to me, “just remember, not everyone in this world has the advantages you have\"."
   ]
  },
  {
   "cell_type": "markdown",
   "id": "b94ee968-8613-4fde-834f-57716370b6a2",
   "metadata": {},
   "source": [
    "### Qualitative Analysis:"
   ]
  },
  {
   "cell_type": "markdown",
   "id": "69288068-0bfc-43fc-8dc6-1bfde6df0744",
   "metadata": {},
   "source": [
    "Based on our judgement as English speakers, we feel this translation was pretty accurate and conveyed the meaning well enough. We would score it a \n",
    "**8.5/10.**"
   ]
  },
  {
   "cell_type": "markdown",
   "id": "c02ed05a-4fcc-4d27-a80d-4ded1eff18fb",
   "metadata": {},
   "source": [
    "#### Quantitative Analysis"
   ]
  },
  {
   "cell_type": "markdown",
   "id": "ac3a2a47",
   "metadata": {},
   "source": [
    "**1) Percentage of words matching with original text**"
   ]
  },
  {
   "cell_type": "markdown",
   "id": "a203baa9",
   "metadata": {},
   "source": [
    "First, we converted the original text to lowercase and removed special characters. This is to ensure a more fair and accurate comparison."
   ]
  },
  {
   "cell_type": "code",
   "execution_count": 18,
   "id": "65836799-848f-4d2e-bf51-f85a3c1ba185",
   "metadata": {},
   "outputs": [],
   "source": [
    "eng_text = data['Informal_Text_1'].iloc[0]"
   ]
  },
  {
   "cell_type": "code",
   "execution_count": 19,
   "id": "dcc56219-6c50-4e6c-881c-1a7041f09b41",
   "metadata": {},
   "outputs": [
    {
     "name": "stdout",
     "output_type": "stream",
     "text": [
      "in my younger and more vulnerable years my father gave me some advice that i’ve been turning over in my mind ever since whenever you feel like criticizing any one he told me just remember that all the people in this world haven’t had the advantages that you’ve had\n"
     ]
    }
   ],
   "source": [
    "special_characters=[',','.',':','?','!', \"”\", \"“\"]\n",
    "for i in special_characters:\n",
    "    eng_text=eng_text.replace(i,\"\")\n",
    "    \n",
    "eng_text = eng_text.lower()\n",
    "print(eng_text)"
   ]
  },
  {
   "cell_type": "markdown",
   "id": "ea4513ef",
   "metadata": {},
   "source": [
    "Then, converted to a list"
   ]
  },
  {
   "cell_type": "code",
   "execution_count": 20,
   "id": "c644ceae-0b89-46e8-a7ef-c307a6c6780c",
   "metadata": {},
   "outputs": [
    {
     "name": "stdout",
     "output_type": "stream",
     "text": [
      "['in', 'my', 'younger', 'and', 'more', 'vulnerable', 'years', 'my', 'father', 'gave', 'me', 'some', 'advice', 'that', 'i’ve', 'been', 'turning', 'over', 'in', 'my', 'mind', 'ever', 'since', 'whenever', 'you', 'feel', 'like', 'criticizing', 'any', 'one', 'he', 'told', 'me', 'just', 'remember', 'that', 'all', 'the', 'people', 'in', 'this', 'world', 'haven’t', 'had', 'the', 'advantages', 'that', 'you’ve', 'had']\n"
     ]
    }
   ],
   "source": [
    "eng_text_words = eng_text.split(\" \")\n",
    "print(eng_text_words)"
   ]
  },
  {
   "cell_type": "markdown",
   "id": "e522cad5",
   "metadata": {},
   "source": [
    "Next, converted the translated text to lowercase and removed special characters"
   ]
  },
  {
   "cell_type": "code",
   "execution_count": 25,
   "id": "75f18c9a-1190-4558-850b-ddac47b40f79",
   "metadata": {},
   "outputs": [],
   "source": [
    "translation_info = translate.translate_text(Text= text, SourceLanguageCode = \"auto\", TargetLanguageCode = \"en\")\n",
    "trans_text = translation_info['TranslatedText']"
   ]
  },
  {
   "cell_type": "code",
   "execution_count": 26,
   "id": "f28e842e-8ea8-4979-951d-6bccfb32f866",
   "metadata": {},
   "outputs": [
    {
     "name": "stdout",
     "output_type": "stream",
     "text": [
      "when i was still young and not experienced my father taught me a phrase i still remember every time you want to criticize anyone he said to me just remember not everyone in this world has the advantages you have\n"
     ]
    }
   ],
   "source": [
    "special_characters=[',','.',':','?','!', \"”\", \"“\"]\n",
    "for i in special_characters:\n",
    "    trans_text=trans_text.replace(i,\"\")\n",
    "    \n",
    "trans_text = trans_text.lower()\n",
    "print(trans_text)"
   ]
  },
  {
   "cell_type": "markdown",
   "id": "f34ef47e",
   "metadata": {},
   "source": [
    "Then, converted this to a list too."
   ]
  },
  {
   "cell_type": "code",
   "execution_count": 27,
   "id": "ca8f3c07-80b6-4829-8361-b6eef3b75261",
   "metadata": {},
   "outputs": [
    {
     "name": "stdout",
     "output_type": "stream",
     "text": [
      "['when', 'i', 'was', 'still', 'young', 'and', 'not', 'experienced', 'my', 'father', 'taught', 'me', 'a', 'phrase', 'i', 'still', 'remember', 'every', 'time', 'you', 'want', 'to', 'criticize', 'anyone', 'he', 'said', 'to', 'me', 'just', 'remember', 'not', 'everyone', 'in', 'this', 'world', 'has', 'the', 'advantages', 'you', 'have']\n"
     ]
    }
   ],
   "source": [
    "trans_text_words = trans_text.split(\" \")\n",
    "print(trans_text_words)"
   ]
  },
  {
   "cell_type": "markdown",
   "id": "189e2d6c",
   "metadata": {},
   "source": [
    "Finally, we checked the percentage of words from translated text that matched the original text."
   ]
  },
  {
   "cell_type": "code",
   "execution_count": 28,
   "id": "3a121e15-64c2-4a0c-aa0e-65d9d399bb20",
   "metadata": {},
   "outputs": [
    {
     "name": "stdout",
     "output_type": "stream",
     "text": [
      "0.4\n"
     ]
    }
   ],
   "source": [
    "acc = 0\n",
    "tot = 0\n",
    "for word in trans_text_words:\n",
    "    if word in eng_text_words:\n",
    "        acc += 1\n",
    "    tot += 1\n",
    "    \n",
    "score = acc / tot\n",
    "print(score)\n",
    "    "
   ]
  },
  {
   "cell_type": "markdown",
   "id": "88813f7b",
   "metadata": {},
   "source": [
    "We also checked the BLEU Score."
   ]
  },
  {
   "cell_type": "markdown",
   "id": "501159f9",
   "metadata": {},
   "source": [
    "**2) BLEU Score**"
   ]
  },
  {
   "cell_type": "code",
   "execution_count": 29,
   "id": "8acaab0f",
   "metadata": {},
   "outputs": [
    {
     "name": "stdout",
     "output_type": "stream",
     "text": [
      "BLEU score -> 2.411457623351326e-78\n"
     ]
    },
    {
     "name": "stderr",
     "output_type": "stream",
     "text": [
      "/home/ec2-user/anaconda3/envs/python3/lib/python3.8/site-packages/nltk/translate/bleu_score.py:552: UserWarning: \n",
      "The hypothesis contains 0 counts of 4-gram overlaps.\n",
      "Therefore the BLEU score evaluates to 0, independently of\n",
      "how many N-gram overlaps of lower order it contains.\n",
      "Consider using lower n-gram order or use SmoothingFunction()\n",
      "  warnings.warn(_msg)\n"
     ]
    }
   ],
   "source": [
    "reference = [\n",
    "    trans_text.split()\n",
    "]\n",
    "\n",
    "candidate = eng_text.split()\n",
    "print('BLEU score -> {}'.format(sentence_bleu(reference, candidate)))"
   ]
  },
  {
   "cell_type": "markdown",
   "id": "b1c95169",
   "metadata": {},
   "source": [
    "This indicates that the Chinese to English translation using the AWS API did not perform well."
   ]
  },
  {
   "cell_type": "markdown",
   "id": "7b4259de-7925-4c22-82ce-11d0d3f65fd2",
   "metadata": {
    "tags": []
   },
   "source": [
    "### Spanish to English\n",
    "**The text in Spanish is:**\n",
    "\"En mis años mozos y más vulnerables mi padre me dio un consejo que desde aquella época no ha dejado de darme vueltas en la cabeza. “Cuando sientas deseos de criticar a alguien” -fueron sus palabras- “recuerda que no todo el mundo ha tenido las mismas oportunidades que tú tuviste.”"
   ]
  },
  {
   "cell_type": "markdown",
   "id": "8def5462",
   "metadata": {},
   "source": [
    "Retrieving and translating the text data"
   ]
  },
  {
   "cell_type": "code",
   "execution_count": 31,
   "id": "47746907-da5e-4170-aa34-ddd892a6bed0",
   "metadata": {},
   "outputs": [
    {
     "data": {
      "text/plain": [
       "{'TranslatedText': \"In my younger and most vulnerable years, my father gave me a piece of advice that hasn't stopped spinning in my head ever since. 'When you feel like criticizing someone' -were his words- 'remember that not everyone has had the same opportunities that you had. '\",\n",
       " 'SourceLanguageCode': 'es',\n",
       " 'TargetLanguageCode': 'en',\n",
       " 'ResponseMetadata': {'RequestId': 'eb1247b3-f979-4dfb-923f-b64242ea4ef6',\n",
       "  'HTTPStatusCode': 200,\n",
       "  'HTTPHeaders': {'x-amzn-requestid': 'eb1247b3-f979-4dfb-923f-b64242ea4ef6',\n",
       "   'cache-control': 'no-cache',\n",
       "   'content-type': 'application/x-amz-json-1.1',\n",
       "   'content-length': '334',\n",
       "   'date': 'Fri, 25 Nov 2022 18:55:30 GMT'},\n",
       "  'RetryAttempts': 0}}"
      ]
     },
     "execution_count": 31,
     "metadata": {},
     "output_type": "execute_result"
    }
   ],
   "source": [
    "text = data['Informal_Text_1'].iloc[2]\n",
    "translate.translate_text(Text= text, SourceLanguageCode = \"auto\", TargetLanguageCode = \"en\")"
   ]
  },
  {
   "cell_type": "markdown",
   "id": "dd20ac06-41b8-4f7d-b332-e7cad51b9294",
   "metadata": {},
   "source": [
    "**From above, the AWS translation is:**\n",
    "In my younger and more vulnerable years, my father gave me advice that hasn't stopped spinning in my head ever since. “When you feel like criticizing someone” -were his words- “remember that not everyone has had the same opportunities as you did.”"
   ]
  },
  {
   "cell_type": "markdown",
   "id": "f10897de",
   "metadata": {},
   "source": [
    "### Qualitative Analysis"
   ]
  },
  {
   "cell_type": "markdown",
   "id": "a0abf63e-8a1e-46ec-837c-483e111dc071",
   "metadata": {},
   "source": [
    "Based on our judgement as English speakers, we feel this translation was pretty accurate and conveyed the meaning well enough. We would score it a \n",
    "**9/10.**"
   ]
  },
  {
   "cell_type": "markdown",
   "id": "26715eb1",
   "metadata": {},
   "source": [
    "### Quantitative Analysis"
   ]
  },
  {
   "cell_type": "markdown",
   "id": "44043965",
   "metadata": {},
   "source": [
    "**1) Percentage of words matching with original text**"
   ]
  },
  {
   "cell_type": "markdown",
   "id": "b09ed2d5",
   "metadata": {},
   "source": [
    "First, we converted the original text to lowercase and removed special characters. This is to ensure a more fair and accurate comparison."
   ]
  },
  {
   "cell_type": "code",
   "execution_count": 33,
   "id": "a0a6ecac",
   "metadata": {},
   "outputs": [],
   "source": [
    "eng_text = data['Informal_Text_1'].iloc[0]"
   ]
  },
  {
   "cell_type": "code",
   "execution_count": 34,
   "id": "e17e7263",
   "metadata": {},
   "outputs": [
    {
     "name": "stdout",
     "output_type": "stream",
     "text": [
      "in my younger and more vulnerable years my father gave me some advice that i’ve been turning over in my mind ever since whenever you feel like criticizing any one he told me just remember that all the people in this world haven’t had the advantages that you’ve had\n"
     ]
    }
   ],
   "source": [
    "special_characters=[',','.',':','?','!', \"”\", \"“\"]\n",
    "for i in special_characters:\n",
    "    eng_text=eng_text.replace(i,\"\")\n",
    "    \n",
    "eng_text = eng_text.lower()\n",
    "print(eng_text)"
   ]
  },
  {
   "cell_type": "markdown",
   "id": "b44b3e38",
   "metadata": {},
   "source": [
    "Then, converted to a list"
   ]
  },
  {
   "cell_type": "code",
   "execution_count": 35,
   "id": "729efefc",
   "metadata": {},
   "outputs": [
    {
     "name": "stdout",
     "output_type": "stream",
     "text": [
      "['in', 'my', 'younger', 'and', 'more', 'vulnerable', 'years', 'my', 'father', 'gave', 'me', 'some', 'advice', 'that', 'i’ve', 'been', 'turning', 'over', 'in', 'my', 'mind', 'ever', 'since', 'whenever', 'you', 'feel', 'like', 'criticizing', 'any', 'one', 'he', 'told', 'me', 'just', 'remember', 'that', 'all', 'the', 'people', 'in', 'this', 'world', 'haven’t', 'had', 'the', 'advantages', 'that', 'you’ve', 'had']\n"
     ]
    }
   ],
   "source": [
    "eng_text_words = eng_text.split(\" \")\n",
    "print(eng_text_words)"
   ]
  },
  {
   "cell_type": "markdown",
   "id": "f69ce1d3",
   "metadata": {},
   "source": [
    "Next, converted the translated text to lowercase and removed special characters"
   ]
  },
  {
   "cell_type": "code",
   "execution_count": 38,
   "id": "50364f03",
   "metadata": {},
   "outputs": [],
   "source": [
    "translation_info = translate.translate_text(Text= text, SourceLanguageCode = \"auto\", TargetLanguageCode = \"en\")\n",
    "trans_text = translation_info['TranslatedText']"
   ]
  },
  {
   "cell_type": "code",
   "execution_count": 39,
   "id": "b3cbf100",
   "metadata": {},
   "outputs": [
    {
     "name": "stdout",
     "output_type": "stream",
     "text": [
      "in my younger and most vulnerable years my father gave me a piece of advice that hasn't stopped spinning in my head ever since 'when you feel like criticizing someone' -were his words- 'remember that not everyone has had the same opportunities that you had '\n"
     ]
    }
   ],
   "source": [
    "special_characters=[',','.',':','?','!', \"”\", \"“\"]\n",
    "for i in special_characters:\n",
    "    trans_text=trans_text.replace(i,\"\")\n",
    "    \n",
    "trans_text = trans_text.lower()\n",
    "print(trans_text)"
   ]
  },
  {
   "cell_type": "markdown",
   "id": "959650a6",
   "metadata": {},
   "source": [
    "Then, converted this to a list too."
   ]
  },
  {
   "cell_type": "code",
   "execution_count": 40,
   "id": "790bd636",
   "metadata": {},
   "outputs": [
    {
     "name": "stdout",
     "output_type": "stream",
     "text": [
      "['in', 'my', 'younger', 'and', 'most', 'vulnerable', 'years', 'my', 'father', 'gave', 'me', 'a', 'piece', 'of', 'advice', 'that', \"hasn't\", 'stopped', 'spinning', 'in', 'my', 'head', 'ever', 'since', \"'when\", 'you', 'feel', 'like', 'criticizing', \"someone'\", '-were', 'his', 'words-', \"'remember\", 'that', 'not', 'everyone', 'has', 'had', 'the', 'same', 'opportunities', 'that', 'you', 'had', \"'\"]\n"
     ]
    }
   ],
   "source": [
    "trans_text_words = trans_text.split(\" \")\n",
    "print(trans_text_words)"
   ]
  },
  {
   "cell_type": "markdown",
   "id": "23579b7f",
   "metadata": {},
   "source": [
    "Finally, we checked the percentage of words from translated text that matched the original text."
   ]
  },
  {
   "cell_type": "code",
   "execution_count": 41,
   "id": "c1ccd6ed",
   "metadata": {},
   "outputs": [
    {
     "name": "stdout",
     "output_type": "stream",
     "text": [
      "0.5652173913043478\n"
     ]
    }
   ],
   "source": [
    "acc = 0\n",
    "tot = 0\n",
    "for word in trans_text_words:\n",
    "    if word in eng_text_words:\n",
    "        acc += 1\n",
    "    tot += 1\n",
    "    \n",
    "score = acc / tot\n",
    "print(score)\n",
    "    "
   ]
  },
  {
   "cell_type": "markdown",
   "id": "698abc05",
   "metadata": {},
   "source": [
    "We also checked the BLEU Score."
   ]
  },
  {
   "cell_type": "markdown",
   "id": "fdede82b",
   "metadata": {},
   "source": [
    "**2) BLEU Score**"
   ]
  },
  {
   "cell_type": "code",
   "execution_count": 42,
   "id": "3abae479",
   "metadata": {},
   "outputs": [
    {
     "name": "stdout",
     "output_type": "stream",
     "text": [
      "BLEU score -> 0.2330502445581504\n"
     ]
    }
   ],
   "source": [
    "reference = [\n",
    "    trans_text.split()\n",
    "]\n",
    "\n",
    "candidate = eng_text.split()\n",
    "print('BLEU score -> {}'.format(sentence_bleu(reference, candidate)))"
   ]
  },
  {
   "cell_type": "markdown",
   "id": "9bf6b7e2",
   "metadata": {},
   "source": [
    "This indicates that the Spanish to English translation using the AWS API didn't perform too well, but better than the other translations."
   ]
  },
  {
   "cell_type": "markdown",
   "id": "8811a1b4-11a1-4e2a-9045-121a3daa9ae1",
   "metadata": {
    "tags": []
   },
   "source": [
    "### French to English\n",
    "**The text in French is:**\n",
    "Quand j’étais plus jeune, ce qui veut dire plus vulnérable, mon père me donna un conseil que je ne cesse de retourner dans mon esprit : – Quand tu auras envie de critiquer quelqu’un, songe que tout le monde n’a pas joui des mêmes avantages que toi.\n"
   ]
  },
  {
   "cell_type": "markdown",
   "id": "b89d89af",
   "metadata": {},
   "source": [
    "Retrieving and translating the text data"
   ]
  },
  {
   "cell_type": "code",
   "execution_count": 44,
   "id": "f6e608ef-6e6f-4a8f-b81a-49d670ab54ed",
   "metadata": {},
   "outputs": [
    {
     "data": {
      "text/plain": [
       "{'TranslatedText': 'When I was younger, which means more vulnerable, my father gave me advice that I keep coming back to my mind: — When you feel like criticizing someone, think that not everyone has enjoyed the same benefits as you.',\n",
       " 'SourceLanguageCode': 'fr',\n",
       " 'TargetLanguageCode': 'en',\n",
       " 'ResponseMetadata': {'RequestId': '78faa28d-f3f8-45d9-b6cf-43ec906fb8b2',\n",
       "  'HTTPStatusCode': 200,\n",
       "  'HTTPHeaders': {'x-amzn-requestid': '78faa28d-f3f8-45d9-b6cf-43ec906fb8b2',\n",
       "   'cache-control': 'no-cache',\n",
       "   'content-type': 'application/x-amz-json-1.1',\n",
       "   'content-length': '288',\n",
       "   'date': 'Fri, 25 Nov 2022 19:01:24 GMT'},\n",
       "  'RetryAttempts': 0}}"
      ]
     },
     "execution_count": 44,
     "metadata": {},
     "output_type": "execute_result"
    }
   ],
   "source": [
    "text = data['Informal_Text_1'].iloc[3]\n",
    "translate.translate_text(Text= text, SourceLanguageCode = \"auto\", TargetLanguageCode = \"en\")\n"
   ]
  },
  {
   "cell_type": "markdown",
   "id": "718b20bf-7814-4e1d-8af9-ac1c966d6ec9",
   "metadata": {},
   "source": [
    "**From above, the AWS translation is:**\n",
    "'When I was younger, which means more vulnerable, my father gave me advice that I keep coming back to my mind: — When you feel like criticizing someone, think that not everyone has enjoyed the same benefits as you.'"
   ]
  },
  {
   "cell_type": "markdown",
   "id": "16738457",
   "metadata": {},
   "source": [
    "### Qualitative Analysis:"
   ]
  },
  {
   "cell_type": "markdown",
   "id": "ac015059",
   "metadata": {},
   "source": [
    "Based on our judgement as English speakers, we feel this translation was pretty accurate and conveyed the meaning well enough. We would score it a \n",
    "**9/10.**"
   ]
  },
  {
   "cell_type": "markdown",
   "id": "609790cd",
   "metadata": {},
   "source": [
    "### Quantitative Analysis"
   ]
  },
  {
   "cell_type": "markdown",
   "id": "76cab222",
   "metadata": {},
   "source": [
    "**1) Percentage of words matching with original text**"
   ]
  },
  {
   "cell_type": "markdown",
   "id": "e1fb8961",
   "metadata": {},
   "source": [
    "First, we converted the original text to lowercase and removed special characters. This is to ensure a more fair and accurate comparison."
   ]
  },
  {
   "cell_type": "code",
   "execution_count": 45,
   "id": "406c0f40",
   "metadata": {},
   "outputs": [],
   "source": [
    "eng_text = data['Informal_Text_1'].iloc[0]"
   ]
  },
  {
   "cell_type": "code",
   "execution_count": 46,
   "id": "e53d7c27",
   "metadata": {},
   "outputs": [
    {
     "name": "stdout",
     "output_type": "stream",
     "text": [
      "in my younger and more vulnerable years my father gave me some advice that i’ve been turning over in my mind ever since whenever you feel like criticizing any one he told me just remember that all the people in this world haven’t had the advantages that you’ve had\n"
     ]
    }
   ],
   "source": [
    "special_characters=[',','.',':','?','!', \"”\", \"“\"]\n",
    "for i in special_characters:\n",
    "    eng_text=eng_text.replace(i,\"\")\n",
    "    \n",
    "eng_text = eng_text.lower()\n",
    "print(eng_text)"
   ]
  },
  {
   "cell_type": "markdown",
   "id": "e24a5654",
   "metadata": {},
   "source": [
    "Then, converted to a list"
   ]
  },
  {
   "cell_type": "code",
   "execution_count": 47,
   "id": "3d61b3a0",
   "metadata": {},
   "outputs": [
    {
     "name": "stdout",
     "output_type": "stream",
     "text": [
      "['in', 'my', 'younger', 'and', 'more', 'vulnerable', 'years', 'my', 'father', 'gave', 'me', 'some', 'advice', 'that', 'i’ve', 'been', 'turning', 'over', 'in', 'my', 'mind', 'ever', 'since', 'whenever', 'you', 'feel', 'like', 'criticizing', 'any', 'one', 'he', 'told', 'me', 'just', 'remember', 'that', 'all', 'the', 'people', 'in', 'this', 'world', 'haven’t', 'had', 'the', 'advantages', 'that', 'you’ve', 'had']\n"
     ]
    }
   ],
   "source": [
    "eng_text_words = eng_text.split(\" \")\n",
    "print(eng_text_words)"
   ]
  },
  {
   "cell_type": "markdown",
   "id": "102371f7",
   "metadata": {},
   "source": [
    "Next, converted the translated text to lowercase and removed special characters"
   ]
  },
  {
   "cell_type": "code",
   "execution_count": 48,
   "id": "ffc01dc5",
   "metadata": {},
   "outputs": [
    {
     "data": {
      "text/plain": [
       "'When I was younger, which means more vulnerable, my father gave me advice that I keep coming back to my mind: — When you feel like criticizing someone, think that not everyone has enjoyed the same benefits as you.'"
      ]
     },
     "execution_count": 48,
     "metadata": {},
     "output_type": "execute_result"
    }
   ],
   "source": [
    "translation_info = translate.translate_text(Text= text, SourceLanguageCode = \"auto\", TargetLanguageCode = \"en\")\n",
    "trans_text = translation_info['TranslatedText']"
   ]
  },
  {
   "cell_type": "code",
   "execution_count": 49,
   "id": "5ba52a66",
   "metadata": {},
   "outputs": [
    {
     "name": "stdout",
     "output_type": "stream",
     "text": [
      "when i was younger which means more vulnerable my father gave me advice that i keep coming back to my mind — when you feel like criticizing someone think that not everyone has enjoyed the same benefits as you\n"
     ]
    }
   ],
   "source": [
    "special_characters=[',','.',':','?','!', \"”\", \"“\"]\n",
    "for i in special_characters:\n",
    "    trans_text=trans_text.replace(i,\"\")\n",
    "    \n",
    "trans_text = trans_text.lower()\n",
    "print(trans_text)"
   ]
  },
  {
   "cell_type": "markdown",
   "id": "c79c08e0",
   "metadata": {},
   "source": [
    "Then, converted this to a list too."
   ]
  },
  {
   "cell_type": "code",
   "execution_count": 50,
   "id": "b0c56661",
   "metadata": {},
   "outputs": [
    {
     "name": "stdout",
     "output_type": "stream",
     "text": [
      "['when', 'i', 'was', 'younger', 'which', 'means', 'more', 'vulnerable', 'my', 'father', 'gave', 'me', 'advice', 'that', 'i', 'keep', 'coming', 'back', 'to', 'my', 'mind', '—', 'when', 'you', 'feel', 'like', 'criticizing', 'someone', 'think', 'that', 'not', 'everyone', 'has', 'enjoyed', 'the', 'same', 'benefits', 'as', 'you']\n"
     ]
    }
   ],
   "source": [
    "trans_text_words = trans_text.split(\" \")\n",
    "print(trans_text_words)"
   ]
  },
  {
   "cell_type": "markdown",
   "id": "cd23dfb9",
   "metadata": {},
   "source": [
    "Finally, we checked the percentage of words from translated text that matched the original text."
   ]
  },
  {
   "cell_type": "code",
   "execution_count": 51,
   "id": "4b2cce06",
   "metadata": {},
   "outputs": [
    {
     "name": "stdout",
     "output_type": "stream",
     "text": [
      "0.46153846153846156\n"
     ]
    }
   ],
   "source": [
    "acc = 0\n",
    "tot = 0\n",
    "for word in trans_text_words:\n",
    "    if word in eng_text_words:\n",
    "        acc += 1\n",
    "    tot += 1\n",
    "    \n",
    "score = acc / tot\n",
    "print(score)\n",
    "    "
   ]
  },
  {
   "cell_type": "markdown",
   "id": "193a54f0",
   "metadata": {},
   "source": [
    "We also checked the BLEU Score."
   ]
  },
  {
   "cell_type": "markdown",
   "id": "9c7f54d8",
   "metadata": {},
   "source": [
    "**2) BLEU Score**"
   ]
  },
  {
   "cell_type": "code",
   "execution_count": 52,
   "id": "50cbc67d",
   "metadata": {},
   "outputs": [
    {
     "name": "stdout",
     "output_type": "stream",
     "text": [
      "BLEU score -> 0.1245581366486582\n"
     ]
    }
   ],
   "source": [
    "reference = [\n",
    "    trans_text.split()\n",
    "]\n",
    "\n",
    "candidate = eng_text.split()\n",
    "print('BLEU score -> {}'.format(sentence_bleu(reference, candidate)))"
   ]
  },
  {
   "cell_type": "markdown",
   "id": "53942ce6",
   "metadata": {},
   "source": [
    "This indicates that the French to English translation using the AWS API did not perform well."
   ]
  },
  {
   "cell_type": "markdown",
   "id": "329f9983-056a-4599-9e5f-444668634f5a",
   "metadata": {},
   "source": [
    "# Informal Text 2"
   ]
  },
  {
   "cell_type": "markdown",
   "id": "d848f6a6-9067-47fb-97ec-caa346a7328c",
   "metadata": {},
   "source": [
    "**The original text in English is:**\n",
    "I had a dog — at least I had him for a few days until he ran away — and an old Dodge and a Finnish woman, who made my bed and cooked breakfast and muttered Finnish wisdom to herself over the electric stove."
   ]
  },
  {
   "cell_type": "markdown",
   "id": "c0263993-6187-429d-af0d-7cf7b7e18863",
   "metadata": {
    "tags": []
   },
   "source": [
    "### Chinese to English\n",
    "**The text in Chinese is:**\n",
    "我有一条狗——至少在它跑掉以前我养了它几天——一辆旧道吉汽车和一个芬兰女佣人，她替我收拾床铺，烧早饭，在电炉上一面做饭，一面嘴里咕哝着芬兰的格言。"
   ]
  },
  {
   "cell_type": "markdown",
   "id": "bbd78ff7",
   "metadata": {},
   "source": [
    "Retrieving and translating the text data"
   ]
  },
  {
   "cell_type": "code",
   "execution_count": 59,
   "id": "b5d0d9f0-771d-42ff-bb9c-604eadc85716",
   "metadata": {},
   "outputs": [
    {
     "data": {
      "text/plain": [
       "{'TranslatedText': 'I have a dog — I kept it for at least a few days before it ran away — an old Doggie car and a Finnish maid who packed my bed, cooked breakfast, cooked on an electric stove, and muttered Finnish sayings in her mouth.',\n",
       " 'SourceLanguageCode': 'zh',\n",
       " 'TargetLanguageCode': 'en',\n",
       " 'ResponseMetadata': {'RequestId': 'db652bed-59cd-4741-b900-56e68343dd42',\n",
       "  'HTTPStatusCode': 200,\n",
       "  'HTTPHeaders': {'x-amzn-requestid': 'db652bed-59cd-4741-b900-56e68343dd42',\n",
       "   'cache-control': 'no-cache',\n",
       "   'content-type': 'application/x-amz-json-1.1',\n",
       "   'content-length': '292',\n",
       "   'date': 'Fri, 25 Nov 2022 19:07:14 GMT'},\n",
       "  'RetryAttempts': 0}}"
      ]
     },
     "execution_count": 59,
     "metadata": {},
     "output_type": "execute_result"
    }
   ],
   "source": [
    "text = data['Informal_Text_2'].iloc[1]\n",
    "translate.translate_text(Text= text, SourceLanguageCode = \"auto\", TargetLanguageCode = \"en\")\n"
   ]
  },
  {
   "cell_type": "markdown",
   "id": "4d44f5b8-0500-46c2-bc6e-b37e3f00ac3f",
   "metadata": {},
   "source": [
    "**From above, the AWS translation is:**\n",
    "I have a dog — I kept it for at least a few days before it ran away — an old Doggie car and a Finnish maid who packed my bed, cooked breakfast, cooked on an electric stove, and muttered Finnish sayings in her mout"
   ]
  },
  {
   "cell_type": "markdown",
   "id": "f3a44a4e-406f-40ae-9d3b-bd9fe72b0e72",
   "metadata": {},
   "source": [
    "#### Qualitative Analysis:"
   ]
  },
  {
   "cell_type": "markdown",
   "id": "1ae813ce-6838-47f9-bd5b-900983b374df",
   "metadata": {},
   "source": [
    "Based on our judgement as English speakers, we feel this translation was pretty accurate and conveyed the meaning well enough. We would score it a \n",
    "**8.5/10.**"
   ]
  },
  {
   "cell_type": "markdown",
   "id": "358e5e8e-c6f0-4622-9e94-1b083e671ede",
   "metadata": {},
   "source": [
    "#### Quantitative Analysis"
   ]
  },
  {
   "cell_type": "markdown",
   "id": "2b71d8cc-03cc-4029-8b44-d21cdb02ca9d",
   "metadata": {},
   "source": [
    "**1) Percentage of words matching with original text**"
   ]
  },
  {
   "cell_type": "markdown",
   "id": "d2eeae85-42d0-4c56-9ec5-a82666a4b803",
   "metadata": {},
   "source": [
    "First, we converted the original text to lowercase and removed special characters. This is to ensure a more fair and accurate comparison."
   ]
  },
  {
   "cell_type": "code",
   "execution_count": 60,
   "id": "8b20eeaf-da7d-49d2-bf60-e2f5c570b5cc",
   "metadata": {},
   "outputs": [
    {
     "name": "stdout",
     "output_type": "stream",
     "text": [
      "i had a dog at least i had him for a few days until he ran away and an old dodge and a finnish woman who made my bed and cooked breakfast and muttered finnish wisdom to herself over the electric stove\n"
     ]
    }
   ],
   "source": [
    "eng_text = data['Informal_Text_2'].iloc[0]\n",
    "\n",
    "special_characters=[',','.',':','?','!', \"”\", \"“\", \"— \"]\n",
    "for i in special_characters:\n",
    "    eng_text=eng_text.replace(i,\"\")\n",
    "    \n",
    "eng_text = eng_text.lower()\n",
    "print(eng_text)"
   ]
  },
  {
   "cell_type": "markdown",
   "id": "dca2263c-24eb-4db2-ba19-733f59b28b0c",
   "metadata": {},
   "source": [
    "Then, converted to a list"
   ]
  },
  {
   "cell_type": "code",
   "execution_count": 71,
   "id": "e749edb1-b762-4902-914c-43373a505968",
   "metadata": {},
   "outputs": [
    {
     "name": "stdout",
     "output_type": "stream",
     "text": [
      "['i', 'had', 'a', 'dog', 'at', 'least', 'i', 'had', 'him', 'for', 'a', 'few', 'days', 'until', 'he', 'ran', 'away', 'and', 'an', 'old', 'dodge', 'and', 'a', 'finnish', 'woman', 'who', 'made', 'my', 'bed', 'and', 'cooked', 'breakfast', 'and', 'muttered', 'finnish', 'wisdom', 'to', 'herself', 'over', 'the', 'electric', 'stove']\n"
     ]
    }
   ],
   "source": [
    "eng_text_words = eng_text.split(\" \")\n",
    "print(eng_text_words)"
   ]
  },
  {
   "cell_type": "markdown",
   "id": "c7902666-34c6-4d6b-ae70-6871cc10b375",
   "metadata": {},
   "source": [
    "Next, converted the translated text to lowercase and removed special characters."
   ]
  },
  {
   "cell_type": "code",
   "execution_count": 72,
   "id": "f52ff28a",
   "metadata": {},
   "outputs": [],
   "source": [
    "translation_info = translate.translate_text(Text= text, SourceLanguageCode = \"auto\", TargetLanguageCode = \"en\")\n",
    "trans_text = translation_info['TranslatedText']"
   ]
  },
  {
   "cell_type": "code",
   "execution_count": 73,
   "id": "14d3f930-2a33-440d-a195-5ab5bbd3fc68",
   "metadata": {},
   "outputs": [
    {
     "name": "stdout",
     "output_type": "stream",
     "text": [
      "i have a dog i kept it for at least a few days before it ran away an old doggie car and a finnish maid who packed my bed cooked breakfast cooked on an electric stove and muttered finnish sayings in her mouth\n"
     ]
    }
   ],
   "source": [
    "special_characters=[',','.',':','?','!', \"”\", \"“\", \"— \"]\n",
    "for i in special_characters:\n",
    "    trans_text=trans_text.replace(i,\"\")\n",
    "    \n",
    "trans_text = trans_text.lower()\n",
    "print(trans_text)"
   ]
  },
  {
   "cell_type": "markdown",
   "id": "e7dba45b-b25c-4fd0-aadf-7b73167f3849",
   "metadata": {},
   "source": [
    "Then, converted this to a list too."
   ]
  },
  {
   "cell_type": "code",
   "execution_count": 74,
   "id": "101e3c8f-4ca5-4fbd-bce4-c7e5968e82ef",
   "metadata": {},
   "outputs": [
    {
     "name": "stdout",
     "output_type": "stream",
     "text": [
      "['i', 'have', 'a', 'dog', 'i', 'kept', 'it', 'for', 'at', 'least', 'a', 'few', 'days', 'before', 'it', 'ran', 'away', 'an', 'old', 'doggie', 'car', 'and', 'a', 'finnish', 'maid', 'who', 'packed', 'my', 'bed', 'cooked', 'breakfast', 'cooked', 'on', 'an', 'electric', 'stove', 'and', 'muttered', 'finnish', 'sayings', 'in', 'her', 'mouth']\n"
     ]
    }
   ],
   "source": [
    "trans_text_words = trans_text.split(\" \")\n",
    "print(trans_text_words)"
   ]
  },
  {
   "cell_type": "markdown",
   "id": "e83ead96-644a-4065-8cc9-118159d3e92e",
   "metadata": {},
   "source": [
    "Finally, we checked the percentage of words from translated text that matched the original text."
   ]
  },
  {
   "cell_type": "code",
   "execution_count": 75,
   "id": "505e46a4-e3a8-4acf-999d-20d7b4870de2",
   "metadata": {},
   "outputs": [
    {
     "name": "stdout",
     "output_type": "stream",
     "text": [
      "0.6744186046511628\n"
     ]
    }
   ],
   "source": [
    "acc = 0\n",
    "tot = 0\n",
    "for word in trans_text_words:\n",
    "    if word in eng_text_words:\n",
    "        acc += 1\n",
    "    tot += 1\n",
    "    \n",
    "score = acc / tot\n",
    "print(score)\n",
    "    "
   ]
  },
  {
   "cell_type": "markdown",
   "id": "122b472b",
   "metadata": {},
   "source": [
    "We also checked the BLEU Score."
   ]
  },
  {
   "cell_type": "markdown",
   "id": "ff226907",
   "metadata": {},
   "source": [
    "**2) BLEU Score**"
   ]
  },
  {
   "cell_type": "code",
   "execution_count": 76,
   "id": "37a9f7bd",
   "metadata": {},
   "outputs": [
    {
     "name": "stdout",
     "output_type": "stream",
     "text": [
      "BLEU score -> 4.193528232732243e-78\n"
     ]
    },
    {
     "name": "stderr",
     "output_type": "stream",
     "text": [
      "/home/ec2-user/anaconda3/envs/python3/lib/python3.8/site-packages/nltk/translate/bleu_score.py:552: UserWarning: \n",
      "The hypothesis contains 0 counts of 4-gram overlaps.\n",
      "Therefore the BLEU score evaluates to 0, independently of\n",
      "how many N-gram overlaps of lower order it contains.\n",
      "Consider using lower n-gram order or use SmoothingFunction()\n",
      "  warnings.warn(_msg)\n"
     ]
    }
   ],
   "source": [
    "reference = [\n",
    "    trans_text.split()\n",
    "]\n",
    "\n",
    "candidate = eng_text.split()\n",
    "print('BLEU score -> {}'.format(sentence_bleu(reference, candidate)))"
   ]
  },
  {
   "cell_type": "markdown",
   "id": "f123dd76",
   "metadata": {},
   "source": [
    "This indicates that the Chinese to English translation using the AWS API did not perform well."
   ]
  },
  {
   "cell_type": "markdown",
   "id": "fdbdd154-3e2b-4f3d-b6e1-b0fcd05cd282",
   "metadata": {
    "tags": []
   },
   "source": [
    "### Spanish to English\n",
    "**The text in Spanish is:**\n",
    "Tenía un perro -o al menos lo tuve durante varios días, antes de que escapara-, un viejo Dodge y una criada oriunda de Finlandia que me tendía la cama, hacía el desayuno y mascullaba máximas finlandesas junto a la estufa eléctrica."
   ]
  },
  {
   "cell_type": "markdown",
   "id": "38588cee",
   "metadata": {},
   "source": [
    "Retrieving and translating the text data"
   ]
  },
  {
   "cell_type": "code",
   "execution_count": 82,
   "id": "1330b949-4aaf-49ec-8c4d-e12ade5ae738",
   "metadata": {},
   "outputs": [
    {
     "data": {
      "text/plain": [
       "{'TranslatedText': 'I had a dog -or at least I had one for several days, before I escaped-, an old Dodge and a maid from Finland who laid out my bed for me, made breakfast and mumbled Finnish maxims next to the electric stove.',\n",
       " 'SourceLanguageCode': 'es',\n",
       " 'TargetLanguageCode': 'en',\n",
       " 'ResponseMetadata': {'RequestId': 'eb54930e-9b86-4383-be5b-1a1a6a657c62',\n",
       "  'HTTPStatusCode': 200,\n",
       "  'HTTPHeaders': {'x-amzn-requestid': 'eb54930e-9b86-4383-be5b-1a1a6a657c62',\n",
       "   'cache-control': 'no-cache',\n",
       "   'content-type': 'application/x-amz-json-1.1',\n",
       "   'content-length': '279',\n",
       "   'date': 'Fri, 25 Nov 2022 19:14:19 GMT'},\n",
       "  'RetryAttempts': 0}}"
      ]
     },
     "execution_count": 82,
     "metadata": {},
     "output_type": "execute_result"
    }
   ],
   "source": [
    "text = data['Informal_Text_2'].iloc[2]\n",
    "translate.translate_text(Text= text, SourceLanguageCode = \"auto\", TargetLanguageCode = \"en\")"
   ]
  },
  {
   "cell_type": "markdown",
   "id": "26085d6a-0d59-42f9-934a-d3c0e7390193",
   "metadata": {},
   "source": [
    "**From above, the AWS translation is:**\n",
    "'I had a dog -or at least I had one for several days, before I escaped-, an old Dodge and a maid from Finland who laid out my bed for me, made breakfast and mumbled Finnish maxims next to the electric stove.',"
   ]
  },
  {
   "cell_type": "markdown",
   "id": "809f680c-4863-453c-bfe3-bfe7761b21e0",
   "metadata": {},
   "source": [
    "#### Qualitative Analysis:"
   ]
  },
  {
   "cell_type": "markdown",
   "id": "8bfb8d93-08bb-478c-988c-c6a89bb835a1",
   "metadata": {},
   "source": [
    "Based on our judgement as English speakers, we feel this translation was pretty accurate and conveyed the meaning well enough. We would score it a \n",
    "**8.5/10.**"
   ]
  },
  {
   "cell_type": "markdown",
   "id": "6f070f22-457d-46c2-ae7c-5239b1599336",
   "metadata": {},
   "source": [
    "#### Quantitative Analysis"
   ]
  },
  {
   "cell_type": "markdown",
   "id": "9f43551d-a93b-4a66-98bf-4480aa6ebbbc",
   "metadata": {},
   "source": [
    "**1) Percentage of words matching with original text**"
   ]
  },
  {
   "cell_type": "markdown",
   "id": "504ee7f0-3329-4ffd-b0f8-aed42ffd6fa8",
   "metadata": {},
   "source": [
    "First, we converted the original text to lowercase and removed special characters. This is to ensure a more fair and accurate comparison."
   ]
  },
  {
   "cell_type": "code",
   "execution_count": 80,
   "id": "1d157e57-031c-4976-b072-4dd57ebf635f",
   "metadata": {},
   "outputs": [
    {
     "name": "stdout",
     "output_type": "stream",
     "text": [
      "i had a dog at least i had him for a few days until he ran away and an old dodge and a finnish woman who made my bed and cooked breakfast and muttered finnish wisdom to herself over the electric stove\n"
     ]
    }
   ],
   "source": [
    "eng_text = data['Informal_Text_2'].iloc[0]\n",
    "\n",
    "special_characters=[',','.',':','?','!', \"”\", \"“\", \"— \"]\n",
    "for i in special_characters:\n",
    "    eng_text=eng_text.replace(i,\"\")\n",
    "    \n",
    "eng_text = eng_text.lower()\n",
    "print(eng_text)"
   ]
  },
  {
   "cell_type": "markdown",
   "id": "5894ff6b-f71b-44df-83b5-db569a31170b",
   "metadata": {},
   "source": [
    "Then, converted to a list"
   ]
  },
  {
   "cell_type": "code",
   "execution_count": 81,
   "id": "a5593cae-03cf-46ef-a072-7f4d068f0be9",
   "metadata": {},
   "outputs": [
    {
     "name": "stdout",
     "output_type": "stream",
     "text": [
      "['i', 'had', 'a', 'dog', 'at', 'least', 'i', 'had', 'him', 'for', 'a', 'few', 'days', 'until', 'he', 'ran', 'away', 'and', 'an', 'old', 'dodge', 'and', 'a', 'finnish', 'woman', 'who', 'made', 'my', 'bed', 'and', 'cooked', 'breakfast', 'and', 'muttered', 'finnish', 'wisdom', 'to', 'herself', 'over', 'the', 'electric', 'stove']\n"
     ]
    }
   ],
   "source": [
    "eng_text_words = eng_text.split(\" \")\n",
    "print(eng_text_words)"
   ]
  },
  {
   "cell_type": "markdown",
   "id": "ecd3dec4-d856-4c48-985c-bbd8351187f7",
   "metadata": {},
   "source": [
    "Next, converted the translated text to lowercase and removed special characters."
   ]
  },
  {
   "cell_type": "code",
   "execution_count": 83,
   "id": "bbda62ac",
   "metadata": {},
   "outputs": [],
   "source": [
    "translation_info = translate.translate_text(Text= text, SourceLanguageCode = \"auto\", TargetLanguageCode = \"en\")\n",
    "trans_text = translation_info['TranslatedText']"
   ]
  },
  {
   "cell_type": "code",
   "execution_count": 84,
   "id": "33134b5b-7860-43ed-bb02-afc35ce06fe1",
   "metadata": {},
   "outputs": [
    {
     "name": "stdout",
     "output_type": "stream",
     "text": [
      "i had a dog -or at least i had one for several days before i escaped- an old dodge and a maid from finland who laid out my bed for me made breakfast and mumbled finnish maxims next to the electric stove\n"
     ]
    }
   ],
   "source": [
    "special_characters=[',','.',':','?','!', \"”\", \"“\", \"— \"]\n",
    "for i in special_characters:\n",
    "    trans_text=trans_text.replace(i,\"\")\n",
    "    \n",
    "trans_text = trans_text.lower()\n",
    "print(trans_text)"
   ]
  },
  {
   "cell_type": "markdown",
   "id": "072841fd-fe3f-403d-8156-a8211c61e0f8",
   "metadata": {},
   "source": [
    "Then, converted this to a list too."
   ]
  },
  {
   "cell_type": "code",
   "execution_count": 85,
   "id": "dbeb1af1-c626-4d1b-b443-276e976a1d86",
   "metadata": {},
   "outputs": [
    {
     "name": "stdout",
     "output_type": "stream",
     "text": [
      "['i', 'had', 'a', 'dog', '-or', 'at', 'least', 'i', 'had', 'one', 'for', 'several', 'days', 'before', 'i', 'escaped-', 'an', 'old', 'dodge', 'and', 'a', 'maid', 'from', 'finland', 'who', 'laid', 'out', 'my', 'bed', 'for', 'me', 'made', 'breakfast', 'and', 'mumbled', 'finnish', 'maxims', 'next', 'to', 'the', 'electric', 'stove']\n"
     ]
    }
   ],
   "source": [
    "trans_text_words = trans_text.split(\" \")\n",
    "print(trans_text_words)"
   ]
  },
  {
   "cell_type": "markdown",
   "id": "9061d204-c8c7-4c59-8b16-2986c2285504",
   "metadata": {},
   "source": [
    "Finally, we checked the percentage of words from translated text that matched the original text."
   ]
  },
  {
   "cell_type": "code",
   "execution_count": 86,
   "id": "4a5fb6e2-e439-479d-a64e-4ecf352d9542",
   "metadata": {},
   "outputs": [
    {
     "name": "stdout",
     "output_type": "stream",
     "text": [
      "0.6666666666666666\n"
     ]
    }
   ],
   "source": [
    "acc = 0\n",
    "tot = 0\n",
    "for word in trans_text_words:\n",
    "    if word in eng_text_words:\n",
    "        acc += 1\n",
    "    tot += 1\n",
    "    \n",
    "score = acc / tot\n",
    "print(score)\n",
    "    "
   ]
  },
  {
   "cell_type": "markdown",
   "id": "23a7077c",
   "metadata": {},
   "source": [
    "We also checked the BLEU Score."
   ]
  },
  {
   "cell_type": "markdown",
   "id": "396e89e9",
   "metadata": {},
   "source": [
    "**2) BLEU Score**"
   ]
  },
  {
   "cell_type": "code",
   "execution_count": 87,
   "id": "8f47dddf",
   "metadata": {},
   "outputs": [
    {
     "name": "stdout",
     "output_type": "stream",
     "text": [
      "BLEU score -> 0.2566098980488463\n"
     ]
    }
   ],
   "source": [
    "reference = [\n",
    "    trans_text.split()\n",
    "]\n",
    "\n",
    "candidate = eng_text.split()\n",
    "print('BLEU score -> {}'.format(sentence_bleu(reference, candidate)))"
   ]
  },
  {
   "cell_type": "markdown",
   "id": "cdc0aa70",
   "metadata": {},
   "source": [
    "This indicates that the Chinese to English translation using the AWS API didn't perform too well, but better than the other translations."
   ]
  },
  {
   "cell_type": "markdown",
   "id": "fffeb7ff-041f-404c-9e12-7264d69add11",
   "metadata": {
    "tags": []
   },
   "source": [
    "### French to English\n",
    "**The text in French is:**\n",
    "J’avais un chien – du moins je l’eus pendant quelques jours jusqu’à ce qu’il prît la clef des champs – une vieille auto Dodge et une Finlandaise qui faisait mon lit, préparait mon petit déjeuner et marmottait des proverbes finnois, en s’affairant devant le fourneau électrique."
   ]
  },
  {
   "cell_type": "markdown",
   "id": "5230c5e7",
   "metadata": {},
   "source": [
    "Retrieving and translating the text data"
   ]
  },
  {
   "cell_type": "code",
   "execution_count": 88,
   "id": "e519d428-5bf9-4bb0-8cb7-8206caedeb00",
   "metadata": {},
   "outputs": [
    {
     "data": {
      "text/plain": [
       "{'TranslatedText': 'I had a dog — at least I had him for a few days until he took the key to the fields — an old Dodge car and a Finnish woman who made my bed, cooked my breakfast, and marmot Finnish proverbs while working in front of the electric stove.',\n",
       " 'SourceLanguageCode': 'fr',\n",
       " 'TargetLanguageCode': 'en',\n",
       " 'ResponseMetadata': {'RequestId': '261aca4f-60e2-4841-9d8b-84d7ee276df5',\n",
       "  'HTTPStatusCode': 200,\n",
       "  'HTTPHeaders': {'x-amzn-requestid': '261aca4f-60e2-4841-9d8b-84d7ee276df5',\n",
       "   'cache-control': 'no-cache',\n",
       "   'content-type': 'application/x-amz-json-1.1',\n",
       "   'content-length': '311',\n",
       "   'date': 'Fri, 25 Nov 2022 19:15:02 GMT'},\n",
       "  'RetryAttempts': 0}}"
      ]
     },
     "execution_count": 88,
     "metadata": {},
     "output_type": "execute_result"
    }
   ],
   "source": [
    "text = data['Informal_Text_2'].iloc[3]\n",
    "translate.translate_text(Text= text, SourceLanguageCode = \"auto\", TargetLanguageCode = \"en\")\n"
   ]
  },
  {
   "cell_type": "markdown",
   "id": "fd525d28-2a12-4f98-8854-86194e6a0a4f",
   "metadata": {},
   "source": [
    "**From above, the AWS translation is:**\n",
    "'I had a dog — at least I had him for a few days until he took the key to the fields — an old Dodge car and a Finnish woman who made my bed, cooked my breakfast, and marmot Finnish proverbs while working in front of the electric stove.'"
   ]
  },
  {
   "cell_type": "markdown",
   "id": "4c9cc6b9-d388-4038-958f-9e0e746bdcf1",
   "metadata": {},
   "source": [
    "#### Qualitative Analysis:"
   ]
  },
  {
   "cell_type": "markdown",
   "id": "e0e20e7a-b68d-4cc7-a858-e4029dff7990",
   "metadata": {},
   "source": [
    "Based on our judgement as English speakers, we feel this translation was pretty accurate and conveyed the meaning well enough. We would score it a \n",
    "**8.5/10.**"
   ]
  },
  {
   "cell_type": "markdown",
   "id": "27fe17e1-88d4-4f8a-8253-b892f218c0ec",
   "metadata": {},
   "source": [
    "#### Quantitative Analysis"
   ]
  },
  {
   "cell_type": "markdown",
   "id": "9b416807-9f84-4212-8f61-1d00d0b46ee6",
   "metadata": {},
   "source": [
    "**1) Percentage of words matching with original text**"
   ]
  },
  {
   "cell_type": "markdown",
   "id": "c09a943b-ef49-4594-8699-4897f64fa0db",
   "metadata": {},
   "source": [
    "First, we converted the original text to lowercase and removed special characters. This is to ensure a more fair and accurate comparison."
   ]
  },
  {
   "cell_type": "code",
   "execution_count": 89,
   "id": "8163be46-aa2b-4142-b4d7-04cb44821917",
   "metadata": {},
   "outputs": [
    {
     "name": "stdout",
     "output_type": "stream",
     "text": [
      "i had a dog at least i had him for a few days until he ran away and an old dodge and a finnish woman who made my bed and cooked breakfast and muttered finnish wisdom to herself over the electric stove\n"
     ]
    }
   ],
   "source": [
    "eng_text = data['Informal_Text_2'].iloc[0]\n",
    "\n",
    "special_characters=[',','.',':','?','!', \"”\", \"“\", \"— \"]\n",
    "for i in special_characters:\n",
    "    eng_text=eng_text.replace(i,\"\")\n",
    "    \n",
    "eng_text = eng_text.lower()\n",
    "print(eng_text)"
   ]
  },
  {
   "cell_type": "markdown",
   "id": "c67936a8-ed80-460d-ba99-97797df5b843",
   "metadata": {},
   "source": [
    "Then, converted to a list"
   ]
  },
  {
   "cell_type": "code",
   "execution_count": 90,
   "id": "4c52ad10-53e7-4861-a5d8-3d104263b938",
   "metadata": {},
   "outputs": [
    {
     "name": "stdout",
     "output_type": "stream",
     "text": [
      "['i', 'had', 'a', 'dog', 'at', 'least', 'i', 'had', 'him', 'for', 'a', 'few', 'days', 'until', 'he', 'ran', 'away', 'and', 'an', 'old', 'dodge', 'and', 'a', 'finnish', 'woman', 'who', 'made', 'my', 'bed', 'and', 'cooked', 'breakfast', 'and', 'muttered', 'finnish', 'wisdom', 'to', 'herself', 'over', 'the', 'electric', 'stove']\n"
     ]
    }
   ],
   "source": [
    "eng_text_words = eng_text.split(\" \")\n",
    "print(eng_text_words)"
   ]
  },
  {
   "cell_type": "markdown",
   "id": "95f326e6-3ef5-4245-92e2-f7ebec7bd24c",
   "metadata": {},
   "source": [
    "Next, converted the translated text to lowercase and removed special characters."
   ]
  },
  {
   "cell_type": "code",
   "execution_count": 91,
   "id": "fe85d2ea",
   "metadata": {},
   "outputs": [],
   "source": [
    "translation_info = translate.translate_text(Text= text, SourceLanguageCode = \"auto\", TargetLanguageCode = \"en\")\n",
    "trans_text = translation_info['TranslatedText']"
   ]
  },
  {
   "cell_type": "code",
   "execution_count": 92,
   "id": "aebc90b2-c953-4012-99e9-b9868f04fa5d",
   "metadata": {},
   "outputs": [
    {
     "name": "stdout",
     "output_type": "stream",
     "text": [
      "i had a dog at least i had him for a few days until he took the key to the fields an old dodge car and a finnish woman who made my bed cooked my breakfast and marmot finnish proverbs while working in front of the electric stove\n"
     ]
    }
   ],
   "source": [
    "special_characters=[',','.',':','?','!', \"”\", \"“\", \"— \"]\n",
    "for i in special_characters:\n",
    "    trans_text=trans_text.replace(i,\"\")\n",
    "    \n",
    "trans_text = trans_text.lower()\n",
    "print(trans_text)"
   ]
  },
  {
   "cell_type": "markdown",
   "id": "4599220b-c51d-444a-a706-872214ca739a",
   "metadata": {},
   "source": [
    "Then, converted this to a list too."
   ]
  },
  {
   "cell_type": "code",
   "execution_count": 93,
   "id": "d3283215-5bbe-4a9b-9d5d-8b8953148d18",
   "metadata": {},
   "outputs": [
    {
     "name": "stdout",
     "output_type": "stream",
     "text": [
      "['i', 'had', 'a', 'dog', 'at', 'least', 'i', 'had', 'him', 'for', 'a', 'few', 'days', 'until', 'he', 'took', 'the', 'key', 'to', 'the', 'fields', 'an', 'old', 'dodge', 'car', 'and', 'a', 'finnish', 'woman', 'who', 'made', 'my', 'bed', 'cooked', 'my', 'breakfast', 'and', 'marmot', 'finnish', 'proverbs', 'while', 'working', 'in', 'front', 'of', 'the', 'electric', 'stove']\n"
     ]
    }
   ],
   "source": [
    "trans_text_words = trans_text.split(\" \")\n",
    "print(trans_text_words)"
   ]
  },
  {
   "cell_type": "markdown",
   "id": "83e728e2-e2fb-4260-b6df-14e93e0f81c6",
   "metadata": {},
   "source": [
    "Finally, we checked the percentage of words from translated text that matched the original text."
   ]
  },
  {
   "cell_type": "code",
   "execution_count": 94,
   "id": "f4d4a005-f701-43ca-a379-12d5c0e273b2",
   "metadata": {},
   "outputs": [
    {
     "name": "stdout",
     "output_type": "stream",
     "text": [
      "0.7708333333333334\n"
     ]
    }
   ],
   "source": [
    "acc = 0\n",
    "tot = 0\n",
    "for word in trans_text_words:\n",
    "    if word in eng_text_words:\n",
    "        acc += 1\n",
    "    tot += 1\n",
    "    \n",
    "score = acc / tot\n",
    "print(score)\n",
    "    "
   ]
  },
  {
   "cell_type": "markdown",
   "id": "856ecbfb",
   "metadata": {},
   "source": [
    "We also checked the BLEU Score."
   ]
  },
  {
   "cell_type": "markdown",
   "id": "269a91a8",
   "metadata": {},
   "source": [
    "**2) BLEU Score**"
   ]
  },
  {
   "cell_type": "code",
   "execution_count": 95,
   "id": "3069e7b7",
   "metadata": {},
   "outputs": [
    {
     "name": "stdout",
     "output_type": "stream",
     "text": [
      "BLEU score -> 0.5075146872653443\n"
     ]
    }
   ],
   "source": [
    "reference = [\n",
    "    trans_text.split()\n",
    "]\n",
    "\n",
    "candidate = eng_text.split()\n",
    "print('BLEU score -> {}'.format(sentence_bleu(reference, candidate)))"
   ]
  },
  {
   "cell_type": "markdown",
   "id": "165a7b09",
   "metadata": {},
   "source": [
    "This indicates that the Spanish to English translation using the AWS API performed decently well."
   ]
  },
  {
   "cell_type": "markdown",
   "id": "0d8fb6b4-2de5-4959-bc75-db666ae8d792",
   "metadata": {},
   "source": [
    "# Formal"
   ]
  },
  {
   "cell_type": "markdown",
   "id": "947fc5f0-bdb3-4d49-b652-9343787e005b",
   "metadata": {},
   "source": [
    "# Formal Text 1"
   ]
  },
  {
   "cell_type": "markdown",
   "id": "90434797-5fc5-4b25-93df-8fe6262b9bd1",
   "metadata": {},
   "source": [
    "**The original text in English is:**  In consequence, I’m inclined to reserve all judgments, a habit that has opened up many curious natures to me and also made me the victim of not a few veteran bores. \n"
   ]
  },
  {
   "cell_type": "markdown",
   "id": "810226e4-3b36-4d33-8d6e-e67ff36c2932",
   "metadata": {},
   "source": [
    "## Chinese to English"
   ]
  },
  {
   "cell_type": "markdown",
   "id": "d3539262",
   "metadata": {},
   "source": [
    "Retrieving and translating the text data"
   ]
  },
  {
   "cell_type": "code",
   "execution_count": 16,
   "id": "7d069819-a03b-43db-ad01-0c99c92f1fad",
   "metadata": {
    "scrolled": true
   },
   "outputs": [
    {
     "data": {
      "text/plain": [
       "{'TranslatedText': 'Over time, I got used to reserving judgment on everyone. This habit not only made many weird people willing to talk to me but also made me a victim of many annoying people who love to nag.',\n",
       " 'SourceLanguageCode': 'zh',\n",
       " 'TargetLanguageCode': 'en',\n",
       " 'ResponseMetadata': {'RequestId': '01c379cd-1489-493e-add8-c203e94f2161',\n",
       "  'HTTPStatusCode': 200,\n",
       "  'HTTPHeaders': {'x-amzn-requestid': '01c379cd-1489-493e-add8-c203e94f2161',\n",
       "   'cache-control': 'no-cache',\n",
       "   'content-type': 'application/x-amz-json-1.1',\n",
       "   'content-length': '261',\n",
       "   'date': 'Fri, 25 Nov 2022 19:34:08 GMT'},\n",
       "  'RetryAttempts': 0}}"
      ]
     },
     "execution_count": 16,
     "metadata": {},
     "output_type": "execute_result"
    }
   ],
   "source": [
    "text = data['Formal_Text_1'].iloc[1]\n",
    "translate.translate_text(Text= text, SourceLanguageCode = \"auto\", TargetLanguageCode = \"en\")"
   ]
  },
  {
   "cell_type": "markdown",
   "id": "b128006a",
   "metadata": {},
   "source": [
    "**From above, the AWS translation is:** 'Over time, I got used to keeping my judgment on everyone. This habit not only made many strange people willing to talk to me but also made me a victim of many annoying people who love to talk to me'"
   ]
  },
  {
   "cell_type": "markdown",
   "id": "fb964429",
   "metadata": {},
   "source": [
    "### Qualitative Analysis:\n",
    "Based on our judgement as English speakers, we feel this translation was not very accurate and did not convey the meaning well enough. We would score it a 3/10."
   ]
  },
  {
   "cell_type": "markdown",
   "id": "09f17ce1",
   "metadata": {},
   "source": [
    "### Quantitative Analysis"
   ]
  },
  {
   "cell_type": "markdown",
   "id": "bc1e5b1f",
   "metadata": {},
   "source": [
    "**1) Percentage of words matching with original text**"
   ]
  },
  {
   "cell_type": "markdown",
   "id": "98400890",
   "metadata": {},
   "source": [
    "First, we converted the original text to lowercase and removed special characters. This is to ensure a more fair and accurate comparison.\n"
   ]
  },
  {
   "cell_type": "code",
   "execution_count": 17,
   "id": "a9dc59ab",
   "metadata": {},
   "outputs": [
    {
     "name": "stdout",
     "output_type": "stream",
     "text": [
      "in consequence i’m inclined to reserve all judgments a habit that has opened up many curious natures to me and also made me the victim of not a few veteran bores\n"
     ]
    }
   ],
   "source": [
    "eng_text = data['Formal_Text_1'].iloc[0]\n",
    "\n",
    "\n",
    "\n",
    "special_characters=[',','.',':','?','!', \"”\", \"“\"]\n",
    "for i in special_characters:\n",
    "    eng_text=eng_text.replace(i,\"\")\n",
    "    \n",
    "eng_text = eng_text.lower()\n",
    "print(eng_text)"
   ]
  },
  {
   "cell_type": "markdown",
   "id": "cf9550e1",
   "metadata": {},
   "source": [
    "Then, converted to a list"
   ]
  },
  {
   "cell_type": "code",
   "execution_count": 18,
   "id": "1b4d3772",
   "metadata": {},
   "outputs": [
    {
     "name": "stdout",
     "output_type": "stream",
     "text": [
      "['in', 'consequence', 'i’m', 'inclined', 'to', 'reserve', 'all', 'judgments', 'a', 'habit', 'that', 'has', 'opened', 'up', 'many', 'curious', 'natures', 'to', 'me', 'and', 'also', 'made', 'me', 'the', 'victim', 'of', 'not', 'a', 'few', 'veteran', 'bores']\n"
     ]
    }
   ],
   "source": [
    "eng_text_words = eng_text.split(\" \")\n",
    "print(eng_text_words)"
   ]
  },
  {
   "cell_type": "markdown",
   "id": "ef54f62c",
   "metadata": {},
   "source": [
    "Next, converted the translated text to lowercase and removed special characters"
   ]
  },
  {
   "cell_type": "code",
   "execution_count": 19,
   "id": "e004e16c",
   "metadata": {},
   "outputs": [],
   "source": [
    "translation_info = translate.translate_text(Text= text, SourceLanguageCode = \"auto\", TargetLanguageCode = \"en\")\n",
    "trans_text = translation_info['TranslatedText']"
   ]
  },
  {
   "cell_type": "code",
   "execution_count": 20,
   "id": "0c9a693e",
   "metadata": {},
   "outputs": [
    {
     "name": "stdout",
     "output_type": "stream",
     "text": [
      "over time i got used to reserving judgment on everyone this habit not only made many weird people willing to talk to me but also made me a victim of many annoying people who love to nag\n"
     ]
    }
   ],
   "source": [
    "\n",
    "# A list of special_characters to be removed\n",
    "special_characters=[',','.',':','?','!', \"”\", \"“\"]\n",
    "for i in special_characters:\n",
    "    # Replace the special character with an empty string\n",
    "    trans_text=trans_text.replace(i,\"\")\n",
    "    \n",
    "trans_text = trans_text.lower()\n",
    "print(trans_text)"
   ]
  },
  {
   "cell_type": "markdown",
   "id": "a759d6b2",
   "metadata": {},
   "source": [
    "Then, converted this to a list too."
   ]
  },
  {
   "cell_type": "code",
   "execution_count": 21,
   "id": "d9d8dcd8",
   "metadata": {},
   "outputs": [
    {
     "name": "stdout",
     "output_type": "stream",
     "text": [
      "['over', 'time', 'i', 'got', 'used', 'to', 'reserving', 'judgment', 'on', 'everyone', 'this', 'habit', 'not', 'only', 'made', 'many', 'weird', 'people', 'willing', 'to', 'talk', 'to', 'me', 'but', 'also', 'made', 'me', 'a', 'victim', 'of', 'many', 'annoying', 'people', 'who', 'love', 'to', 'nag']\n"
     ]
    }
   ],
   "source": [
    "trans_text_words = trans_text.split(\" \")\n",
    "print(trans_text_words)"
   ]
  },
  {
   "cell_type": "markdown",
   "id": "c9856821",
   "metadata": {},
   "source": [
    "Finally, we checked the percentage of words from translated text that matched the original text."
   ]
  },
  {
   "cell_type": "code",
   "execution_count": 22,
   "id": "7f0111b8",
   "metadata": {},
   "outputs": [
    {
     "name": "stdout",
     "output_type": "stream",
     "text": [
      "0.43243243243243246\n"
     ]
    }
   ],
   "source": [
    "acc = 0\n",
    "tot = 0\n",
    "for word in trans_text_words:\n",
    "    if word in eng_text_words:\n",
    "        acc += 1\n",
    "    tot += 1\n",
    "    \n",
    "score = acc / tot\n",
    "print(score)"
   ]
  },
  {
   "cell_type": "markdown",
   "id": "ceccf8ad",
   "metadata": {},
   "source": [
    "We also checked the BLEU Score."
   ]
  },
  {
   "cell_type": "markdown",
   "id": "a84dc65b",
   "metadata": {},
   "source": [
    "**2) BLEU Score**"
   ]
  },
  {
   "cell_type": "code",
   "execution_count": 23,
   "id": "d71f99f1",
   "metadata": {},
   "outputs": [
    {
     "name": "stdout",
     "output_type": "stream",
     "text": [
      "BLEU score -> 2.0671366360407434e-78\n"
     ]
    },
    {
     "name": "stderr",
     "output_type": "stream",
     "text": [
      "/home/ec2-user/anaconda3/envs/python3/lib/python3.8/site-packages/nltk/translate/bleu_score.py:552: UserWarning: \n",
      "The hypothesis contains 0 counts of 4-gram overlaps.\n",
      "Therefore the BLEU score evaluates to 0, independently of\n",
      "how many N-gram overlaps of lower order it contains.\n",
      "Consider using lower n-gram order or use SmoothingFunction()\n",
      "  warnings.warn(_msg)\n"
     ]
    }
   ],
   "source": [
    "reference = [\n",
    "    trans_text.split()\n",
    "]\n",
    "\n",
    "candidate = eng_text.split()\n",
    "print('BLEU score -> {}'.format(sentence_bleu(reference, candidate)))"
   ]
  },
  {
   "cell_type": "markdown",
   "id": "29c4b10e",
   "metadata": {},
   "source": [
    "This indicates that the Chinese to English translation using the AWS API did not perform well."
   ]
  },
  {
   "cell_type": "markdown",
   "id": "4d2d1bd8",
   "metadata": {},
   "source": [
    "## Spanish to English"
   ]
  },
  {
   "cell_type": "markdown",
   "id": "0ef4d6a7",
   "metadata": {},
   "source": [
    "**The text in Spanish is:** En consecuencia, soy una persona dada a reservarme todo juicio, hábito que me ha facilitado el conocimiento de gran número de personas singulares, pero que también me ha hecho víctima de más de un latoso inveterado."
   ]
  },
  {
   "cell_type": "markdown",
   "id": "df1fe836",
   "metadata": {},
   "source": [
    "Retrieving and translating the text data"
   ]
  },
  {
   "cell_type": "code",
   "execution_count": 25,
   "id": "ccbebcd9",
   "metadata": {},
   "outputs": [
    {
     "data": {
      "text/plain": [
       "{'TranslatedText': 'Consequently, I am a person willing to reserve all judgment, a habit that has facilitated the knowledge of a large number of natural people, but which has also made me the victim of more than one inveterate person.',\n",
       " 'SourceLanguageCode': 'es',\n",
       " 'TargetLanguageCode': 'en',\n",
       " 'ResponseMetadata': {'RequestId': '0fb364c2-f61b-4d8c-a338-c512d02d4567',\n",
       "  'HTTPStatusCode': 200,\n",
       "  'HTTPHeaders': {'x-amzn-requestid': '0fb364c2-f61b-4d8c-a338-c512d02d4567',\n",
       "   'cache-control': 'no-cache',\n",
       "   'content-type': 'application/x-amz-json-1.1',\n",
       "   'content-length': '287',\n",
       "   'date': 'Fri, 25 Nov 2022 19:40:17 GMT',\n",
       "   'connection': 'close'},\n",
       "  'RetryAttempts': 0}}"
      ]
     },
     "execution_count": 25,
     "metadata": {},
     "output_type": "execute_result"
    }
   ],
   "source": [
    "text = data['Formal_Text_1'].iloc[2]\n",
    "translate.translate_text(Text= text, SourceLanguageCode = \"auto\", TargetLanguageCode = \"en\")"
   ]
  },
  {
   "cell_type": "markdown",
   "id": "69b70cb5",
   "metadata": {},
   "source": [
    "**From above, the AWS translation is:** 'Consequently, I am a person willing to reserve all judgment, a habit that has facilitated the knowledge of a large number of natural people, but which has also made me the victim of more than one inveterate person.'"
   ]
  },
  {
   "cell_type": "markdown",
   "id": "f240e2e6",
   "metadata": {},
   "source": [
    "### Qualitative Analysis:\n",
    "Based on our judgement as English speakers, we feel this translation was relatively accurate and did convey the meaning well enough. We would score it a 7/10."
   ]
  },
  {
   "cell_type": "markdown",
   "id": "4d3e3a5e",
   "metadata": {},
   "source": [
    "### Quantitative Analysis:"
   ]
  },
  {
   "cell_type": "markdown",
   "id": "91e3f390",
   "metadata": {},
   "source": [
    "**1) Percentage of words matching with original text**"
   ]
  },
  {
   "cell_type": "markdown",
   "id": "19986747",
   "metadata": {},
   "source": [
    "First, we converted the original text to lowercase and removed special characters. This is to ensure a more fair and accurate comparison."
   ]
  },
  {
   "cell_type": "code",
   "execution_count": 27,
   "id": "c4530789",
   "metadata": {},
   "outputs": [
    {
     "name": "stdout",
     "output_type": "stream",
     "text": [
      "in consequence i’m inclined to reserve all judgments a habit that has opened up many curious natures to me and also made me the victim of not a few veteran bores\n"
     ]
    }
   ],
   "source": [
    "eng_text = data['Formal_Text_1'].iloc[0]\n",
    "\n",
    "\n",
    "special_characters=[',','.',':','?','!', \"”\", \"“\"]\n",
    "for i in special_characters:\n",
    "    eng_text=eng_text.replace(i,\"\")\n",
    "    \n",
    "eng_text = eng_text.lower()\n",
    "print(eng_text)"
   ]
  },
  {
   "cell_type": "markdown",
   "id": "55714996",
   "metadata": {},
   "source": [
    "Then, converted to a list"
   ]
  },
  {
   "cell_type": "code",
   "execution_count": 28,
   "id": "9df7fd98",
   "metadata": {},
   "outputs": [
    {
     "name": "stdout",
     "output_type": "stream",
     "text": [
      "['in', 'consequence', 'i’m', 'inclined', 'to', 'reserve', 'all', 'judgments', 'a', 'habit', 'that', 'has', 'opened', 'up', 'many', 'curious', 'natures', 'to', 'me', 'and', 'also', 'made', 'me', 'the', 'victim', 'of', 'not', 'a', 'few', 'veteran', 'bores']\n"
     ]
    }
   ],
   "source": [
    "eng_text_words = eng_text.split(\" \")\n",
    "print(eng_text_words)"
   ]
  },
  {
   "cell_type": "markdown",
   "id": "a27bba0e",
   "metadata": {},
   "source": [
    "Next, converted the translated text to lowercase and removed special characters."
   ]
  },
  {
   "cell_type": "code",
   "execution_count": null,
   "id": "fe5b4f23",
   "metadata": {},
   "outputs": [],
   "source": [
    "translation_info = translate.translate_text(Text= text, SourceLanguageCode = \"auto\", TargetLanguageCode = \"en\")\n",
    "trans_text = translation_info['TranslatedText']\n"
   ]
  },
  {
   "cell_type": "code",
   "execution_count": 29,
   "id": "5359a29a",
   "metadata": {},
   "outputs": [
    {
     "name": "stdout",
     "output_type": "stream",
     "text": [
      "consequently i am a person willing to reserve all judgment a habit that has facilitated the knowledge of a large number of natural people but which has also made me the victim of more than one inveterate person\n"
     ]
    }
   ],
   "source": [
    "\n",
    "special_characters=[',','.',':','?','!', \"”\", \"“\"]\n",
    "for i in special_characters:\n",
    "    trans_text=trans_text.replace(i,\"\")\n",
    "    \n",
    "trans_text = trans_text.lower()\n",
    "print(trans_text)"
   ]
  },
  {
   "cell_type": "markdown",
   "id": "062884a8",
   "metadata": {},
   "source": [
    "Then, converted this to a list too"
   ]
  },
  {
   "cell_type": "code",
   "execution_count": 30,
   "id": "bbf2afc0",
   "metadata": {},
   "outputs": [
    {
     "name": "stdout",
     "output_type": "stream",
     "text": [
      "['consequently', 'i', 'am', 'a', 'person', 'willing', 'to', 'reserve', 'all', 'judgment', 'a', 'habit', 'that', 'has', 'facilitated', 'the', 'knowledge', 'of', 'a', 'large', 'number', 'of', 'natural', 'people', 'but', 'which', 'has', 'also', 'made', 'me', 'the', 'victim', 'of', 'more', 'than', 'one', 'inveterate', 'person']\n"
     ]
    }
   ],
   "source": [
    "trans_text_words = trans_text.split(\" \")\n",
    "print(trans_text_words)"
   ]
  },
  {
   "cell_type": "markdown",
   "id": "2611cd0e",
   "metadata": {},
   "source": [
    "Finally, we checked the percentage of words from translated text that matched the original text."
   ]
  },
  {
   "cell_type": "code",
   "execution_count": 31,
   "id": "716e2442",
   "metadata": {},
   "outputs": [
    {
     "name": "stdout",
     "output_type": "stream",
     "text": [
      "0.5\n"
     ]
    }
   ],
   "source": [
    "acc = 0\n",
    "tot = 0\n",
    "for word in trans_text_words:\n",
    "    if word in eng_text_words:\n",
    "        acc += 1\n",
    "    tot += 1\n",
    "    \n",
    "score = acc / tot\n",
    "print(score)"
   ]
  },
  {
   "cell_type": "markdown",
   "id": "985a0c77",
   "metadata": {},
   "source": [
    "We also checked the BLEU Score."
   ]
  },
  {
   "cell_type": "markdown",
   "id": "54856055",
   "metadata": {},
   "source": [
    "**2) BLEU Score**"
   ]
  },
  {
   "cell_type": "code",
   "execution_count": 32,
   "id": "65ec9c4b",
   "metadata": {},
   "outputs": [
    {
     "name": "stdout",
     "output_type": "stream",
     "text": [
      "BLEU score -> 0.2141634115480047\n"
     ]
    }
   ],
   "source": [
    "reference = [\n",
    "    trans_text.split()\n",
    "]\n",
    "\n",
    "candidate = eng_text.split()\n",
    "print('BLEU score -> {}'.format(sentence_bleu(reference, candidate)))"
   ]
  },
  {
   "cell_type": "markdown",
   "id": "e6a2300b",
   "metadata": {},
   "source": [
    "This indicates that the Spanish to English translation using the AWS API did not perform too well."
   ]
  },
  {
   "cell_type": "markdown",
   "id": "eef8d177",
   "metadata": {},
   "source": [
    "## French to English "
   ]
  },
  {
   "cell_type": "markdown",
   "id": "84609e44",
   "metadata": {},
   "source": [
    "The text in French is: En conséquence, je suis porté à réserver mes jugements, habitude qui m’a ouvert bien des natures curieuses, non sans me rendre victime de pas mal de raseurs invétérés."
   ]
  },
  {
   "cell_type": "markdown",
   "id": "acd69820",
   "metadata": {},
   "source": [
    "Retrieving and translating the text data"
   ]
  },
  {
   "cell_type": "code",
   "execution_count": 37,
   "id": "02e860f2",
   "metadata": {},
   "outputs": [
    {
     "data": {
      "text/plain": [
       "{'TranslatedText': 'As a result, I am inclined to reserve my judgments, a habit that has opened me up to many curious natures, not without making me the victim of a lot of inveterate razors.',\n",
       " 'SourceLanguageCode': 'fr',\n",
       " 'TargetLanguageCode': 'en',\n",
       " 'ResponseMetadata': {'RequestId': 'ea9d3523-3036-4151-89db-aa1736e36749',\n",
       "  'HTTPStatusCode': 200,\n",
       "  'HTTPHeaders': {'x-amzn-requestid': 'ea9d3523-3036-4151-89db-aa1736e36749',\n",
       "   'cache-control': 'no-cache',\n",
       "   'content-type': 'application/x-amz-json-1.1',\n",
       "   'content-length': '243',\n",
       "   'date': 'Fri, 25 Nov 2022 19:46:42 GMT'},\n",
       "  'RetryAttempts': 0}}"
      ]
     },
     "execution_count": 37,
     "metadata": {},
     "output_type": "execute_result"
    }
   ],
   "source": [
    "text = data['Formal_Text_1'].iloc[3]\n",
    "translate.translate_text(Text= text, SourceLanguageCode = \"auto\", TargetLanguageCode = \"en\")\n"
   ]
  },
  {
   "cell_type": "markdown",
   "id": "f2a497f0",
   "metadata": {},
   "source": [
    "**From above, the AWS translation is:** As a result, I am inclined to reserve my judgments, a habit that has opened me up to many curious natures, not without making me the victim of a lot of inveterate razors.'"
   ]
  },
  {
   "cell_type": "markdown",
   "id": "fdc4dcf7",
   "metadata": {},
   "source": [
    "### Qualitative Analysis:\n",
    "Based on our judgement as English speakers, we feel this translation was pretty accurate and conveyed the meaning relatively well. We would score it a 7/10."
   ]
  },
  {
   "cell_type": "markdown",
   "id": "57e308f7",
   "metadata": {},
   "source": [
    "### Quantitative Analysis:"
   ]
  },
  {
   "cell_type": "markdown",
   "id": "6b695fe9",
   "metadata": {},
   "source": [
    "**1) Percentage of words matching with original text** "
   ]
  },
  {
   "cell_type": "markdown",
   "id": "3b714926",
   "metadata": {},
   "source": [
    "First, we converted the original text to lowercase and removed special characters. This is to ensure a more fair and accurate comparison."
   ]
  },
  {
   "cell_type": "code",
   "execution_count": 35,
   "id": "01ea4776",
   "metadata": {},
   "outputs": [
    {
     "name": "stdout",
     "output_type": "stream",
     "text": [
      "in consequence i’m inclined to reserve all judgments a habit that has opened up many curious natures to me and also made me the victim of not a few veteran bores\n"
     ]
    }
   ],
   "source": [
    "eng_text = data['Formal_Text_1'].iloc[0]\n",
    "\n",
    "\n",
    "special_characters=[',','.',':','?','!', \"”\", \"“\"]\n",
    "for i in special_characters:\n",
    "    eng_text=eng_text.replace(i,\"\")\n",
    "    \n",
    "eng_text = eng_text.lower()\n",
    "print(eng_text)"
   ]
  },
  {
   "cell_type": "markdown",
   "id": "078d8621",
   "metadata": {},
   "source": [
    "Then, converted to a list"
   ]
  },
  {
   "cell_type": "code",
   "execution_count": 36,
   "id": "cc53dd96",
   "metadata": {},
   "outputs": [
    {
     "name": "stdout",
     "output_type": "stream",
     "text": [
      "['in', 'consequence', 'i’m', 'inclined', 'to', 'reserve', 'all', 'judgments', 'a', 'habit', 'that', 'has', 'opened', 'up', 'many', 'curious', 'natures', 'to', 'me', 'and', 'also', 'made', 'me', 'the', 'victim', 'of', 'not', 'a', 'few', 'veteran', 'bores']\n"
     ]
    }
   ],
   "source": [
    "eng_text_words = eng_text.split(\" \")\n",
    "print(eng_text_words)"
   ]
  },
  {
   "cell_type": "markdown",
   "id": "9ab0320b",
   "metadata": {},
   "source": [
    "Next, converted the translated text to lowercase and removed special characters."
   ]
  },
  {
   "cell_type": "code",
   "execution_count": 38,
   "id": "d19869c1",
   "metadata": {},
   "outputs": [],
   "source": [
    "translation_info = translate.translate_text(Text= text, SourceLanguageCode = \"auto\", TargetLanguageCode = \"en\")\n",
    "trans_text = translation_info['TranslatedText']\n"
   ]
  },
  {
   "cell_type": "code",
   "execution_count": 39,
   "id": "9af8ae9c",
   "metadata": {},
   "outputs": [
    {
     "name": "stdout",
     "output_type": "stream",
     "text": [
      "as a result i am inclined to reserve my judgments a habit that has opened me up to many curious natures not without making me the victim of a lot of inveterate razors\n"
     ]
    }
   ],
   "source": [
    "\n",
    "\n",
    "special_characters=[',','.',':','?','!', \"”\", \"“\"]\n",
    "for i in special_characters:\n",
    "    trans_text=trans_text.replace(i,\"\")\n",
    "    \n",
    "trans_text = trans_text.lower()\n",
    "print(trans_text)"
   ]
  },
  {
   "cell_type": "markdown",
   "id": "8bf4fd4e",
   "metadata": {},
   "source": [
    "Finally, we checked the percentage of words from translated text that matched the original text"
   ]
  },
  {
   "cell_type": "code",
   "execution_count": 40,
   "id": "b935ce83",
   "metadata": {},
   "outputs": [
    {
     "name": "stdout",
     "output_type": "stream",
     "text": [
      "0.5\n"
     ]
    }
   ],
   "source": [
    "acc = 0\n",
    "tot = 0\n",
    "for word in trans_text_words:\n",
    "    if word in eng_text_words:\n",
    "        acc += 1\n",
    "    tot += 1\n",
    "    \n",
    "score = acc / tot\n",
    "print(score)"
   ]
  },
  {
   "cell_type": "markdown",
   "id": "01d8b1dd",
   "metadata": {},
   "source": [
    "We also checked the BLEU Score."
   ]
  },
  {
   "cell_type": "markdown",
   "id": "e7b95dd2",
   "metadata": {},
   "source": [
    "**2) BLEU Score**"
   ]
  },
  {
   "cell_type": "code",
   "execution_count": 41,
   "id": "df827696",
   "metadata": {},
   "outputs": [
    {
     "name": "stdout",
     "output_type": "stream",
     "text": [
      "BLEU score -> 0.3013761541024282\n"
     ]
    }
   ],
   "source": [
    "reference = [\n",
    "    trans_text.split()\n",
    "]\n",
    "\n",
    "candidate = eng_text.split()\n",
    "print('BLEU score -> {}'.format(sentence_bleu(reference, candidate)))"
   ]
  },
  {
   "cell_type": "markdown",
   "id": "17814b75",
   "metadata": {},
   "source": [
    "This indicates that the French to English translation using the AWS API did not too perform well, but performed better with this text than the Chinese and Spanish to English translations.\n"
   ]
  },
  {
   "cell_type": "code",
   "execution_count": 81,
   "id": "0d160094-1aa7-4575-bbb8-dd8771cf5d1d",
   "metadata": {},
   "outputs": [],
   "source": [
    "# translated_text = translate.translate_text(Text=\"久而久之，我就惯于对所有的人都保留判断，这个习惯既使得许多有怪僻的人肯跟我讲心里话，也使我成为不少爱唠叨的惹人厌烦的人的受害者.\", SourceLanguageCode= \"auto\", TargetLanguageCode=\"en\")\n",
    "# chinese_text = translated_text['TranslatedText'].lower()\n"
   ]
  },
  {
   "cell_type": "markdown",
   "id": "89092dfb-593a-4d3f-bf9f-cb56bb415581",
   "metadata": {},
   "source": [
    "# Formal Text 2"
   ]
  },
  {
   "cell_type": "markdown",
   "id": "43e3abd9",
   "metadata": {},
   "source": [
    "**The original text in English is:** Almost any exhibition of complete self sufficiency draws a stunned tribute from me."
   ]
  },
  {
   "cell_type": "code",
   "execution_count": 44,
   "id": "65ca2e91",
   "metadata": {},
   "outputs": [],
   "source": [
    "eng_text = data['Formal_Text_2'].iloc[0]"
   ]
  },
  {
   "cell_type": "markdown",
   "id": "422e0c3d",
   "metadata": {},
   "source": [
    "## Chinese to English"
   ]
  },
  {
   "cell_type": "markdown",
   "id": "6f46e21b",
   "metadata": {},
   "source": [
    "**The text in Chinese is:** 这种几乎是完全我行我素的神情总是使我感到目瞪口呆，满心赞佩。"
   ]
  },
  {
   "cell_type": "markdown",
   "id": "078e9c48",
   "metadata": {},
   "source": [
    "Retrieving and translating the text data"
   ]
  },
  {
   "cell_type": "code",
   "execution_count": 49,
   "id": "1358b726",
   "metadata": {
    "scrolled": true
   },
   "outputs": [
    {
     "data": {
      "text/plain": [
       "{'TranslatedText': 'This almost completely self-serving look always left me amazed and full of admiration.',\n",
       " 'SourceLanguageCode': 'zh',\n",
       " 'TargetLanguageCode': 'en',\n",
       " 'ResponseMetadata': {'RequestId': '93321ac6-2496-431c-b3b7-a0e0ece07485',\n",
       "  'HTTPStatusCode': 200,\n",
       "  'HTTPHeaders': {'x-amzn-requestid': '93321ac6-2496-431c-b3b7-a0e0ece07485',\n",
       "   'cache-control': 'no-cache',\n",
       "   'content-type': 'application/x-amz-json-1.1',\n",
       "   'content-length': '159',\n",
       "   'date': 'Fri, 25 Nov 2022 19:53:03 GMT'},\n",
       "  'RetryAttempts': 0}}"
      ]
     },
     "execution_count": 49,
     "metadata": {},
     "output_type": "execute_result"
    }
   ],
   "source": [
    "text = data['Formal_Text_2'].iloc[1]\n",
    "translate.translate_text(Text= text, SourceLanguageCode = \"auto\", TargetLanguageCode = \"en\")"
   ]
  },
  {
   "cell_type": "markdown",
   "id": "9f4ff8c8",
   "metadata": {},
   "source": [
    "**From above, the AWS translation is:** This almost completely self-serving look always left me amazed and full of admiration."
   ]
  },
  {
   "cell_type": "markdown",
   "id": "1cf3c351",
   "metadata": {},
   "source": [
    "### Qualitative Analysis:"
   ]
  },
  {
   "cell_type": "markdown",
   "id": "c54c2f38",
   "metadata": {},
   "source": [
    "Based on our judgement as English speakers, we feel this translation was not extremely accurate and did not fully convey the meaning well enough. We would score it a 5/10."
   ]
  },
  {
   "cell_type": "markdown",
   "id": "c6140970",
   "metadata": {},
   "source": [
    "### Quantitative Analysis"
   ]
  },
  {
   "cell_type": "markdown",
   "id": "787b3324",
   "metadata": {},
   "source": [
    "**1) Percentage of words matching with original text**\n",
    "\n"
   ]
  },
  {
   "cell_type": "markdown",
   "id": "dc852fb9",
   "metadata": {},
   "source": [
    "First, we converted the original text to lowercase and removed special characters. This is to ensure a more fair and accurate comparison."
   ]
  },
  {
   "cell_type": "code",
   "execution_count": 46,
   "id": "a0837359",
   "metadata": {},
   "outputs": [],
   "source": [
    "eng_text = data['Formal_Text_2'].iloc[0]"
   ]
  },
  {
   "cell_type": "code",
   "execution_count": 47,
   "id": "4b85f2a3",
   "metadata": {},
   "outputs": [
    {
     "name": "stdout",
     "output_type": "stream",
     "text": [
      "almost any exhibition of complete self sufficiency draws a stunned tribute from me\n"
     ]
    }
   ],
   "source": [
    "special_characters=[',','.',':','?','!', \"”\", \"“\", \"— \"]\n",
    "\n",
    "for i in special_characters:\n",
    "    eng_text=eng_text.replace(i,\"\")\n",
    "    \n",
    "eng_text = eng_text.lower()\n",
    "print(eng_text)"
   ]
  },
  {
   "cell_type": "markdown",
   "id": "cf39f3e3",
   "metadata": {},
   "source": [
    "Then, converted to a list"
   ]
  },
  {
   "cell_type": "code",
   "execution_count": 48,
   "id": "cd08c758",
   "metadata": {},
   "outputs": [
    {
     "name": "stdout",
     "output_type": "stream",
     "text": [
      "['almost', 'any', 'exhibition', 'of', 'complete', 'self', 'sufficiency', 'draws', 'a', 'stunned', 'tribute', 'from', 'me']\n"
     ]
    }
   ],
   "source": [
    "eng_text_words = eng_text.split(\" \")\n",
    "print(eng_text_words)"
   ]
  },
  {
   "cell_type": "markdown",
   "id": "5b61d916",
   "metadata": {},
   "source": [
    "Next, converted the translated text to lowercase and removed special characters."
   ]
  },
  {
   "cell_type": "code",
   "execution_count": 51,
   "id": "992d124c",
   "metadata": {},
   "outputs": [
    {
     "data": {
      "text/plain": [
       "'This almost completely self-serving look always left me amazed and full of admiration.'"
      ]
     },
     "execution_count": 51,
     "metadata": {},
     "output_type": "execute_result"
    }
   ],
   "source": [
    "translation_info = translate.translate_text(Text= text, SourceLanguageCode = \"auto\", TargetLanguageCode = \"en\")\n",
    "trans_text = translation_info['TranslatedText']"
   ]
  },
  {
   "cell_type": "code",
   "execution_count": 52,
   "id": "2a7aa01e-dfda-4ab2-a5f8-d5971af22497",
   "metadata": {},
   "outputs": [
    {
     "name": "stdout",
     "output_type": "stream",
     "text": [
      "this almost completely self-serving look always left me amazed and full of admiration\n"
     ]
    }
   ],
   "source": [
    "special_characters=[',','.',':','?','!', \"”\", \"“\", \"— \"]\n",
    "for i in special_characters:\n",
    "    trans_text=trans_text.replace(i,\"\")\n",
    "    \n",
    "trans_text = trans_text.lower()\n",
    "print(trans_text)"
   ]
  },
  {
   "cell_type": "markdown",
   "id": "6553b1a1",
   "metadata": {},
   "source": [
    "Then, converted this to a list too."
   ]
  },
  {
   "cell_type": "code",
   "execution_count": 53,
   "id": "26aa876e",
   "metadata": {},
   "outputs": [
    {
     "name": "stdout",
     "output_type": "stream",
     "text": [
      "['this', 'almost', 'completely', 'self-serving', 'look', 'always', 'left', 'me', 'amazed', 'and', 'full', 'of', 'admiration']\n"
     ]
    }
   ],
   "source": [
    "trans_text_words = trans_text.split(\" \")\n",
    "print(trans_text_words)"
   ]
  },
  {
   "cell_type": "markdown",
   "id": "09c8c6a9",
   "metadata": {},
   "source": [
    "Finally, we checked the percentage of words from translated text that matched the original text."
   ]
  },
  {
   "cell_type": "code",
   "execution_count": 54,
   "id": "78ba3490",
   "metadata": {},
   "outputs": [
    {
     "name": "stdout",
     "output_type": "stream",
     "text": [
      "0.23076923076923078\n"
     ]
    }
   ],
   "source": [
    "acc = 0\n",
    "tot = 0\n",
    "for word in trans_text_words:\n",
    "    if word in eng_text_words:\n",
    "        acc += 1\n",
    "    tot += 1\n",
    "    \n",
    "score = acc / tot\n",
    "print(score)"
   ]
  },
  {
   "cell_type": "markdown",
   "id": "26620651",
   "metadata": {},
   "source": [
    "We also checked the BLEU Score."
   ]
  },
  {
   "cell_type": "markdown",
   "id": "9e227f01",
   "metadata": {},
   "source": [
    "**2) BLEU Score**"
   ]
  },
  {
   "cell_type": "code",
   "execution_count": 55,
   "id": "38fb9c1d",
   "metadata": {},
   "outputs": [
    {
     "name": "stdout",
     "output_type": "stream",
     "text": [
      "BLEU score -> 1.2627076138080564e-231\n"
     ]
    },
    {
     "name": "stderr",
     "output_type": "stream",
     "text": [
      "/home/ec2-user/anaconda3/envs/python3/lib/python3.8/site-packages/nltk/translate/bleu_score.py:552: UserWarning: \n",
      "The hypothesis contains 0 counts of 2-gram overlaps.\n",
      "Therefore the BLEU score evaluates to 0, independently of\n",
      "how many N-gram overlaps of lower order it contains.\n",
      "Consider using lower n-gram order or use SmoothingFunction()\n",
      "  warnings.warn(_msg)\n",
      "/home/ec2-user/anaconda3/envs/python3/lib/python3.8/site-packages/nltk/translate/bleu_score.py:552: UserWarning: \n",
      "The hypothesis contains 0 counts of 3-gram overlaps.\n",
      "Therefore the BLEU score evaluates to 0, independently of\n",
      "how many N-gram overlaps of lower order it contains.\n",
      "Consider using lower n-gram order or use SmoothingFunction()\n",
      "  warnings.warn(_msg)\n"
     ]
    }
   ],
   "source": [
    "reference = [\n",
    "    trans_text.split()\n",
    "]\n",
    "\n",
    "candidate = eng_text.split()\n",
    "print('BLEU score -> {}'.format(sentence_bleu(reference, candidate)))"
   ]
  },
  {
   "cell_type": "markdown",
   "id": "cd3f893a",
   "metadata": {},
   "source": [
    "This indicates that the Chinese to English translation using the AWS API did not perform well."
   ]
  },
  {
   "cell_type": "markdown",
   "id": "db2fdea4",
   "metadata": {},
   "source": [
    "## Spanish to English "
   ]
  },
  {
   "cell_type": "markdown",
   "id": "a62a4d9c",
   "metadata": {},
   "source": [
    "**The text in Spanish is:** Casi cualquier exhibición de total autosuficiencia arranca de mí un atónito tributo."
   ]
  },
  {
   "cell_type": "markdown",
   "id": "a889b52a",
   "metadata": {},
   "source": [
    "Retrieving and translating the text data"
   ]
  },
  {
   "cell_type": "code",
   "execution_count": 57,
   "id": "decbc608",
   "metadata": {},
   "outputs": [
    {
     "data": {
      "text/plain": [
       "{'TranslatedText': 'Almost any display of total self-sufficiency draws an astonished tribute from me.',\n",
       " 'SourceLanguageCode': 'es',\n",
       " 'TargetLanguageCode': 'en',\n",
       " 'ResponseMetadata': {'RequestId': '997a4bdd-2b47-4759-8e4f-18a0fde0da38',\n",
       "  'HTTPStatusCode': 200,\n",
       "  'HTTPHeaders': {'x-amzn-requestid': '997a4bdd-2b47-4759-8e4f-18a0fde0da38',\n",
       "   'cache-control': 'no-cache',\n",
       "   'content-type': 'application/x-amz-json-1.1',\n",
       "   'content-length': '154',\n",
       "   'date': 'Fri, 25 Nov 2022 19:54:37 GMT'},\n",
       "  'RetryAttempts': 0}}"
      ]
     },
     "execution_count": 57,
     "metadata": {},
     "output_type": "execute_result"
    }
   ],
   "source": [
    "text = data['Formal_Text_2'].iloc[2]\n",
    "translate.translate_text(Text= text, SourceLanguageCode = \"auto\", TargetLanguageCode = \"en\")"
   ]
  },
  {
   "cell_type": "markdown",
   "id": "785e407c",
   "metadata": {},
   "source": [
    "**From above, the AWS translation is:** 'Almost any display of total self-sufficiency draws an astonished tribute from me.'"
   ]
  },
  {
   "cell_type": "markdown",
   "id": "7bd9a3fc",
   "metadata": {},
   "source": [
    "### Qualitative Analysis"
   ]
  },
  {
   "cell_type": "markdown",
   "id": "498a41da",
   "metadata": {},
   "source": [
    "Based on our judgement as English speakers, we feel this translation was very accurate and did convey the meaning well enough. We would score it a 9/10."
   ]
  },
  {
   "cell_type": "markdown",
   "id": "c9ccb991",
   "metadata": {},
   "source": [
    "### Quantitative Analysis"
   ]
  },
  {
   "cell_type": "markdown",
   "id": "b17039bc",
   "metadata": {},
   "source": [
    "**1) Percentage of words matching with original text**"
   ]
  },
  {
   "cell_type": "markdown",
   "id": "a883961f",
   "metadata": {},
   "source": [
    "First, we converted the original text to lowercase and removed special characters. This is to ensure a more fair and accurate comparison."
   ]
  },
  {
   "cell_type": "code",
   "execution_count": 58,
   "id": "ef22e277",
   "metadata": {},
   "outputs": [
    {
     "name": "stdout",
     "output_type": "stream",
     "text": [
      "almost any exhibition of complete self sufficiency draws a stunned tribute from me\n"
     ]
    }
   ],
   "source": [
    "eng_text = data['Formal_Text_2'].iloc[0]\n",
    "\n",
    "\n",
    "special_characters=[',','.',':','?','!', \"”\", \"“\"]\n",
    "for i in special_characters:\n",
    "    eng_text=eng_text.replace(i,\"\")\n",
    "    \n",
    "eng_text = eng_text.lower()\n",
    "print(eng_text)"
   ]
  },
  {
   "cell_type": "markdown",
   "id": "32150b19",
   "metadata": {},
   "source": [
    "Then, converted to a list"
   ]
  },
  {
   "cell_type": "code",
   "execution_count": 106,
   "id": "56f67d3d",
   "metadata": {},
   "outputs": [
    {
     "name": "stdout",
     "output_type": "stream",
     "text": [
      "['almost', 'any', 'exhibition', 'of', 'complete', 'self', 'sufficiency', 'draws', 'a', 'stunned', 'tribute', 'from', 'me']\n"
     ]
    }
   ],
   "source": [
    "eng_text_words = eng_text.split(\" \")\n",
    "print(eng_text_words)"
   ]
  },
  {
   "cell_type": "markdown",
   "id": "b700812e",
   "metadata": {},
   "source": [
    "Next, converted the translated text to lowercase and removed special characters."
   ]
  },
  {
   "cell_type": "code",
   "execution_count": 59,
   "id": "414ce5dc",
   "metadata": {},
   "outputs": [],
   "source": [
    "translation_info = translate.translate_text(Text= text, SourceLanguageCode = \"auto\", TargetLanguageCode = \"en\")\n",
    "trans_text = translation_info['TranslatedText']"
   ]
  },
  {
   "cell_type": "code",
   "execution_count": 60,
   "id": "5d41dbea",
   "metadata": {},
   "outputs": [
    {
     "name": "stdout",
     "output_type": "stream",
     "text": [
      "almost any display of total self-sufficiency draws an astonished tribute from me\n"
     ]
    }
   ],
   "source": [
    "\n",
    "special_characters=[',','.',':','?','!', \"”\", \"“\"]\n",
    "for i in special_characters:\n",
    "    trans_text=trans_text.replace(i,\"\")\n",
    "    \n",
    "trans_text = trans_text.lower()\n",
    "print(trans_text)"
   ]
  },
  {
   "cell_type": "markdown",
   "id": "56413e9c",
   "metadata": {},
   "source": [
    "Then, converted this to a list too."
   ]
  },
  {
   "cell_type": "code",
   "execution_count": 61,
   "id": "730f2932",
   "metadata": {},
   "outputs": [
    {
     "name": "stdout",
     "output_type": "stream",
     "text": [
      "['almost', 'any', 'display', 'of', 'total', 'self-sufficiency', 'draws', 'an', 'astonished', 'tribute', 'from', 'me']\n"
     ]
    }
   ],
   "source": [
    "trans_text_words = trans_text.split(\" \")\n",
    "print(trans_text_words)"
   ]
  },
  {
   "cell_type": "markdown",
   "id": "414ebfbe",
   "metadata": {},
   "source": [
    "Finally, we checked the percentage of words from translated text that matched the original text."
   ]
  },
  {
   "cell_type": "code",
   "execution_count": 62,
   "id": "0c3151a5",
   "metadata": {},
   "outputs": [
    {
     "name": "stdout",
     "output_type": "stream",
     "text": [
      "0.5833333333333334\n"
     ]
    }
   ],
   "source": [
    "acc = 0\n",
    "tot = 0\n",
    "for word in trans_text_words:\n",
    "    if word in eng_text_words:\n",
    "        acc += 1\n",
    "    tot += 1\n",
    "    \n",
    "score = acc / tot\n",
    "print(score)"
   ]
  },
  {
   "cell_type": "markdown",
   "id": "8edd82f0",
   "metadata": {},
   "source": [
    "We also checked the BLEU Score."
   ]
  },
  {
   "cell_type": "markdown",
   "id": "cded1547",
   "metadata": {},
   "source": [
    "**2) BLEU Score**"
   ]
  },
  {
   "cell_type": "code",
   "execution_count": 63,
   "id": "411f89ea",
   "metadata": {},
   "outputs": [
    {
     "name": "stdout",
     "output_type": "stream",
     "text": [
      "BLEU score -> 4.0622028886850106e-78\n"
     ]
    }
   ],
   "source": [
    "reference = [\n",
    "    trans_text.split()\n",
    "]\n",
    "\n",
    "candidate = eng_text.split()\n",
    "print('BLEU score -> {}'.format(sentence_bleu(reference, candidate)))"
   ]
  },
  {
   "cell_type": "markdown",
   "id": "1e58f07f",
   "metadata": {},
   "source": [
    "This indicates that the Spanish to English translation using the AWS API did not perform well."
   ]
  },
  {
   "cell_type": "markdown",
   "id": "0f392ffd",
   "metadata": {},
   "source": [
    "## French to English "
   ]
  },
  {
   "cell_type": "markdown",
   "id": "1b57cfb6",
   "metadata": {},
   "source": [
    "**The text in French is:** N’importe quelle exhibition d’assurance m’extorque un tribut étonné."
   ]
  },
  {
   "cell_type": "markdown",
   "id": "01027ec8",
   "metadata": {},
   "source": [
    "Retrieving and translating the text data"
   ]
  },
  {
   "cell_type": "code",
   "execution_count": 65,
   "id": "a3e3322f-e343-4945-93ae-e29bf33a322b",
   "metadata": {},
   "outputs": [
    {
     "data": {
      "text/plain": [
       "{'TranslatedText': 'Any insurance show extorts an astonishing tribute from me.',\n",
       " 'SourceLanguageCode': 'fr',\n",
       " 'TargetLanguageCode': 'en',\n",
       " 'ResponseMetadata': {'RequestId': 'd7ebf606-1732-4fd2-a8f2-b042b1e9020b',\n",
       "  'HTTPStatusCode': 200,\n",
       "  'HTTPHeaders': {'x-amzn-requestid': 'd7ebf606-1732-4fd2-a8f2-b042b1e9020b',\n",
       "   'cache-control': 'no-cache',\n",
       "   'content-type': 'application/x-amz-json-1.1',\n",
       "   'content-length': '131',\n",
       "   'date': 'Fri, 25 Nov 2022 19:57:06 GMT'},\n",
       "  'RetryAttempts': 0}}"
      ]
     },
     "execution_count": 65,
     "metadata": {},
     "output_type": "execute_result"
    }
   ],
   "source": [
    "text = data['Formal_Text_2'].iloc[3]\n",
    "translate.translate_text(Text= text, SourceLanguageCode = \"auto\", TargetLanguageCode = \"en\")"
   ]
  },
  {
   "cell_type": "markdown",
   "id": "bd181edf",
   "metadata": {},
   "source": [
    "**From above, the AWS translation is:** Any insurance show extorts an astonishing tribute from me.'"
   ]
  },
  {
   "cell_type": "markdown",
   "id": "4796930e",
   "metadata": {},
   "source": [
    "### Qualitative Analysis"
   ]
  },
  {
   "cell_type": "markdown",
   "id": "17f1af3c",
   "metadata": {},
   "source": [
    "Based on our judgement as English speakers, we feel this translation was not accurate and did not convey the meaning well enough. We would score it a 5/10."
   ]
  },
  {
   "cell_type": "markdown",
   "id": "7bfe9895",
   "metadata": {},
   "source": [
    "### Quantitative Analysis"
   ]
  },
  {
   "cell_type": "markdown",
   "id": "6626d13a",
   "metadata": {},
   "source": [
    "**1) Percentage of words matching with original text**"
   ]
  },
  {
   "cell_type": "markdown",
   "id": "af11634b",
   "metadata": {},
   "source": [
    "First, we converted the original text to lowercase and removed special characters. This is to ensure a more fair and accurate comparison."
   ]
  },
  {
   "cell_type": "code",
   "execution_count": 66,
   "id": "d09a50fb",
   "metadata": {},
   "outputs": [
    {
     "name": "stdout",
     "output_type": "stream",
     "text": [
      "almost any exhibition of complete self sufficiency draws a stunned tribute from me\n"
     ]
    }
   ],
   "source": [
    "eng_text = data['Formal_Text_2'].iloc[0]\n",
    "\n",
    "special_characters=[',','.',':','?','!', \"”\", \"“\"]\n",
    "for i in special_characters:\n",
    "    eng_text=eng_text.replace(i,\"\")\n",
    "    \n",
    "eng_text = eng_text.lower()\n",
    "print(eng_text)"
   ]
  },
  {
   "cell_type": "markdown",
   "id": "30e5f85b",
   "metadata": {},
   "source": [
    "Then, converted to a list"
   ]
  },
  {
   "cell_type": "code",
   "execution_count": 67,
   "id": "18bddac9",
   "metadata": {},
   "outputs": [
    {
     "name": "stdout",
     "output_type": "stream",
     "text": [
      "['almost', 'any', 'exhibition', 'of', 'complete', 'self', 'sufficiency', 'draws', 'a', 'stunned', 'tribute', 'from', 'me']\n"
     ]
    }
   ],
   "source": [
    "eng_text_words = eng_text.split(\" \")\n",
    "print(eng_text_words)"
   ]
  },
  {
   "cell_type": "markdown",
   "id": "71b0b80b",
   "metadata": {},
   "source": [
    "Next, converted the translated text to lowercase and removed special characters."
   ]
  },
  {
   "cell_type": "code",
   "execution_count": 68,
   "id": "f658e20c",
   "metadata": {},
   "outputs": [
    {
     "data": {
      "text/plain": [
       "'Any insurance show extorts an astonishing tribute from me.'"
      ]
     },
     "execution_count": 68,
     "metadata": {},
     "output_type": "execute_result"
    }
   ],
   "source": [
    "translation_info = translate.translate_text(Text= text, SourceLanguageCode = \"auto\", TargetLanguageCode = \"en\")\n",
    "trans_text = translation_info['TranslatedText']"
   ]
  },
  {
   "cell_type": "code",
   "execution_count": 69,
   "id": "6f344d99",
   "metadata": {},
   "outputs": [
    {
     "name": "stdout",
     "output_type": "stream",
     "text": [
      "any insurance show extorts an astonishing tribute from me\n"
     ]
    }
   ],
   "source": [
    "special_characters=[',','.',':','?','!', \"”\", \"“\"]\n",
    "for i in special_characters:\n",
    "    trans_text=trans_text.replace(i,\"\")\n",
    "    \n",
    "trans_text = trans_text.lower()\n",
    "print(trans_text)"
   ]
  },
  {
   "cell_type": "markdown",
   "id": "73b6bc47",
   "metadata": {},
   "source": [
    "Then, converted this to a list too."
   ]
  },
  {
   "cell_type": "code",
   "execution_count": 70,
   "id": "df8a57a4",
   "metadata": {},
   "outputs": [
    {
     "name": "stdout",
     "output_type": "stream",
     "text": [
      "['any', 'insurance', 'show', 'extorts', 'an', 'astonishing', 'tribute', 'from', 'me']\n"
     ]
    }
   ],
   "source": [
    "trans_text_words = trans_text.split(\" \")\n",
    "print(trans_text_words)"
   ]
  },
  {
   "cell_type": "markdown",
   "id": "1dc8b244",
   "metadata": {},
   "source": [
    "Finally, we checked the percentage of words from translated text that matched the original text."
   ]
  },
  {
   "cell_type": "code",
   "execution_count": 71,
   "id": "3e5d91db",
   "metadata": {},
   "outputs": [
    {
     "name": "stdout",
     "output_type": "stream",
     "text": [
      "0.4444444444444444\n"
     ]
    }
   ],
   "source": [
    "acc = 0\n",
    "tot = 0\n",
    "for word in trans_text_words:\n",
    "    if word in eng_text_words:\n",
    "        acc += 1\n",
    "    tot += 1\n",
    "    \n",
    "score = acc / tot\n",
    "print(score)"
   ]
  },
  {
   "cell_type": "markdown",
   "id": "0338c4a6",
   "metadata": {},
   "source": [
    "We also checked the BLEU Score."
   ]
  },
  {
   "cell_type": "markdown",
   "id": "54af5685",
   "metadata": {},
   "source": [
    "**2) BLEU Score**"
   ]
  },
  {
   "cell_type": "code",
   "execution_count": 72,
   "id": "e59207fa",
   "metadata": {},
   "outputs": [
    {
     "name": "stdout",
     "output_type": "stream",
     "text": [
      "BLEU score -> 3.191385619211647e-78\n"
     ]
    }
   ],
   "source": [
    "reference = [\n",
    "    trans_text.split()\n",
    "]\n",
    "\n",
    "candidate = eng_text.split()\n",
    "print('BLEU score -> {}'.format(sentence_bleu(reference, candidate)))"
   ]
  },
  {
   "cell_type": "markdown",
   "id": "2ea8aa04",
   "metadata": {},
   "source": [
    "This indicates that the French to English translation using the AWS API did not perform well."
   ]
  },
  {
   "cell_type": "code",
   "execution_count": null,
   "id": "28d6c818",
   "metadata": {},
   "outputs": [],
   "source": []
  }
 ],
 "metadata": {
  "kernelspec": {
   "display_name": "conda_python3",
   "language": "python",
   "name": "conda_python3"
  },
  "language_info": {
   "codemirror_mode": {
    "name": "ipython",
    "version": 3
   },
   "file_extension": ".py",
   "mimetype": "text/x-python",
   "name": "python",
   "nbconvert_exporter": "python",
   "pygments_lexer": "ipython3",
   "version": "3.8.12"
  }
 },
 "nbformat": 4,
 "nbformat_minor": 5
}
